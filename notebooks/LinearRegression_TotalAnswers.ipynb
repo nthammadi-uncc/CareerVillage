{
 "cells": [
  {
   "cell_type": "markdown",
   "id": "802995bf",
   "metadata": {},
   "source": [
    "RELATIONSHIP BETWEEN VARIABLES TO PREDICT QUESTIONS ANSWERED AFTER EMAIL NOTIFICATION IS SENT"
   ]
  },
  {
   "cell_type": "code",
   "execution_count": null,
   "id": "a9a7590f",
   "metadata": {},
   "outputs": [],
   "source": [
    "#importing libraries\n",
    "import pandas as pd\n",
    "import numpy as np\n",
    "import datetime"
   ]
  },
  {
   "cell_type": "code",
   "execution_count": 454,
   "id": "03ee2f7e",
   "metadata": {},
   "outputs": [],
   "source": [
    "#reading data\n",
    "ques=pd.read_csv(\"questions.csv\")\n",
    "ans = pd.read_csv(\"answers_metrics.csv\")"
   ]
  },
  {
   "cell_type": "code",
   "execution_count": 455,
   "id": "a23e08bc",
   "metadata": {},
   "outputs": [],
   "source": [
    "#merging questions dataset with answer_metrics to get sentiment score\n",
    "ques_ans = ques.merge(ans, left_on='questions_id', right_on='answers_question_id', how='left',suffixes=('', '_drop'))\n",
    "ques_ans.drop([col for col in ques_ans.columns if 'drop' in col], axis=1, inplace=True)\n"
   ]
  },
  {
   "cell_type": "code",
   "execution_count": 456,
   "id": "b317d66a",
   "metadata": {},
   "outputs": [],
   "source": [
    "#formatting dates\n",
    "ques_ans['first_email_sent'] = ques_ans['first_email_sent'].str[:19]\n",
    "ques_ans['first_answer_posted'] = ques_ans['first_answer_posted'].str[:19]\n",
    "ques_ans['questions_date_added'] = ques_ans['questions_date_added'].str[:19]\n",
    "\n",
    "ques_ans['first_email_sent'] = pd.to_datetime(ques_ans['first_email_sent'], format='%Y-%m-%d %H:%M:%S')\n",
    "ques_ans['first_answer_posted'] = pd.to_datetime(ques_ans['first_answer_posted'], format='%Y-%m-%d %H:%M:%S')\n",
    "ques_ans['questions_date_added'] = pd.to_datetime(ques_ans['questions_date_added'], format='%Y-%m-%d %H:%M:%S')"
   ]
  },
  {
   "cell_type": "code",
   "execution_count": 457,
   "id": "44de6010",
   "metadata": {},
   "outputs": [],
   "source": [
    "#calculating time difference between first email sent and first answer posted\n",
    "ques_ans['diff_hours'] = ques_ans['first_answer_posted'] - ques_ans['first_email_sent']\n",
    "ques_ans['diff_hours']=ques_ans['diff_hours']/np.timedelta64(1,'h')"
   ]
  },
  {
   "cell_type": "code",
   "execution_count": 458,
   "id": "4b0b2b63",
   "metadata": {},
   "outputs": [],
   "source": [
    "#dataframe where answers are posted without any email notifications sent to the professionals\n",
    "ques_ans_withoutemails = ques_ans[ques_ans['first_email_sent'] > ques_ans['first_answer_posted']]"
   ]
  },
  {
   "cell_type": "code",
   "execution_count": 459,
   "id": "42b99cee",
   "metadata": {},
   "outputs": [],
   "source": [
    "#dataframe where answers are posted only after atleast one email is sent to the professionals\n",
    "ques_ans_withemails = pd.concat([ques_ans, ques_ans_withoutemails, ques_ans_withoutemails]).drop_duplicates(keep=False)"
   ]
  },
  {
   "cell_type": "code",
   "execution_count": 460,
   "id": "4959de68",
   "metadata": {},
   "outputs": [
    {
     "data": {
      "text/plain": [
       "Unnamed: 0                       0.000000\n",
       "questions_id                     0.000000\n",
       "questions_author_id              0.000000\n",
       "questions_date_added             0.000000\n",
       "questions_title                  0.000000\n",
       "questions_body                   0.000000\n",
       "question_score                   0.000000\n",
       "all_tags                         3.330947\n",
       "tag_count                        0.000000\n",
       "emails_sent_count                0.000000\n",
       "professionals_notified_count     0.000000\n",
       "first_email_sent                 9.287489\n",
       "last_email_sent                  9.287489\n",
       "total_answers                    0.000000\n",
       "first_answer_posted              1.728639\n",
       "last_answer_posted               1.728639\n",
       "total_comments                   0.000000\n",
       "first_comment_posted            68.294943\n",
       "last_comment_posted             94.035036\n",
       "students_location                4.804817\n",
       "students_date_joined             0.869584\n",
       "answers_id                       1.728639\n",
       "answers_date_added               1.728639\n",
       "answers_question_id              1.728639\n",
       "answers_author_id                1.728639\n",
       "professionals_location           9.169579\n",
       "Pro_industry_category           19.667748\n",
       "answer_tag_sim_index             1.728639\n",
       "answer_score                     1.728639\n",
       "sentiment_score                  1.728639\n",
       "sentiment_category               1.728639\n",
       "Dominant_Topic                   1.728639\n",
       "Topic_Perc_Contrib               1.728639\n",
       "diff_hours                      10.687666\n",
       "dtype: float64"
      ]
     },
     "execution_count": 460,
     "metadata": {},
     "output_type": "execute_result"
    }
   ],
   "source": [
    "#checking percentage of null values\n",
    "ques_ans_withemails.isnull().sum() / ques_ans_withemails.shape[0] * 100"
   ]
  },
  {
   "cell_type": "code",
   "execution_count": 461,
   "id": "b0ae890f",
   "metadata": {},
   "outputs": [],
   "source": [
    "#handling null values\n",
    "ques_ans_withemails = ques_ans_withemails.drop(columns=['first_comment_posted','last_comment_posted', 'Pro_industry_category'])\n",
    "\n",
    "ques_ans_withemails = ques_ans_withemails.dropna(subset=['all_tags','first_email_sent','last_email_sent','first_answer_posted',\n",
    "                                                         'last_answer_posted','students_location','students_date_joined','answers_id',\n",
    "                                                         'answers_date_added','answers_question_id','answers_author_id',\n",
    "                                                         'professionals_location','answer_tag_sim_index','answer_score','sentiment_score','sentiment_category','Dominant_Topic',\n",
    "                                                        'Topic_Perc_Contrib','diff_hours'])\n"
   ]
  },
  {
   "cell_type": "code",
   "execution_count": 462,
   "id": "7770282b",
   "metadata": {},
   "outputs": [
    {
     "data": {
      "text/plain": [
       "Unnamed: 0                      0.0\n",
       "questions_id                    0.0\n",
       "questions_author_id             0.0\n",
       "questions_date_added            0.0\n",
       "questions_title                 0.0\n",
       "questions_body                  0.0\n",
       "question_score                  0.0\n",
       "all_tags                        0.0\n",
       "tag_count                       0.0\n",
       "emails_sent_count               0.0\n",
       "professionals_notified_count    0.0\n",
       "first_email_sent                0.0\n",
       "last_email_sent                 0.0\n",
       "total_answers                   0.0\n",
       "first_answer_posted             0.0\n",
       "last_answer_posted              0.0\n",
       "total_comments                  0.0\n",
       "students_location               0.0\n",
       "students_date_joined            0.0\n",
       "answers_id                      0.0\n",
       "answers_date_added              0.0\n",
       "answers_question_id             0.0\n",
       "answers_author_id               0.0\n",
       "professionals_location          0.0\n",
       "answer_tag_sim_index            0.0\n",
       "answer_score                    0.0\n",
       "sentiment_score                 0.0\n",
       "sentiment_category              0.0\n",
       "Dominant_Topic                  0.0\n",
       "Topic_Perc_Contrib              0.0\n",
       "diff_hours                      0.0\n",
       "dtype: float64"
      ]
     },
     "execution_count": 462,
     "metadata": {},
     "output_type": "execute_result"
    }
   ],
   "source": [
    "#checking percentage of null values\n",
    "ques_ans_withemails.isnull().sum() / ques_ans_withemails.shape[0] * 100"
   ]
  },
  {
   "cell_type": "code",
   "execution_count": 463,
   "id": "eb647d32",
   "metadata": {},
   "outputs": [
    {
     "name": "stdout",
     "output_type": "stream",
     "text": [
      "Unnamed: 0\n",
      "questions_id\n",
      "questions_author_id\n",
      "questions_date_added\n",
      "questions_title\n",
      "questions_body\n",
      "question_score\n",
      "all_tags\n",
      "tag_count\n",
      "emails_sent_count\n",
      "professionals_notified_count\n",
      "first_email_sent\n",
      "last_email_sent\n",
      "total_answers\n",
      "first_answer_posted\n",
      "last_answer_posted\n",
      "total_comments\n",
      "students_location\n",
      "students_date_joined\n",
      "answers_id\n",
      "answers_date_added\n",
      "answers_question_id\n",
      "answers_author_id\n",
      "professionals_location\n",
      "answer_tag_sim_index\n",
      "answer_score\n",
      "sentiment_score\n",
      "sentiment_category\n",
      "Dominant_Topic\n",
      "Topic_Perc_Contrib\n",
      "diff_hours\n"
     ]
    }
   ],
   "source": [
    "for col in ques_ans_withemails.columns:\n",
    "    print(col)"
   ]
  },
  {
   "cell_type": "code",
   "execution_count": 464,
   "id": "cc4fc15f",
   "metadata": {},
   "outputs": [
    {
     "data": {
      "text/html": [
       "<div>\n",
       "<style scoped>\n",
       "    .dataframe tbody tr th:only-of-type {\n",
       "        vertical-align: middle;\n",
       "    }\n",
       "\n",
       "    .dataframe tbody tr th {\n",
       "        vertical-align: top;\n",
       "    }\n",
       "\n",
       "    .dataframe thead th {\n",
       "        text-align: right;\n",
       "    }\n",
       "</style>\n",
       "<table border=\"1\" class=\"dataframe\">\n",
       "  <thead>\n",
       "    <tr style=\"text-align: right;\">\n",
       "      <th></th>\n",
       "      <th>question_score</th>\n",
       "      <th>tag_count</th>\n",
       "      <th>emails_sent_count</th>\n",
       "      <th>total_answers</th>\n",
       "      <th>total_comments</th>\n",
       "      <th>answer_score</th>\n",
       "      <th>sentiment_score</th>\n",
       "    </tr>\n",
       "  </thead>\n",
       "  <tbody>\n",
       "    <tr>\n",
       "      <th>0</th>\n",
       "      <td>1.0</td>\n",
       "      <td>3.0</td>\n",
       "      <td>200.0</td>\n",
       "      <td>1.0</td>\n",
       "      <td>1.0</td>\n",
       "      <td>0.0</td>\n",
       "      <td>0.481070</td>\n",
       "    </tr>\n",
       "    <tr>\n",
       "      <th>1</th>\n",
       "      <td>5.0</td>\n",
       "      <td>2.0</td>\n",
       "      <td>62.0</td>\n",
       "      <td>2.0</td>\n",
       "      <td>0.0</td>\n",
       "      <td>0.0</td>\n",
       "      <td>1.248724</td>\n",
       "    </tr>\n",
       "    <tr>\n",
       "      <th>2</th>\n",
       "      <td>5.0</td>\n",
       "      <td>2.0</td>\n",
       "      <td>62.0</td>\n",
       "      <td>2.0</td>\n",
       "      <td>0.0</td>\n",
       "      <td>0.0</td>\n",
       "      <td>1.285241</td>\n",
       "    </tr>\n",
       "    <tr>\n",
       "      <th>6</th>\n",
       "      <td>2.0</td>\n",
       "      <td>4.0</td>\n",
       "      <td>320.0</td>\n",
       "      <td>2.0</td>\n",
       "      <td>0.0</td>\n",
       "      <td>0.0</td>\n",
       "      <td>0.360555</td>\n",
       "    </tr>\n",
       "    <tr>\n",
       "      <th>7</th>\n",
       "      <td>2.0</td>\n",
       "      <td>4.0</td>\n",
       "      <td>320.0</td>\n",
       "      <td>2.0</td>\n",
       "      <td>0.0</td>\n",
       "      <td>0.0</td>\n",
       "      <td>0.242536</td>\n",
       "    </tr>\n",
       "    <tr>\n",
       "      <th>...</th>\n",
       "      <td>...</td>\n",
       "      <td>...</td>\n",
       "      <td>...</td>\n",
       "      <td>...</td>\n",
       "      <td>...</td>\n",
       "      <td>...</td>\n",
       "      <td>...</td>\n",
       "    </tr>\n",
       "    <tr>\n",
       "      <th>51939</th>\n",
       "      <td>4.0</td>\n",
       "      <td>2.0</td>\n",
       "      <td>38.0</td>\n",
       "      <td>4.0</td>\n",
       "      <td>0.0</td>\n",
       "      <td>0.0</td>\n",
       "      <td>0.472456</td>\n",
       "    </tr>\n",
       "    <tr>\n",
       "      <th>51940</th>\n",
       "      <td>10.0</td>\n",
       "      <td>4.0</td>\n",
       "      <td>190.0</td>\n",
       "      <td>4.0</td>\n",
       "      <td>3.0</td>\n",
       "      <td>1.0</td>\n",
       "      <td>0.750851</td>\n",
       "    </tr>\n",
       "    <tr>\n",
       "      <th>51941</th>\n",
       "      <td>10.0</td>\n",
       "      <td>4.0</td>\n",
       "      <td>190.0</td>\n",
       "      <td>4.0</td>\n",
       "      <td>3.0</td>\n",
       "      <td>1.0</td>\n",
       "      <td>1.171557</td>\n",
       "    </tr>\n",
       "    <tr>\n",
       "      <th>51942</th>\n",
       "      <td>10.0</td>\n",
       "      <td>4.0</td>\n",
       "      <td>190.0</td>\n",
       "      <td>4.0</td>\n",
       "      <td>3.0</td>\n",
       "      <td>2.0</td>\n",
       "      <td>0.982500</td>\n",
       "    </tr>\n",
       "    <tr>\n",
       "      <th>51943</th>\n",
       "      <td>10.0</td>\n",
       "      <td>4.0</td>\n",
       "      <td>190.0</td>\n",
       "      <td>4.0</td>\n",
       "      <td>3.0</td>\n",
       "      <td>2.0</td>\n",
       "      <td>2.162486</td>\n",
       "    </tr>\n",
       "  </tbody>\n",
       "</table>\n",
       "<p>37118 rows × 7 columns</p>\n",
       "</div>"
      ],
      "text/plain": [
       "       question_score  tag_count  emails_sent_count  total_answers  \\\n",
       "0                 1.0        3.0              200.0            1.0   \n",
       "1                 5.0        2.0               62.0            2.0   \n",
       "2                 5.0        2.0               62.0            2.0   \n",
       "6                 2.0        4.0              320.0            2.0   \n",
       "7                 2.0        4.0              320.0            2.0   \n",
       "...               ...        ...                ...            ...   \n",
       "51939             4.0        2.0               38.0            4.0   \n",
       "51940            10.0        4.0              190.0            4.0   \n",
       "51941            10.0        4.0              190.0            4.0   \n",
       "51942            10.0        4.0              190.0            4.0   \n",
       "51943            10.0        4.0              190.0            4.0   \n",
       "\n",
       "       total_comments  answer_score  sentiment_score  \n",
       "0                 1.0           0.0         0.481070  \n",
       "1                 0.0           0.0         1.248724  \n",
       "2                 0.0           0.0         1.285241  \n",
       "6                 0.0           0.0         0.360555  \n",
       "7                 0.0           0.0         0.242536  \n",
       "...               ...           ...              ...  \n",
       "51939             0.0           0.0         0.472456  \n",
       "51940             3.0           1.0         0.750851  \n",
       "51941             3.0           1.0         1.171557  \n",
       "51942             3.0           2.0         0.982500  \n",
       "51943             3.0           2.0         2.162486  \n",
       "\n",
       "[37118 rows x 7 columns]"
      ]
     },
     "execution_count": 464,
     "metadata": {},
     "output_type": "execute_result"
    }
   ],
   "source": [
    "#MODEL 1 - Linear Regression on Response Time after Email Notification is sent\n",
    "\n",
    "#Splitting dataset\n",
    "X = ques_ans_withemails.iloc[:,[6,8,9,13,16,25,26]]\n",
    "Y = ques_ans_withemails.iloc[: , -1]\n",
    "X"
   ]
  },
  {
   "cell_type": "code",
   "execution_count": 465,
   "id": "68495f09",
   "metadata": {},
   "outputs": [
    {
     "data": {
      "text/plain": [
       "LinearRegression()"
      ]
     },
     "execution_count": 465,
     "metadata": {},
     "output_type": "execute_result"
    }
   ],
   "source": [
    "from sklearn.linear_model import LinearRegression\n",
    "\n",
    "model = LinearRegression()\n",
    "\n",
    "model.fit(X,Y)"
   ]
  },
  {
   "cell_type": "code",
   "execution_count": 466,
   "id": "b5117cac",
   "metadata": {},
   "outputs": [
    {
     "name": "stdout",
     "output_type": "stream",
     "text": [
      "1474.5507063236832\n"
     ]
    }
   ],
   "source": [
    "# print the intercept\n",
    "#The intercept (often labeled the constant) is the expected mean value of Y when all X=0. \n",
    "print(model.intercept_)"
   ]
  },
  {
   "cell_type": "code",
   "execution_count": 467,
   "id": "b4031920",
   "metadata": {},
   "outputs": [
    {
     "data": {
      "text/html": [
       "<div>\n",
       "<style scoped>\n",
       "    .dataframe tbody tr th:only-of-type {\n",
       "        vertical-align: middle;\n",
       "    }\n",
       "\n",
       "    .dataframe tbody tr th {\n",
       "        vertical-align: top;\n",
       "    }\n",
       "\n",
       "    .dataframe thead th {\n",
       "        text-align: right;\n",
       "    }\n",
       "</style>\n",
       "<table border=\"1\" class=\"dataframe\">\n",
       "  <thead>\n",
       "    <tr style=\"text-align: right;\">\n",
       "      <th></th>\n",
       "      <th>Coefficient</th>\n",
       "    </tr>\n",
       "  </thead>\n",
       "  <tbody>\n",
       "    <tr>\n",
       "      <th>question_score</th>\n",
       "      <td>10.494921</td>\n",
       "    </tr>\n",
       "    <tr>\n",
       "      <th>tag_count</th>\n",
       "      <td>62.484478</td>\n",
       "    </tr>\n",
       "    <tr>\n",
       "      <th>emails_sent_count</th>\n",
       "      <td>0.016415</td>\n",
       "    </tr>\n",
       "    <tr>\n",
       "      <th>total_answers</th>\n",
       "      <td>-89.134509</td>\n",
       "    </tr>\n",
       "    <tr>\n",
       "      <th>total_comments</th>\n",
       "      <td>-76.396818</td>\n",
       "    </tr>\n",
       "    <tr>\n",
       "      <th>answer_score</th>\n",
       "      <td>-309.074120</td>\n",
       "    </tr>\n",
       "    <tr>\n",
       "      <th>sentiment_score</th>\n",
       "      <td>-163.940327</td>\n",
       "    </tr>\n",
       "  </tbody>\n",
       "</table>\n",
       "</div>"
      ],
      "text/plain": [
       "                   Coefficient\n",
       "question_score       10.494921\n",
       "tag_count            62.484478\n",
       "emails_sent_count     0.016415\n",
       "total_answers       -89.134509\n",
       "total_comments      -76.396818\n",
       "answer_score       -309.074120\n",
       "sentiment_score    -163.940327"
      ]
     },
     "execution_count": 467,
     "metadata": {},
     "output_type": "execute_result"
    }
   ],
   "source": [
    "#The sign of each coefficient indicates the direction of the relationship between a predictor variable and the response variable.\n",
    "coeff_parameter = pd.DataFrame(model.coef_,X.columns,columns=['Coefficient'])\n",
    "coeff_parameter"
   ]
  },
  {
   "cell_type": "code",
   "execution_count": 468,
   "id": "a57d8d93",
   "metadata": {},
   "outputs": [
    {
     "name": "stdout",
     "output_type": "stream",
     "text": [
      "                            OLS Regression Results                            \n",
      "==============================================================================\n",
      "Dep. Variable:             diff_hours   R-squared:                       0.040\n",
      "Model:                            OLS   Adj. R-squared:                  0.039\n",
      "Method:                 Least Squares   F-statistic:                     218.2\n",
      "Date:                Mon, 09 May 2022   Prob (F-statistic):          4.03e-319\n",
      "Time:                        14:19:04   Log-Likelihood:            -3.4516e+05\n",
      "No. Observations:               37118   AIC:                         6.903e+05\n",
      "Df Residuals:                   37110   BIC:                         6.904e+05\n",
      "Df Model:                           7                                         \n",
      "Covariance Type:            nonrobust                                         \n",
      "=====================================================================================\n",
      "                        coef    std err          t      P>|t|      [0.025      0.975]\n",
      "-------------------------------------------------------------------------------------\n",
      "const              1474.5507     34.455     42.797      0.000    1407.018    1542.083\n",
      "question_score       10.4949      2.951      3.556      0.000       4.711      16.279\n",
      "tag_count            62.4845      5.495     11.372      0.000      51.715      73.254\n",
      "emails_sent_count     0.0164      0.059      0.277      0.782      -0.100       0.133\n",
      "total_answers       -89.1345      5.186    -17.189      0.000     -99.298     -78.971\n",
      "total_comments      -76.3968      6.125    -12.474      0.000     -88.401     -64.393\n",
      "answer_score       -309.0741     17.482    -17.679      0.000    -343.340    -274.808\n",
      "sentiment_score    -163.9403     27.100     -6.050      0.000    -217.056    -110.824\n",
      "==============================================================================\n",
      "Omnibus:                    24303.004   Durbin-Watson:                   1.288\n",
      "Prob(Omnibus):                  0.000   Jarque-Bera (JB):           246890.631\n",
      "Skew:                           3.153   Prob(JB):                         0.00\n",
      "Kurtosis:                      13.949   Cond. No.                         970.\n",
      "==============================================================================\n",
      "\n",
      "Notes:\n",
      "[1] Standard Errors assume that the covariance matrix of the errors is correctly specified.\n"
     ]
    },
    {
     "name": "stderr",
     "output_type": "stream",
     "text": [
      "C:\\Users\\shina\\anaconda3\\lib\\site-packages\\statsmodels\\tsa\\tsatools.py:142: FutureWarning: In a future version of pandas all arguments of concat except for the argument 'objs' will be keyword-only\n",
      "  x = pd.concat(x[::order], 1)\n"
     ]
    }
   ],
   "source": [
    "import statsmodels.api as sm\n",
    "X_Sm= sm.add_constant(X)\n",
    "\n",
    "ls=sm.OLS(Y,X_Sm).fit()\n",
    "print(ls.summary())"
   ]
  },
  {
   "cell_type": "code",
   "execution_count": 469,
   "id": "3d752d00",
   "metadata": {},
   "outputs": [
    {
     "data": {
      "text/html": [
       "<div>\n",
       "<style scoped>\n",
       "    .dataframe tbody tr th:only-of-type {\n",
       "        vertical-align: middle;\n",
       "    }\n",
       "\n",
       "    .dataframe tbody tr th {\n",
       "        vertical-align: top;\n",
       "    }\n",
       "\n",
       "    .dataframe thead th {\n",
       "        text-align: right;\n",
       "    }\n",
       "</style>\n",
       "<table border=\"1\" class=\"dataframe\">\n",
       "  <thead>\n",
       "    <tr style=\"text-align: right;\">\n",
       "      <th></th>\n",
       "      <th>question_score</th>\n",
       "      <th>tag_count</th>\n",
       "      <th>emails_sent_count</th>\n",
       "      <th>sentiment_score</th>\n",
       "      <th>diff_hours</th>\n",
       "    </tr>\n",
       "  </thead>\n",
       "  <tbody>\n",
       "    <tr>\n",
       "      <th>0</th>\n",
       "      <td>1.0</td>\n",
       "      <td>3.0</td>\n",
       "      <td>200.0</td>\n",
       "      <td>0.481070</td>\n",
       "      <td>80.429444</td>\n",
       "    </tr>\n",
       "    <tr>\n",
       "      <th>1</th>\n",
       "      <td>5.0</td>\n",
       "      <td>2.0</td>\n",
       "      <td>62.0</td>\n",
       "      <td>1.248724</td>\n",
       "      <td>17061.496944</td>\n",
       "    </tr>\n",
       "    <tr>\n",
       "      <th>2</th>\n",
       "      <td>5.0</td>\n",
       "      <td>2.0</td>\n",
       "      <td>62.0</td>\n",
       "      <td>1.285241</td>\n",
       "      <td>17061.496944</td>\n",
       "    </tr>\n",
       "    <tr>\n",
       "      <th>6</th>\n",
       "      <td>2.0</td>\n",
       "      <td>4.0</td>\n",
       "      <td>320.0</td>\n",
       "      <td>0.360555</td>\n",
       "      <td>688.219722</td>\n",
       "    </tr>\n",
       "    <tr>\n",
       "      <th>7</th>\n",
       "      <td>2.0</td>\n",
       "      <td>4.0</td>\n",
       "      <td>320.0</td>\n",
       "      <td>0.242536</td>\n",
       "      <td>688.219722</td>\n",
       "    </tr>\n",
       "    <tr>\n",
       "      <th>...</th>\n",
       "      <td>...</td>\n",
       "      <td>...</td>\n",
       "      <td>...</td>\n",
       "      <td>...</td>\n",
       "      <td>...</td>\n",
       "    </tr>\n",
       "    <tr>\n",
       "      <th>51939</th>\n",
       "      <td>4.0</td>\n",
       "      <td>2.0</td>\n",
       "      <td>38.0</td>\n",
       "      <td>0.472456</td>\n",
       "      <td>43.681389</td>\n",
       "    </tr>\n",
       "    <tr>\n",
       "      <th>51940</th>\n",
       "      <td>10.0</td>\n",
       "      <td>4.0</td>\n",
       "      <td>190.0</td>\n",
       "      <td>0.750851</td>\n",
       "      <td>0.100000</td>\n",
       "    </tr>\n",
       "    <tr>\n",
       "      <th>51941</th>\n",
       "      <td>10.0</td>\n",
       "      <td>4.0</td>\n",
       "      <td>190.0</td>\n",
       "      <td>1.171557</td>\n",
       "      <td>0.100000</td>\n",
       "    </tr>\n",
       "    <tr>\n",
       "      <th>51942</th>\n",
       "      <td>10.0</td>\n",
       "      <td>4.0</td>\n",
       "      <td>190.0</td>\n",
       "      <td>0.982500</td>\n",
       "      <td>0.100000</td>\n",
       "    </tr>\n",
       "    <tr>\n",
       "      <th>51943</th>\n",
       "      <td>10.0</td>\n",
       "      <td>4.0</td>\n",
       "      <td>190.0</td>\n",
       "      <td>2.162486</td>\n",
       "      <td>0.100000</td>\n",
       "    </tr>\n",
       "  </tbody>\n",
       "</table>\n",
       "<p>37118 rows × 5 columns</p>\n",
       "</div>"
      ],
      "text/plain": [
       "       question_score  tag_count  emails_sent_count  sentiment_score  \\\n",
       "0                 1.0        3.0              200.0         0.481070   \n",
       "1                 5.0        2.0               62.0         1.248724   \n",
       "2                 5.0        2.0               62.0         1.285241   \n",
       "6                 2.0        4.0              320.0         0.360555   \n",
       "7                 2.0        4.0              320.0         0.242536   \n",
       "...               ...        ...                ...              ...   \n",
       "51939             4.0        2.0               38.0         0.472456   \n",
       "51940            10.0        4.0              190.0         0.750851   \n",
       "51941            10.0        4.0              190.0         1.171557   \n",
       "51942            10.0        4.0              190.0         0.982500   \n",
       "51943            10.0        4.0              190.0         2.162486   \n",
       "\n",
       "         diff_hours  \n",
       "0         80.429444  \n",
       "1      17061.496944  \n",
       "2      17061.496944  \n",
       "6        688.219722  \n",
       "7        688.219722  \n",
       "...             ...  \n",
       "51939     43.681389  \n",
       "51940      0.100000  \n",
       "51941      0.100000  \n",
       "51942      0.100000  \n",
       "51943      0.100000  \n",
       "\n",
       "[37118 rows x 5 columns]"
      ]
     },
     "execution_count": 469,
     "metadata": {},
     "output_type": "execute_result"
    }
   ],
   "source": [
    "# Model 2 - Predicting total answers based on time taken to respond after first email sent\n",
    "X2 = ques_ans_withemails.iloc[:,[6,8,9,26,30]]\n",
    "Y2 = ques_ans_withemails.iloc[: , [13]]\n",
    "X2\n"
   ]
  },
  {
   "cell_type": "code",
   "execution_count": 470,
   "id": "33867c1a",
   "metadata": {},
   "outputs": [
    {
     "data": {
      "text/plain": [
       "LinearRegression()"
      ]
     },
     "execution_count": 470,
     "metadata": {},
     "output_type": "execute_result"
    }
   ],
   "source": [
    "model.fit(X2,Y2)"
   ]
  },
  {
   "cell_type": "code",
   "execution_count": 471,
   "id": "0a191cbf",
   "metadata": {},
   "outputs": [
    {
     "name": "stdout",
     "output_type": "stream",
     "text": [
      "                            OLS Regression Results                            \n",
      "==============================================================================\n",
      "Dep. Variable:          total_answers   R-squared:                       0.508\n",
      "Model:                            OLS   Adj. R-squared:                  0.508\n",
      "Method:                 Least Squares   F-statistic:                     7670.\n",
      "Date:                Mon, 09 May 2022   Prob (F-statistic):               0.00\n",
      "Time:                        14:19:18   Log-Likelihood:                -89360.\n",
      "No. Observations:               37118   AIC:                         1.787e+05\n",
      "Df Residuals:                   37112   BIC:                         1.788e+05\n",
      "Df Model:                           5                                         \n",
      "Covariance Type:            nonrobust                                         \n",
      "=====================================================================================\n",
      "                        coef    std err          t      P>|t|      [0.025      0.975]\n",
      "-------------------------------------------------------------------------------------\n",
      "const                 1.8624      0.034     54.155      0.000       1.795       1.930\n",
      "question_score        0.4039      0.002    190.440      0.000       0.400       0.408\n",
      "tag_count             0.0018      0.006      0.317      0.751      -0.009       0.013\n",
      "emails_sent_count -1.672e-05   5.99e-05     -0.279      0.780      -0.000       0.000\n",
      "sentiment_score       0.0052      0.027      0.191      0.848      -0.049       0.059\n",
      "diff_hours           -0.0001    5.2e-06    -20.210      0.000      -0.000    -9.5e-05\n",
      "==============================================================================\n",
      "Omnibus:                    36013.552   Durbin-Watson:                   0.466\n",
      "Prob(Omnibus):                  0.000   Jarque-Bera (JB):         18033300.931\n",
      "Skew:                          -3.922   Prob(JB):                         0.00\n",
      "Kurtosis:                     110.697   Cond. No.                     8.35e+03\n",
      "==============================================================================\n",
      "\n",
      "Notes:\n",
      "[1] Standard Errors assume that the covariance matrix of the errors is correctly specified.\n",
      "[2] The condition number is large, 8.35e+03. This might indicate that there are\n",
      "strong multicollinearity or other numerical problems.\n"
     ]
    },
    {
     "name": "stderr",
     "output_type": "stream",
     "text": [
      "C:\\Users\\shina\\anaconda3\\lib\\site-packages\\statsmodels\\tsa\\tsatools.py:142: FutureWarning: In a future version of pandas all arguments of concat except for the argument 'objs' will be keyword-only\n",
      "  x = pd.concat(x[::order], 1)\n"
     ]
    }
   ],
   "source": [
    "X2_Sm= sm.add_constant(X2)\n",
    "\n",
    "ls=sm.OLS(Y2,X2_Sm).fit()\n",
    "print(ls.summary())"
   ]
  },
  {
   "cell_type": "code",
   "execution_count": null,
   "id": "37fe67e6",
   "metadata": {},
   "outputs": [],
   "source": []
  }
 ],
 "metadata": {
  "kernelspec": {
   "display_name": "Python 3 (ipykernel)",
   "language": "python",
   "name": "python3"
  },
  "language_info": {
   "codemirror_mode": {
    "name": "ipython",
    "version": 3
   },
   "file_extension": ".py",
   "mimetype": "text/x-python",
   "name": "python",
   "nbconvert_exporter": "python",
   "pygments_lexer": "ipython3",
   "version": "3.9.7"
  }
 },
 "nbformat": 4,
 "nbformat_minor": 5
}
