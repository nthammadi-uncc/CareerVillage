{
  "cells": [
    {
      "cell_type": "markdown",
      "metadata": {
        "id": "JLo4L42oQ2VU"
      },
      "source": [
        "# Data Cleaning and Preparation of Career Village datasets"
      ]
    },
    {
      "cell_type": "markdown",
      "metadata": {
        "id": "qjwZxM9DRo12"
      },
      "source": [
        "## Load libraries"
      ]
    },
    {
      "cell_type": "code",
      "execution_count": 1,
      "metadata": {
        "id": "_HmEi440Pi_h"
      },
      "outputs": [],
      "source": [
        "#run both R and python \n",
        "%load_ext rpy2.ipython"
      ]
    },
    {
      "cell_type": "code",
      "execution_count": 2,
      "metadata": {
        "colab": {
          "base_uri": "https://localhost:8080/"
        },
        "id": "w-SFbpQ5Qyy6",
        "outputId": "65e52177-c8a8-4133-9f51-0093e8a70330"
      },
      "outputs": [
        {
          "output_type": "stream",
          "name": "stdout",
          "text": [
            "Mounted at /content/drive\n"
          ]
        }
      ],
      "source": [
        "#mount google drive to load pre installs and zipped libraries\n",
        "from google.colab import drive\n",
        "drive.mount('/content/drive', force_remount=True)"
      ]
    },
    {
      "cell_type": "code",
      "execution_count": 3,
      "metadata": {
        "id": "WBah3UGIQ3Dt"
      },
      "outputs": [],
      "source": [
        "#extract library zip file \"cv.library.tar.gz\" from location - https://drive.google.com/drive/folders/1z3tM37Cf7zr3hXF5EtPMRnMwdoEb6arm\n",
        "#make sure the folder is added to your personal google drive\n",
        "%cp drive/MyDrive/R_libraries/cv.library.tar.gz ."
      ]
    },
    {
      "cell_type": "code",
      "execution_count": 4,
      "metadata": {
        "colab": {
          "base_uri": "https://localhost:8080/"
        },
        "id": "xWFeInBARIKF",
        "outputId": "025ca8b7-c30b-488c-e7a3-ee3698ac6b08"
      },
      "outputs": [
        {
          "output_type": "stream",
          "name": "stdout",
          "text": [
            "35M\tcv.library.tar.gz\n"
          ]
        }
      ],
      "source": [
        "!du -sh cv.library.tar.gz"
      ]
    },
    {
      "cell_type": "code",
      "execution_count": 5,
      "metadata": {
        "colab": {
          "base_uri": "https://localhost:8080/"
        },
        "id": "dNHvXWcXRL7Y",
        "outputId": "65a21c56-8708-4b15-b86d-06d4502ea135"
      },
      "outputs": [
        {
          "output_type": "stream",
          "name": "stdout",
          "text": [
            "tar: Removing leading `/' from member names\n"
          ]
        }
      ],
      "source": [
        "#copy library to current colab directory\n",
        "!tar xf cv.library.tar.gz"
      ]
    },
    {
      "cell_type": "code",
      "execution_count": 6,
      "metadata": {
        "colab": {
          "base_uri": "https://localhost:8080/"
        },
        "id": "aJi0K57ORRy_",
        "outputId": "b3f2d2be-ae17-4867-8bdf-35c58ac3afe6"
      },
      "outputs": [
        {
          "output_type": "stream",
          "name": "stdout",
          "text": [
            "\u001b[0m\u001b[01;34mcrosstalk\u001b[0m/    \u001b[01;34mIRdisplay\u001b[0m/  \u001b[01;34mlater\u001b[0m/     \u001b[01;34mlubridate\u001b[0m/  \u001b[01;34mplotly\u001b[0m/    \u001b[01;34mRcpp\u001b[0m/  \u001b[01;34mtidyverse\u001b[0m/\n",
            "\u001b[01;34mhtmlwidgets\u001b[0m/  \u001b[01;34mIRkernel\u001b[0m/   \u001b[01;34mlazyeval\u001b[0m/  \u001b[01;34mpbdZMQ\u001b[0m/     \u001b[01;34mpromises\u001b[0m/  \u001b[01;34mrepr\u001b[0m/\n"
          ]
        }
      ],
      "source": [
        "%ls usr/local/lib/R/site-library/"
      ]
    },
    {
      "cell_type": "code",
      "execution_count": 7,
      "metadata": {
        "colab": {
          "base_uri": "https://localhost:8080/"
        },
        "id": "TVnMcIb0RUo6",
        "outputId": "42f20af1-27b7-4981-dd96-d33a2e0184c1"
      },
      "outputs": [
        {
          "output_type": "stream",
          "name": "stdout",
          "text": [
            "[1] \"/content/usr/local/lib/R/site-library\"\n",
            "[2] \"/usr/local/lib/R/site-library\"        \n",
            "[3] \"/usr/lib/R/site-library\"              \n",
            "[4] \"/usr/lib/R/library\"                   \n"
          ]
        }
      ],
      "source": [
        "%%R\n",
        ".libPaths('usr/local/lib/R/site-library/')\n",
        ".libPaths()"
      ]
    },
    {
      "cell_type": "code",
      "execution_count": 8,
      "metadata": {
        "id": "_GSN_7leQ-zw"
      },
      "outputs": [],
      "source": [
        "#install python libraries\n",
        "from IPython.display import display, HTML"
      ]
    },
    {
      "cell_type": "code",
      "execution_count": 9,
      "metadata": {
        "colab": {
          "base_uri": "https://localhost:8080/"
        },
        "id": "fIuhEOt2REKN",
        "outputId": "a18d573f-2971-459f-c722-2433d964b158"
      },
      "outputs": [
        {
          "output_type": "stream",
          "name": "stderr",
          "text": [
            "R[write to console]: ── Attaching packages ─────────────────────────────────────── tidyverse 1.3.1 ──\n",
            "\n",
            "R[write to console]: ✔ ggplot2 3.3.5     ✔ purrr   0.3.4\n",
            "✔ tibble  3.1.6     ✔ dplyr   1.0.9\n",
            "✔ tidyr   1.2.0     ✔ stringr 1.4.0\n",
            "✔ readr   2.1.2     ✔ forcats 0.5.1\n",
            "\n",
            "R[write to console]: ── Conflicts ────────────────────────────────────────── tidyverse_conflicts() ──\n",
            "✖ dplyr::filter() masks stats::filter()\n",
            "✖ dplyr::lag()    masks stats::lag()\n",
            "\n",
            "R[write to console]: \n",
            "Attaching package: ‘plotly’\n",
            "\n",
            "\n",
            "R[write to console]: The following object is masked from ‘package:ggplot2’:\n",
            "\n",
            "    last_plot\n",
            "\n",
            "\n",
            "R[write to console]: The following object is masked from ‘package:stats’:\n",
            "\n",
            "    filter\n",
            "\n",
            "\n",
            "R[write to console]: The following object is masked from ‘package:graphics’:\n",
            "\n",
            "    layout\n",
            "\n",
            "\n",
            "R[write to console]: \n",
            "Attaching package: ‘lubridate’\n",
            "\n",
            "\n",
            "R[write to console]: The following objects are masked from ‘package:base’:\n",
            "\n",
            "    date, intersect, setdiff, union\n",
            "\n",
            "\n"
          ]
        }
      ],
      "source": [
        "#load R libraries\n",
        "#use %%R for every cell that runs R code\n",
        "%%R\n",
        "library(tidyverse)\n",
        "library(dplyr)\n",
        "library(plotly)\n",
        "library(lubridate)\n",
        "library(ggplot2)\n",
        "library(readr)"
      ]
    },
    {
      "cell_type": "code",
      "execution_count": 10,
      "metadata": {
        "id": "JjU4EBhbcfRq"
      },
      "outputs": [],
      "source": [
        "%%R\n",
        "url <- 'https://media.githubusercontent.com/media/nthammadi-uncc/CareerVillage/main/data/raw/'\n",
        "all_data_files <- list('answer_scores','answers','comments','emails','group_memberships','groups','matches','professionals','question_scores','questions','school_memberships','students','tag_questions','tag_users','tags')  \n",
        "#dynamially assign dataframe names for all the csv files\n",
        "for(i in 1:length(all_data_files)) {                              \n",
        "  assign(paste0(all_data_files[i], \"_df\"),                                  \n",
        "         read.csv(url(paste0(url,\n",
        "                   all_data_files[i],'.csv'))))\n",
        "}\n"
      ]
    },
    {
      "cell_type": "code",
      "execution_count": 11,
      "metadata": {
        "colab": {
          "base_uri": "https://localhost:8080/"
        },
        "id": "ViZZGsO6MguD",
        "outputId": "5bd622bc-a198-4422-d8b7-d74e01cac62a"
      },
      "outputs": [
        {
          "output_type": "stream",
          "name": "stdout",
          "text": [
            " [1] \"all_data_files\"        \"answer_scores_df\"      \"answers_df\"           \n",
            " [4] \"comments_df\"           \"emails_df\"             \"group_memberships_df\" \n",
            " [7] \"groups_df\"             \"i\"                     \"matches_df\"           \n",
            "[10] \"professionals_df\"      \"question_scores_df\"    \"questions_df\"         \n",
            "[13] \"school_memberships_df\" \"students_df\"           \"tag_questions_df\"     \n",
            "[16] \"tag_users_df\"          \"tags_df\"               \"url\"                  \n"
          ]
        }
      ],
      "source": [
        "%%R\n",
        "#view all dataframes created\n",
        "ls()"
      ]
    },
    {
      "cell_type": "code",
      "execution_count": 12,
      "metadata": {
        "id": "Hz0dZsAIM--R"
      },
      "outputs": [],
      "source": [
        "#use this cell to convert any R dataframe to python dataframe\n",
        "#%R -o df - uncomment this line and specify the \"df\""
      ]
    },
    {
      "cell_type": "markdown",
      "metadata": {
        "id": "9e9oHpHJR3MU"
      },
      "source": [
        "## Exploratory Data Analysis"
      ]
    },
    {
      "cell_type": "markdown",
      "metadata": {
        "id": "FUO8ZX4UR6Mg"
      },
      "source": [
        "### Exploring questions, questions_scores, tags, tag_questions, tag_users datasets"
      ]
    },
    {
      "cell_type": "code",
      "execution_count": 13,
      "metadata": {
        "colab": {
          "base_uri": "https://localhost:8080/",
          "height": 380
        },
        "id": "59zyG-SmUrtt",
        "outputId": "66caeeea-027f-46df-9707-efd0700fa06e"
      },
      "outputs": [
        {
          "output_type": "display_data",
          "data": {
            "text/plain": [
              "<IPython.core.display.HTML object>"
            ],
            "text/html": [
              "<table border=\"1\" class=\"dataframe\">\n",
              "  <thead>\n",
              "    <tr style=\"text-align: right;\">\n",
              "      <th></th>\n",
              "      <th>questions_id</th>\n",
              "      <th>questions_author_id</th>\n",
              "      <th>questions_date_added</th>\n",
              "      <th>questions_title</th>\n",
              "      <th>questions_body</th>\n",
              "    </tr>\n",
              "  </thead>\n",
              "  <tbody>\n",
              "    <tr>\n",
              "      <th>1</th>\n",
              "      <td>332a511f1569444485cf7a7a556a5e54</td>\n",
              "      <td>8f6f374ffd834d258ab69d376dd998f5</td>\n",
              "      <td>2016-04-26 11:14:26 UTC+0000</td>\n",
              "      <td>Teacher   career   question</td>\n",
              "      <td>What  is  a  maths  teacher?   what  is  a  maths  teacher  useful? #college #professor #lecture</td>\n",
              "    </tr>\n",
              "    <tr>\n",
              "      <th>2</th>\n",
              "      <td>eb80205482e4424cad8f16bc25aa2d9c</td>\n",
              "      <td>acccbda28edd4362ab03fb8b6fd2d67b</td>\n",
              "      <td>2016-05-20 16:48:25 UTC+0000</td>\n",
              "      <td>I want to become an army officer. What can I do to become an army officer?</td>\n",
              "      <td>I am Priyanka from Bangalore . Now am in 10th std . When I go to college I should not get confused on what I want to take to become army officer. So I am asking this question  #military #army</td>\n",
              "    </tr>\n",
              "    <tr>\n",
              "      <th>3</th>\n",
              "      <td>4ec31632938a40b98909416bdd0decff</td>\n",
              "      <td>f2c179a563024ccc927399ce529094b5</td>\n",
              "      <td>2017-02-08 19:13:38 UTC+0000</td>\n",
              "      <td>Will going abroad for your first job increase your chances for jobs back home?</td>\n",
              "      <td>I'm planning on going abroad for my first job. It will be a teaching job and I don't have any serious career ideas. I don't know what job I would be working if I stay home instead so I'm assuming staying or leaving won't makeba huge difference in what I care about, unless I find something before my first job. I can think of ways that going abroad can be seen as good and bad. I do not know which side respectable employers willl side with. #working-abroad #employment- #overseas</td>\n",
              "    </tr>\n",
              "    <tr>\n",
              "      <th>4</th>\n",
              "      <td>2f6a9a99d9b24e5baa50d40d0ba50a75</td>\n",
              "      <td>2c30ffba444e40eabb4583b55233a5a4</td>\n",
              "      <td>2017-09-01 14:05:32 UTC+0000</td>\n",
              "      <td>To become a specialist in business  management, will I have to network myself?</td>\n",
              "      <td>i hear business management is a hard way to get a job if you're not known in the right areas. #business #networking</td>\n",
              "    </tr>\n",
              "    <tr>\n",
              "      <th>5</th>\n",
              "      <td>5af8880460c141dbb02971a1a8369529</td>\n",
              "      <td>aa9eb1a2ab184ebbb00dc01ab663428a</td>\n",
              "      <td>2017-09-01 02:36:54 UTC+0000</td>\n",
              "      <td>Are there any scholarships out there for students that are first generation and live in GA?</td>\n",
              "      <td>I'm trying to find scholarships for first year students but they all seem to be for other states besides GA. Any help??\\n\\n#college\\n#scholarships \\n#highschoolsenior \\n#firstgeneration \\n</td>\n",
              "    </tr>\n",
              "  </tbody>\n",
              "</table>"
            ]
          },
          "metadata": {}
        }
      ],
      "source": [
        "#convert R datafram to python dataframe\n",
        "%R -o questions_df \n",
        "display(HTML(questions_df.head(5).to_html()))"
      ]
    },
    {
      "cell_type": "code",
      "execution_count": 14,
      "metadata": {
        "colab": {
          "base_uri": "https://localhost:8080/",
          "height": 206
        },
        "id": "eh4b3lRca2_a",
        "outputId": "d28414fc-2a2e-47b5-cbc1-913c220079ca"
      },
      "outputs": [
        {
          "output_type": "display_data",
          "data": {
            "text/plain": [
              "<IPython.core.display.HTML object>"
            ],
            "text/html": [
              "<table border=\"1\" class=\"dataframe\">\n",
              "  <thead>\n",
              "    <tr style=\"text-align: right;\">\n",
              "      <th></th>\n",
              "      <th>id</th>\n",
              "      <th>score</th>\n",
              "    </tr>\n",
              "  </thead>\n",
              "  <tbody>\n",
              "    <tr>\n",
              "      <th>1</th>\n",
              "      <td>38436aadef3d4b608ad089cf53ab0fe7</td>\n",
              "      <td>5</td>\n",
              "    </tr>\n",
              "    <tr>\n",
              "      <th>2</th>\n",
              "      <td>edb8c179c5d64c9cb812a59a32045f55</td>\n",
              "      <td>4</td>\n",
              "    </tr>\n",
              "    <tr>\n",
              "      <th>3</th>\n",
              "      <td>333464d7484b43e3866e86096bc4ddb9</td>\n",
              "      <td>6</td>\n",
              "    </tr>\n",
              "    <tr>\n",
              "      <th>4</th>\n",
              "      <td>4b995e60b99d4ee18346e893e007cb8f</td>\n",
              "      <td>6</td>\n",
              "    </tr>\n",
              "    <tr>\n",
              "      <th>5</th>\n",
              "      <td>f6b9ca94aed04ba28256492708e74f60</td>\n",
              "      <td>6</td>\n",
              "    </tr>\n",
              "  </tbody>\n",
              "</table>"
            ]
          },
          "metadata": {}
        }
      ],
      "source": [
        "#convert R datafram to python dataframe\n",
        "%R -o question_scores_df \n",
        "display(HTML(question_scores_df.head(5).to_html()))"
      ]
    },
    {
      "cell_type": "code",
      "execution_count": 15,
      "metadata": {
        "colab": {
          "base_uri": "https://localhost:8080/",
          "height": 206
        },
        "id": "hx8ER7MYa613",
        "outputId": "a04a71bc-d780-4111-cdb8-d1c805489c1c"
      },
      "outputs": [
        {
          "output_type": "display_data",
          "data": {
            "text/plain": [
              "<IPython.core.display.HTML object>"
            ],
            "text/html": [
              "<table border=\"1\" class=\"dataframe\">\n",
              "  <thead>\n",
              "    <tr style=\"text-align: right;\">\n",
              "      <th></th>\n",
              "      <th>tags_tag_id</th>\n",
              "      <th>tags_tag_name</th>\n",
              "    </tr>\n",
              "  </thead>\n",
              "  <tbody>\n",
              "    <tr>\n",
              "      <th>1</th>\n",
              "      <td>27490</td>\n",
              "      <td>college</td>\n",
              "    </tr>\n",
              "    <tr>\n",
              "      <th>2</th>\n",
              "      <td>461</td>\n",
              "      <td>computer-science</td>\n",
              "    </tr>\n",
              "    <tr>\n",
              "      <th>3</th>\n",
              "      <td>593</td>\n",
              "      <td>computer-software</td>\n",
              "    </tr>\n",
              "    <tr>\n",
              "      <th>4</th>\n",
              "      <td>27292</td>\n",
              "      <td>business</td>\n",
              "    </tr>\n",
              "    <tr>\n",
              "      <th>5</th>\n",
              "      <td>18217</td>\n",
              "      <td>doctor</td>\n",
              "    </tr>\n",
              "  </tbody>\n",
              "</table>"
            ]
          },
          "metadata": {}
        }
      ],
      "source": [
        "#convert R datafram to python dataframe\n",
        "%R -o tags_df \n",
        "display(HTML(tags_df.head(5).to_html()))"
      ]
    },
    {
      "cell_type": "code",
      "execution_count": 16,
      "metadata": {
        "colab": {
          "base_uri": "https://localhost:8080/",
          "height": 206
        },
        "id": "Zd3pc3QvbAjP",
        "outputId": "e0a9e4d3-427e-4766-a6c1-e2248aa30ad2"
      },
      "outputs": [
        {
          "output_type": "display_data",
          "data": {
            "text/plain": [
              "<IPython.core.display.HTML object>"
            ],
            "text/html": [
              "<table border=\"1\" class=\"dataframe\">\n",
              "  <thead>\n",
              "    <tr style=\"text-align: right;\">\n",
              "      <th></th>\n",
              "      <th>tag_questions_tag_id</th>\n",
              "      <th>tag_questions_question_id</th>\n",
              "    </tr>\n",
              "  </thead>\n",
              "  <tbody>\n",
              "    <tr>\n",
              "      <th>1</th>\n",
              "      <td>28930</td>\n",
              "      <td>cb43ebee01364c68ac61d347a393ae39</td>\n",
              "    </tr>\n",
              "    <tr>\n",
              "      <th>2</th>\n",
              "      <td>28930</td>\n",
              "      <td>47f55e85ce944242a5a347ab85a8ffb4</td>\n",
              "    </tr>\n",
              "    <tr>\n",
              "      <th>3</th>\n",
              "      <td>28930</td>\n",
              "      <td>ccc30a033a0f4dfdb2eb987012f25792</td>\n",
              "    </tr>\n",
              "    <tr>\n",
              "      <th>4</th>\n",
              "      <td>28930</td>\n",
              "      <td>e30b274e48d741f7bf50eb5e7171a3c0</td>\n",
              "    </tr>\n",
              "    <tr>\n",
              "      <th>5</th>\n",
              "      <td>28930</td>\n",
              "      <td>3d22742052df4989b311b4195cbb0f1a</td>\n",
              "    </tr>\n",
              "  </tbody>\n",
              "</table>"
            ]
          },
          "metadata": {}
        }
      ],
      "source": [
        "#convert R datafram to python dataframe\n",
        "%R -o tag_questions_df \n",
        "display(HTML(tag_questions_df.head(5).to_html()))"
      ]
    },
    {
      "cell_type": "code",
      "execution_count": 17,
      "metadata": {
        "colab": {
          "base_uri": "https://localhost:8080/",
          "height": 206
        },
        "id": "IZ1i0iAibEF0",
        "outputId": "bad266d9-d53e-4292-d7ac-6c4a441cea67"
      },
      "outputs": [
        {
          "output_type": "display_data",
          "data": {
            "text/plain": [
              "<IPython.core.display.HTML object>"
            ],
            "text/html": [
              "<table border=\"1\" class=\"dataframe\">\n",
              "  <thead>\n",
              "    <tr style=\"text-align: right;\">\n",
              "      <th></th>\n",
              "      <th>tag_users_tag_id</th>\n",
              "      <th>tag_users_user_id</th>\n",
              "    </tr>\n",
              "  </thead>\n",
              "  <tbody>\n",
              "    <tr>\n",
              "      <th>1</th>\n",
              "      <td>593</td>\n",
              "      <td>c72ab38e073246e88da7e9a4ec7a4472</td>\n",
              "    </tr>\n",
              "    <tr>\n",
              "      <th>2</th>\n",
              "      <td>1642</td>\n",
              "      <td>8db519781ec24f2e8bdc67c2ac53f614</td>\n",
              "    </tr>\n",
              "    <tr>\n",
              "      <th>3</th>\n",
              "      <td>638</td>\n",
              "      <td>042d2184ee3e4e548fc3589baaa69caf</td>\n",
              "    </tr>\n",
              "    <tr>\n",
              "      <th>4</th>\n",
              "      <td>11093</td>\n",
              "      <td>c660bd0dc1b34224be78a58aa5a84a63</td>\n",
              "    </tr>\n",
              "    <tr>\n",
              "      <th>5</th>\n",
              "      <td>21539</td>\n",
              "      <td>8ce1dca4e94240239e4385ed22ef43ce</td>\n",
              "    </tr>\n",
              "  </tbody>\n",
              "</table>"
            ]
          },
          "metadata": {}
        }
      ],
      "source": [
        "#convert R datafram to python dataframe\n",
        "%R -o tag_users_df \n",
        "display(HTML(tag_users_df.head(5).to_html()))"
      ]
    },
    {
      "cell_type": "markdown",
      "metadata": {
        "id": "nW-q3WmHbMez"
      },
      "source": [
        "#### Working with tag_questions, tags, tag_users datasets"
      ]
    },
    {
      "cell_type": "code",
      "source": [
        "%%R\n",
        "#join tags with tag_question, to get the most popular tags \n",
        "tag_ques_df <- left_join(tags_df, tag_questions_df, by = c(\"tags_tag_id\"=\"tag_questions_tag_id\"))   \n",
        "print(as_tibble(tag_ques_df))"
      ],
      "metadata": {
        "colab": {
          "base_uri": "https://localhost:8080/"
        },
        "id": "qe1uii4_ZBtI",
        "outputId": "3f268549-3795-4995-bd46-673331378612"
      },
      "execution_count": 18,
      "outputs": [
        {
          "output_type": "stream",
          "name": "stdout",
          "text": [
            "# A tibble: 85,731 × 3\n",
            "   tags_tag_id tags_tag_name tag_questions_question_id       \n",
            "         <int> <chr>         <chr>                           \n",
            " 1       27490 college       bfbf79503bfb48909b4e514c5675502e\n",
            " 2       27490 college       a4da117f4e3b45d49b83f7c3d6bc9915\n",
            " 3       27490 college       9b90fda0660e4b72936c17a642334929\n",
            " 4       27490 college       37a7d709c90445fc9643ada3933fbc6d\n",
            " 5       27490 college       bc854d4070dd474797ff5f0242f510f1\n",
            " 6       27490 college       b3f8dc8bb99b45c6a6898b7ea20daf6c\n",
            " 7       27490 college       2fceaae061a745728d59c858670ad095\n",
            " 8       27490 college       a13642cafac5475c8ba7012e13e06b28\n",
            " 9       27490 college       4c521ed278a3450b995d8218aeae2da9\n",
            "10       27490 college       81fe26c0f4214d70b1c0875f3a4720a0\n",
            "# … with 85,721 more rows\n"
          ]
        }
      ]
    },
    {
      "cell_type": "code",
      "source": [
        "%%R\n",
        "#group by tag_id to get count of questions associated to that tag\n",
        "tag_ques_df <- tag_ques_df %>% group_by(tags_tag_id,tags_tag_name) %>%\n",
        "                  summarise(question_count = n_distinct(tag_questions_question_id,na.rm = TRUE))\n",
        "print(as_tibble(tag_ques_df))"
      ],
      "metadata": {
        "colab": {
          "base_uri": "https://localhost:8080/"
        },
        "id": "0Ka9s45gZ9bR",
        "outputId": "c8487ca5-0442-4c35-b712-b88a66c7a243"
      },
      "execution_count": 19,
      "outputs": [
        {
          "output_type": "stream",
          "name": "stdout",
          "text": [
            "`summarise()` has grouped output by 'tags_tag_id'. You can override using the\n",
            "`.groups` argument.\n",
            "# A tibble: 16,269 × 3\n",
            "   tags_tag_id tags_tag_name question_count\n",
            "         <int> <chr>                  <int>\n",
            " 1          27 military                 134\n",
            " 2          29 teaching                 520\n",
            " 3          36 health                   214\n",
            " 4          42 veterinary               173\n",
            " 5          46 lawyer                   285\n",
            " 6          51 biology                  464\n",
            " 7          53 science                  701\n",
            " 8          54 engineering             1083\n",
            " 9          55 engineer                 505\n",
            "10          60 google                    21\n",
            "# … with 16,259 more rows\n"
          ]
        }
      ]
    },
    {
      "cell_type": "code",
      "execution_count": 20,
      "metadata": {
        "colab": {
          "base_uri": "https://localhost:8080/"
        },
        "id": "Q4U70WgIhuk-",
        "outputId": "e57c498d-1222-4137-ce9b-ec98e0df5959"
      },
      "outputs": [
        {
          "output_type": "stream",
          "name": "stdout",
          "text": [
            "# A tibble: 136,663 × 3\n",
            "   tag_users_tag_id tag_users_user_id                tags_tag_name    \n",
            "              <int> <chr>                            <chr>            \n",
            " 1              593 c72ab38e073246e88da7e9a4ec7a4472 computer-software\n",
            " 2             1642 8db519781ec24f2e8bdc67c2ac53f614 programming      \n",
            " 3              638 042d2184ee3e4e548fc3589baaa69caf running          \n",
            " 4            11093 c660bd0dc1b34224be78a58aa5a84a63 life-coach       \n",
            " 5            21539 8ce1dca4e94240239e4385ed22ef43ce art              \n",
            " 6             1047 3330f8a7835346a2a91f9393ae21efee snowboarding     \n",
            " 7               64 5a4a16842ec64430ac3f916aacf35fe1 architecture     \n",
            " 8             1139 461f92b955924604832a92b6bc14ac1d gardening        \n",
            " 9               55 7daf1e6dfb3443b99b240890f0a4d69b engineer         \n",
            "10               54 7daf1e6dfb3443b99b240890f0a4d69b engineering      \n",
            "# … with 136,653 more rows\n"
          ]
        }
      ],
      "source": [
        "%%R\n",
        "#join tags with tag_users that has professional id\n",
        "prof_tags_df <- left_join(tag_users_df, tags_df, by = c(\"tag_users_tag_id\"=\"tags_tag_id\"))  \n",
        "print(as_tibble(prof_tags_df))"
      ]
    },
    {
      "cell_type": "code",
      "execution_count": 21,
      "metadata": {
        "colab": {
          "base_uri": "https://localhost:8080/"
        },
        "id": "_ExDr7gymtiH",
        "outputId": "92f9177b-34d1-43ed-e63b-3703ca28923c"
      },
      "outputs": [
        {
          "output_type": "stream",
          "name": "stdout",
          "text": [
            "`summarise()` has grouped output by 'tag_users_tag_id'. You can override using\n",
            "the `.groups` argument.\n",
            "# A tibble: 11,911 × 4\n",
            "   tag_users_tag_id tags_tag_name all_users                     professionals_c…\n",
            "              <int> <chr>         <chr>                                    <int>\n",
            " 1               27 military      5f77e0a2c3a144dda336df2294a6…              210\n",
            " 2               29 teaching      6e795d8d47de4676a8d5cef449be…              359\n",
            " 3               36 health        0c9a2748560541be9fe2df0d7be8…              141\n",
            " 4               42 veterinary    9446cf87650141ac92b037d051a0…               94\n",
            " 5               46 lawyer        b6af2f682f0e4bf2af7783c19808…              189\n",
            " 6               51 biology       206f648e7e88405c858c0e6b4a35…              272\n",
            " 7               53 science       91b249c2b66e44c7ac2c9bd2a725…              396\n",
            " 8               54 engineering   7daf1e6dfb3443b99b240890f0a4…              742\n",
            " 9               55 engineer      7daf1e6dfb3443b99b240890f0a4…              168\n",
            "10               60 google        f7a8cb8754d94671ab468264ea07…               47\n",
            "# … with 11,901 more rows\n"
          ]
        }
      ],
      "source": [
        "%%R\n",
        "#group by tag id and tag name to get all the professionals associated to that tag\n",
        "tag_prof_count_df <- prof_tags_df %>% group_by(tag_users_tag_id, tags_tag_name) %>%\n",
        "                  summarise(all_users = paste(tag_users_user_id, collapse = \" | \"), professionals_count = n_distinct(tag_users_user_id,na.rm = TRUE))\n",
        "print(as_tibble(tag_prof_count_df))"
      ]
    },
    {
      "cell_type": "code",
      "source": [
        "%%R\n",
        "#join tag_ques_df with tag_prof_count_df, to get the most popular tags with professionals\n",
        "tag_ques_prof_df <- left_join(tag_ques_df, select(tag_prof_count_df,c(tag_users_tag_id,professionals_count)), by = c(\"tags_tag_id\"=\"tag_users_tag_id\"))   \n",
        "print(as_tibble(tag_ques_prof_df))"
      ],
      "metadata": {
        "colab": {
          "base_uri": "https://localhost:8080/"
        },
        "id": "B0ppcBh1d_p3",
        "outputId": "35db01a8-8740-4550-9f24-157f52b61a95"
      },
      "execution_count": 22,
      "outputs": [
        {
          "output_type": "stream",
          "name": "stdout",
          "text": [
            "# A tibble: 16,269 × 4\n",
            "   tags_tag_id tags_tag_name question_count professionals_count\n",
            "         <int> <chr>                  <int>               <int>\n",
            " 1          27 military                 134                 210\n",
            " 2          29 teaching                 520                 359\n",
            " 3          36 health                   214                 141\n",
            " 4          42 veterinary               173                  94\n",
            " 5          46 lawyer                   285                 189\n",
            " 6          51 biology                  464                 272\n",
            " 7          53 science                  701                 396\n",
            " 8          54 engineering             1083                 742\n",
            " 9          55 engineer                 505                 168\n",
            "10          60 google                    21                  47\n",
            "# … with 16,259 more rows\n"
          ]
        }
      ]
    },
    {
      "cell_type": "code",
      "execution_count": 23,
      "metadata": {
        "colab": {
          "base_uri": "https://localhost:8080/"
        },
        "id": "fr9PkozIbT8o",
        "outputId": "0e2602fd-1034-4b74-e7eb-158db0b7c0cf"
      },
      "outputs": [
        {
          "output_type": "stream",
          "name": "stdout",
          "text": [
            "# A tibble: 76,553 × 3\n",
            "   tag_questions_tag_id tag_questions_question_id        tags_tag_name\n",
            "                  <int> <chr>                            <chr>        \n",
            " 1                28930 cb43ebee01364c68ac61d347a393ae39 minor        \n",
            " 2                28930 47f55e85ce944242a5a347ab85a8ffb4 minor        \n",
            " 3                28930 ccc30a033a0f4dfdb2eb987012f25792 minor        \n",
            " 4                28930 e30b274e48d741f7bf50eb5e7171a3c0 minor        \n",
            " 5                28930 3d22742052df4989b311b4195cbb0f1a minor        \n",
            " 6                28930 c79baebeb6d44726b6f70a2414fb69bc minor        \n",
            " 7                28930 4eb64ed1527847f29d3e3d8a713bb3dc minor        \n",
            " 8                28930 bebfb741f4524b8cb871f35b5780b54f minor        \n",
            " 9                28930 3e7c462a0adb4bfa8830282867f3900b minor        \n",
            "10                28930 23b52dd81ad7465a9472596c7dedc492 minor        \n",
            "# … with 76,543 more rows\n"
          ]
        }
      ],
      "source": [
        "%%R\n",
        "#join tag_question with tags \n",
        "ques_tags_df <- left_join(tag_questions_df, tags_df, by = c(\"tag_questions_tag_id\"=\"tags_tag_id\"))   \n",
        "print(as_tibble(ques_tags_df))"
      ]
    },
    {
      "cell_type": "code",
      "execution_count": 24,
      "metadata": {
        "colab": {
          "base_uri": "https://localhost:8080/"
        },
        "id": "9KhgiofxfW5Q",
        "outputId": "3835d8b3-5b28-451d-836a-5595a17fe26f"
      },
      "outputs": [
        {
          "output_type": "stream",
          "name": "stdout",
          "text": [
            "[1] 76553     2\n",
            "[1] 16269     2\n",
            "[1] 76553     3\n"
          ]
        }
      ],
      "source": [
        "%%R\n",
        "print(dim(tag_questions_df))\n",
        "print(dim(tags_df))\n",
        "print(dim(ques_tags_df))"
      ]
    },
    {
      "cell_type": "code",
      "execution_count": 25,
      "metadata": {
        "colab": {
          "base_uri": "https://localhost:8080/"
        },
        "id": "OiPbOqS6gCv_",
        "outputId": "61c9858d-47ed-4bb3-932c-00ff8af76cae"
      },
      "outputs": [
        {
          "output_type": "stream",
          "name": "stdout",
          "text": [
            "# A tibble: 23,288 × 3\n",
            "   tag_questions_question_id        all_tags                           tag_count\n",
            "   <chr>                            <chr>                                  <int>\n",
            " 1 0003e7bf48f24b5c985f8fce96e611f3 internship | technology | high-sc…         6\n",
            " 2 0006609dd4da40dcaa5a83e0499aba14 psychology | law                           2\n",
            " 3 000af224bc2f4e94a19f8b62ba279cc4 biology | marine                           2\n",
            " 4 000b30fb534b41f7b716fa9ebf9c3f35 teaching | exercise-science | sch…         4\n",
            " 5 0018752e44b44e26bb74a0a43232b4d6 math | puremathematics                     2\n",
            " 6 0025b917219c4a24ba5fe260ca66ca98 forensic | criminal-justice | col…         3\n",
            " 7 00269cdc24fd4a3c93aad485688c240b videogames | videogamesmaking | g…         3\n",
            " 8 002b07f6281a407ca49ee8b3538e5e45 programming                                1\n",
            " 9 002c5689a0b642a3940f99b68f5364b6 clinical-psychology | psychiatry …         4\n",
            "10 0031077b31454fadae1754e871e84457 interior-decorator | interior-des…         2\n",
            "# … with 23,278 more rows\n"
          ]
        }
      ],
      "source": [
        "%%R\n",
        "#group by question_id to get all the tags associated to that question\n",
        "ques_tags_df <- ques_tags_df %>% group_by(tag_questions_question_id) %>%\n",
        "                  summarise(all_tags = paste(tags_tag_name, collapse = \" | \"), tag_count = n_distinct(tag_questions_tag_id,na.rm = TRUE))\n",
        "print(as_tibble(ques_tags_df))"
      ]
    },
    {
      "cell_type": "code",
      "source": [
        "%%R \n",
        "# remove duplicate tags from ques_tags_df\n",
        "for (i in 1:nrow(ques_tags_df)) {\n",
        "    #get the tags cell value\n",
        "    all_tags <- c(ques_tags_df[i,2])\n",
        "    #if there are more than one tag associated to the questiom,\n",
        "    #only keep the unique tags\n",
        "    if(grepl(\"|\", all_tags, fixed = TRUE)){\n",
        "      tag_list <- unlist(strsplit(as.character(all_tags), \" \\\\| \"))\n",
        "      tag_set <- unique(tag_list)\n",
        "      ques_tags_df[i,2] <- paste(tag_set, collapse = \" | \")\n",
        "    }\n",
        "}"
      ],
      "metadata": {
        "id": "DhCuyUBsTYED"
      },
      "execution_count": 26,
      "outputs": []
    },
    {
      "cell_type": "code",
      "execution_count": 27,
      "metadata": {
        "colab": {
          "base_uri": "https://localhost:8080/"
        },
        "id": "LMqrnUexki56",
        "outputId": "01bf983a-e5f4-45a4-fbc9-3b3c6242be66"
      },
      "outputs": [
        {
          "output_type": "stream",
          "name": "stdout",
          "text": [
            "[1] 16269     2\n",
            "[1] 136663      2\n",
            "[1] 136663      3\n"
          ]
        }
      ],
      "source": [
        "%%R\n",
        "print(dim(tags_df))\n",
        "print(dim(tag_users_df))\n",
        "print(dim(prof_tags_df))"
      ]
    },
    {
      "cell_type": "code",
      "execution_count": 28,
      "metadata": {
        "colab": {
          "base_uri": "https://localhost:8080/"
        },
        "id": "xCj68hFZk-b6",
        "outputId": "7f540f4c-7028-47cd-e7fa-2cccb200b642"
      },
      "outputs": [
        {
          "output_type": "stream",
          "name": "stdout",
          "text": [
            "# A tibble: 30,202 × 3\n",
            "   tag_users_user_id                all_tags                           tag_count\n",
            "   <chr>                            <chr>                                  <int>\n",
            " 1 00009a0f9bda43eba47104e9ac62aff5 digital-media | script-writing | …         3\n",
            " 2 000196ef8db54b9a86ae70ad31745d04 accounting                                 1\n",
            " 3 0008138be908438e8944b21f7f57f2c1 real-estate                                1\n",
            " 4 000d4635e5da41e3bfd83677ee11dda4 university | information-technolo…         3\n",
            " 5 000e2b5714444d79a672bf927905135c financial-services                         1\n",
            " 6 0018873fbf7742aba1bf13fff12cbfa4 financial-services                         1\n",
            " 7 001bd6f7f1ac4897b0b35dc665c64d2e college                                    1\n",
            " 8 001df2a2cfb74ef78f3053ddee305ba6 food | family-medicine | creative…         9\n",
            " 9 00211ce6a146458b849283adf31ffc13 telecommunications | #math | #spo…         3\n",
            "10 00270bae68ee49eba99cb63a2942b5cd technology | testing | customer-a…        16\n",
            "# … with 30,192 more rows\n"
          ]
        }
      ],
      "source": [
        "%%R\n",
        "#group by professional id to get all the tags that are associated to the professional\n",
        "prof_all_tags_df <- prof_tags_df %>% group_by(tag_users_user_id) %>%\n",
        "                  summarise(all_tags = paste(tags_tag_name, collapse = \" | \"), tag_count = n_distinct(tag_users_tag_id,na.rm = TRUE))\n",
        "print(as_tibble(prof_all_tags_df))"
      ]
    },
    {
      "cell_type": "code",
      "source": [
        "%%R\n",
        "# remove duplicate tags from prof_all_tags_df\n",
        "for (i in 1:nrow(prof_all_tags_df)) {\n",
        "    #get the tags cell value\n",
        "    all_tags <- c(prof_all_tags_df[i,2])\n",
        "    #if there are more than one tag associated to the professional,\n",
        "    #only keep the unique tags\n",
        "    if(grepl(\"|\", all_tags, fixed = TRUE)){\n",
        "      tag_list <- unlist(strsplit(as.character(all_tags), \" \\\\| \"))\n",
        "      tag_set <- unique(tag_list)\n",
        "      prof_all_tags_df[i,2] <- paste(tag_set, collapse = \" | \")\n",
        "    }\n",
        "}"
      ],
      "metadata": {
        "id": "VeT-5vPNUSrp"
      },
      "execution_count": 29,
      "outputs": []
    },
    {
      "cell_type": "markdown",
      "source": [
        "#### Working with questions and question_scores datasets"
      ],
      "metadata": {
        "id": "ETGlaIcG2CiG"
      }
    },
    {
      "cell_type": "code",
      "execution_count": 30,
      "metadata": {
        "colab": {
          "base_uri": "https://localhost:8080/"
        },
        "id": "3O1sxP_b1zUR",
        "outputId": "e7e5acdc-2de1-4f3d-e174-ff316d564ee3"
      },
      "outputs": [
        {
          "output_type": "stream",
          "name": "stdout",
          "text": [
            "# A tibble: 0 × 5\n",
            "# … with 5 variables: questions_id <chr>, questions_author_id <chr>,\n",
            "#   questions_date_added <chr>, questions_title <chr>, questions_body <chr>\n",
            "# A tibble: 0 × 2\n",
            "# … with 2 variables: id <chr>, score <int>\n",
            "# A tibble: 0 × 3\n",
            "# … with 3 variables: tag_questions_question_id <chr>, all_tags <chr>,\n",
            "#   tag_count <int>\n"
          ]
        }
      ],
      "source": [
        "%%R\n",
        "#find duplicates in question id in questions and questions_score\n",
        "print(as_tibble(questions_df[duplicated(questions_df$questions_id), ]))\n",
        "print(as_tibble(question_scores_df[duplicated(question_scores_df$id), ]))\n",
        "\n",
        "#this is not necessary, but just an additional check to find duplicates in ques_tags_df\n",
        "print(as_tibble(ques_tags_df[duplicated(ques_tags_df$tag_questions_question_id), ]))"
      ]
    },
    {
      "cell_type": "code",
      "execution_count": 31,
      "metadata": {
        "colab": {
          "base_uri": "https://localhost:8080/"
        },
        "id": "XLB5I4zn5JKo",
        "outputId": "a86aa5c0-eeb9-4c43-d2e4-81b9c17e722f"
      },
      "outputs": [
        {
          "output_type": "stream",
          "name": "stdout",
          "text": [
            "[1] 23931     5\n",
            "[1] 23928     2\n",
            "[1] 23288     3\n"
          ]
        }
      ],
      "source": [
        "%%R\n",
        "print(dim(questions_df))\n",
        "print(dim(question_scores_df))\n",
        "print(dim(ques_tags_df))"
      ]
    },
    {
      "cell_type": "code",
      "execution_count": 32,
      "metadata": {
        "colab": {
          "base_uri": "https://localhost:8080/"
        },
        "id": "zhoyBjIXUli8",
        "outputId": "a29eb9bc-c3fb-4fa0-cb79-b5ea771cd37a"
      },
      "outputs": [
        {
          "output_type": "stream",
          "name": "stdout",
          "text": [
            "# A tibble: 0 × 2\n",
            "# … with 2 variables: id <chr>, score <int>\n",
            "# A tibble: 3 × 5\n",
            "  questions_id  questions_autho… questions_date_… questions_title questions_body\n",
            "  <chr>         <chr>            <chr>            <chr>           <chr>         \n",
            "1 215a6e8eeda8… f511faad4fb14b4… 2018-03-12 03:2… Network Admini… \"What is the …\n",
            "2 0a1d9fec5b1f… f511faad4fb14b4… 2018-05-08 13:0… Interniship Te… \"Is it possib…\n",
            "3 486d7c131c69… f511faad4fb14b4… 2018-03-12 03:2… Remote Network… \"Are you able…\n"
          ]
        }
      ],
      "source": [
        "%%R\n",
        "ques_anti_join_df <- anti_join(question_scores_df, questions_df, by = c(\"id\"=\"questions_id\"))\n",
        "print(as_tibble(ques_anti_join_df)) \n",
        "ques_anti_join2_df <- anti_join(questions_df, question_scores_df, by = c(\"questions_id\"=\"id\"))\n",
        "print(as_tibble(ques_anti_join2_df)) "
      ]
    },
    {
      "cell_type": "markdown",
      "metadata": {
        "id": "P246FGOU2Uth"
      },
      "source": [
        "Relationship between Questions and Question scores is one to one and 3 questions do not have scores"
      ]
    },
    {
      "cell_type": "code",
      "execution_count": 33,
      "metadata": {
        "colab": {
          "base_uri": "https://localhost:8080/"
        },
        "id": "sWatbZBlrrz3",
        "outputId": "b5524528-97bd-4e9a-a7df-85c5abea0a6c"
      },
      "outputs": [
        {
          "output_type": "stream",
          "name": "stdout",
          "text": [
            "# A tibble: 23,931 × 8\n",
            "   questions_id questions_autho… questions_date_… questions_title questions_body\n",
            "   <chr>        <chr>            <chr>            <chr>           <chr>         \n",
            " 1 332a511f156… 8f6f374ffd834d2… 2016-04-26 11:1… Teacher   care… \"What  is  a …\n",
            " 2 eb80205482e… acccbda28edd436… 2016-05-20 16:4… I want to beco… \"I am Priyank…\n",
            " 3 4ec31632938… f2c179a563024cc… 2017-02-08 19:1… Will going abr… \"I'm planning…\n",
            " 4 2f6a9a99d9b… 2c30ffba444e40e… 2017-09-01 14:0… To become a sp… \"i hear busin…\n",
            " 5 5af8880460c… aa9eb1a2ab184eb… 2017-09-01 02:3… Are there any … \"I'm trying t…\n",
            " 6 7c336403258… d1e4587c0e784c6… 2017-03-01 04:2… How many years… \"To be an eng…\n",
            " 7 be3c5edfdb0… 71b4554d4a82425… 2017-09-01 04:5… I want to beco… \"I am a music…\n",
            " 8 0f1d6a4f276… 585ac233015447c… 2016-05-19 22:1… what kind of  … \"I like socce…\n",
            " 9 d4999cdc470… 654e1d6fd5b9472… 2017-08-31 19:2… What are the c… \"I'm asking b…\n",
            "10 e214acfbe66… 16908136951a48e… 2012-09-09 05:3… what does it t… \"I am a sopho…\n",
            "# … with 23,921 more rows, and 3 more variables: score <int>, all_tags <chr>,\n",
            "#   tag_count <int>\n"
          ]
        }
      ],
      "source": [
        "%%R\n",
        "#join questions with questions_scores\n",
        "ques_score_tag_df <- left_join(questions_df, question_scores_df, by = c(\"questions_id\"=\"id\"))  \n",
        "#join questions with ques_tags_df\n",
        "ques_score_tag_df <- left_join(ques_score_tag_df, ques_tags_df, by = c(\"questions_id\"=\"tag_questions_question_id\"))\n",
        "print(as_tibble(ques_score_tag_df))"
      ]
    },
    {
      "cell_type": "markdown",
      "metadata": {
        "id": "PcJiRRH1Zc_V"
      },
      "source": [
        "### Exploring professionals, groups, group_memberships and school_memberships datasets"
      ]
    },
    {
      "cell_type": "code",
      "execution_count": 34,
      "metadata": {
        "colab": {
          "base_uri": "https://localhost:8080/",
          "height": 206
        },
        "id": "XvgJfXCk8i_q",
        "outputId": "5466b15c-4711-48e2-fec4-b197680df4ca"
      },
      "outputs": [
        {
          "output_type": "display_data",
          "data": {
            "text/plain": [
              "<IPython.core.display.HTML object>"
            ],
            "text/html": [
              "<table border=\"1\" class=\"dataframe\">\n",
              "  <thead>\n",
              "    <tr style=\"text-align: right;\">\n",
              "      <th></th>\n",
              "      <th>professionals_id</th>\n",
              "      <th>professionals_location</th>\n",
              "      <th>professionals_industry</th>\n",
              "      <th>professional_industry_group</th>\n",
              "      <th>professionals_headline</th>\n",
              "      <th>professionals_date_joined</th>\n",
              "    </tr>\n",
              "  </thead>\n",
              "  <tbody>\n",
              "    <tr>\n",
              "      <th>1</th>\n",
              "      <td>9ced4ce7519049c0944147afb75a8ce3</td>\n",
              "      <td></td>\n",
              "      <td></td>\n",
              "      <td></td>\n",
              "      <td></td>\n",
              "      <td>2011-10-05 20:35:19 UTC+0000</td>\n",
              "    </tr>\n",
              "    <tr>\n",
              "      <th>2</th>\n",
              "      <td>f718dcf6d2ec4cb0a52a9db59d7f9e67</td>\n",
              "      <td></td>\n",
              "      <td></td>\n",
              "      <td></td>\n",
              "      <td></td>\n",
              "      <td>2011-10-05 20:49:21 UTC+0000</td>\n",
              "    </tr>\n",
              "    <tr>\n",
              "      <th>3</th>\n",
              "      <td>0c673e046d824ec0ad0ebe012a0673e4</td>\n",
              "      <td>New York, New York</td>\n",
              "      <td></td>\n",
              "      <td></td>\n",
              "      <td></td>\n",
              "      <td>2011-10-18 17:31:26 UTC+0000</td>\n",
              "    </tr>\n",
              "    <tr>\n",
              "      <th>4</th>\n",
              "      <td>977428d851b24183b223be0eb8619a8c</td>\n",
              "      <td>Boston, Massachusetts</td>\n",
              "      <td></td>\n",
              "      <td></td>\n",
              "      <td></td>\n",
              "      <td>2011-11-09 20:39:29 UTC+0000</td>\n",
              "    </tr>\n",
              "    <tr>\n",
              "      <th>5</th>\n",
              "      <td>e2d57e5041a44f489288397c9904c2b2</td>\n",
              "      <td></td>\n",
              "      <td></td>\n",
              "      <td></td>\n",
              "      <td></td>\n",
              "      <td>2011-12-10 22:14:44 UTC+0000</td>\n",
              "    </tr>\n",
              "  </tbody>\n",
              "</table>"
            ]
          },
          "metadata": {}
        }
      ],
      "source": [
        "#convert R datafram to python dataframe\n",
        "%R -o professionals_df \n",
        "display(HTML(professionals_df.head(5).to_html()))"
      ]
    },
    {
      "cell_type": "code",
      "execution_count": 35,
      "metadata": {
        "colab": {
          "base_uri": "https://localhost:8080/"
        },
        "id": "szzQ5Jym2xpG",
        "outputId": "3026b1e2-b533-4a1d-8bdc-364ab7483f56"
      },
      "outputs": [
        {
          "output_type": "stream",
          "name": "stdout",
          "text": [
            "[1] 28152     6\n",
            "[1] 30202     3\n"
          ]
        }
      ],
      "source": [
        "%%R\n",
        "print(dim(professionals_df))\n",
        "print(dim(prof_all_tags_df))"
      ]
    },
    {
      "cell_type": "code",
      "execution_count": 36,
      "metadata": {
        "colab": {
          "base_uri": "https://localhost:8080/"
        },
        "id": "JASzB0I69BiV",
        "outputId": "cff58b54-1d06-4a47-fd37-b6197c2dc6c3"
      },
      "outputs": [
        {
          "output_type": "stream",
          "name": "stdout",
          "text": [
            "# A tibble: 0 × 6\n",
            "# … with 6 variables: professionals_id <chr>, professionals_location <chr>,\n",
            "#   professionals_industry <chr>, professional_industry_group <chr>,\n",
            "#   professionals_headline <chr>, professionals_date_joined <chr>\n",
            "# A tibble: 0 × 3\n",
            "# … with 3 variables: tag_users_user_id <chr>, all_tags <chr>, tag_count <int>\n",
            " tag_users_user_id    all_tags           tag_count    \n",
            " Length:4608        Length:4608        Min.   : 1.00  \n",
            " Class :character   Class :character   1st Qu.: 2.00  \n",
            " Mode  :character   Mode  :character   Median : 3.00  \n",
            "                                       Mean   : 4.14  \n",
            "                                       3rd Qu.: 5.00  \n",
            "                                       Max.   :56.00  \n"
          ]
        }
      ],
      "source": [
        "%%R\n",
        "#find duplicates in professionals id in professionals and prof_all_tags_df\n",
        "print(as_tibble(professionals_df[duplicated(professionals_df$professionals_id), ]))\n",
        "print(as_tibble(prof_all_tags_df[duplicated(prof_all_tags_df$tag_users_user_id), ]))\n",
        "#check which professionals are in the prof_all_tags_df but not in professionals_df\n",
        "#anti_join_df <- anti_join(professionals_df, prof_all_tags_df, by = c(\"professionals_id\"=\"tag_users_user_id\"))\n",
        "anti_join_df <- anti_join(prof_all_tags_df, professionals_df, by = c(\"tag_users_user_id\"=\"professionals_id\"))\n",
        "summary(as_tibble(anti_join_df)) "
      ]
    },
    {
      "cell_type": "code",
      "execution_count": 37,
      "metadata": {
        "colab": {
          "base_uri": "https://localhost:8080/"
        },
        "id": "KYBA4n0-EW2t",
        "outputId": "ffd54af8-22cb-4e75-f667-a353d295cdd9"
      },
      "outputs": [
        {
          "output_type": "stream",
          "name": "stdout",
          "text": [
            "# A tibble: 4,608 × 3\n",
            "   tag_users_user_id                all_tags                           tag_count\n",
            "   <chr>                            <chr>                                  <int>\n",
            " 1 001bd6f7f1ac4897b0b35dc665c64d2e college                                    1\n",
            " 2 001df2a2cfb74ef78f3053ddee305ba6 food | family-medicine | creative…         9\n",
            " 3 002f07c506a2438c9e7eb90693c3c2f2 real-estate | interior-design | f…         3\n",
            " 4 003a1ef91d0a45f6a61ca56fffd1beee skincare | radio                           2\n",
            " 5 003af75eba604db9a7b72862fd5efd03 english | law | politics | consti…         6\n",
            " 6 004b221ad6534a0fac421356eea279b6 law | spanish | doublemajor | emi…         5\n",
            " 7 0080e2394d3440c8b0efa71b4482b784 career | engineer | nanosystems            3\n",
            " 8 0088fbc76ac54f059427b8d84827399b professor | student | counseling …         8\n",
            " 9 008d073f619946ad80d2eac08be12020 teacher | professor | educator | …         5\n",
            "10 0096ddada2924340be01d83357e0d229 career | career-choice | careers           3\n",
            "# … with 4,598 more rows\n"
          ]
        }
      ],
      "source": [
        "%%R\n",
        "print(as_tibble(anti_join_df))"
      ]
    },
    {
      "cell_type": "markdown",
      "metadata": {
        "id": "MKiwgjk3Xle3"
      },
      "source": [
        "There can be some users in tag_users that do not have their records in professionals data. This can be a data error or data mismatch while data entry.\n",
        "To make further analysis easier, we will only consider those ids that are present in professionals are populate the tags they are associated with"
      ]
    },
    {
      "cell_type": "code",
      "execution_count": 38,
      "metadata": {
        "colab": {
          "base_uri": "https://localhost:8080/"
        },
        "id": "vAyKpStu8KLa",
        "outputId": "dc2ea6fa-6fbd-40ff-cb3d-c433fa63edff"
      },
      "outputs": [
        {
          "output_type": "stream",
          "name": "stdout",
          "text": [
            "# A tibble: 28,152 × 8\n",
            "   professionals_id           professionals_l… professionals_i… professional_in…\n",
            "   <chr>                      <chr>            <chr>            <chr>           \n",
            " 1 9ced4ce7519049c0944147afb… \"\"               \"\"               \"\"              \n",
            " 2 f718dcf6d2ec4cb0a52a9db59… \"\"               \"\"               \"\"              \n",
            " 3 0c673e046d824ec0ad0ebe012… \"New York, New … \"\"               \"\"              \n",
            " 4 977428d851b24183b223be0eb… \"Boston, Massac… \"\"               \"\"              \n",
            " 5 e2d57e5041a44f489288397c9… \"\"               \"\"               \"\"              \n",
            " 6 c9bfa93898594cbbace436dec… \"\"               \"\"               \"\"              \n",
            " 7 ed85488fb5e941eaa97014137… \"\"               \"\"               \"\"              \n",
            " 8 102fb92c28034ad988b593d01… \"\"               \"\"               \"\"              \n",
            " 9 5a4a16842ec64430ac3f916aa… \"\"               \"\"               \"\"              \n",
            "10 81999d5ad93549dab55636a54… \"\"               \"\"               \"\"              \n",
            "# … with 28,142 more rows, and 4 more variables: professionals_headline <chr>,\n",
            "#   professionals_date_joined <chr>, all_tags <chr>, tag_count <int>\n"
          ]
        }
      ],
      "source": [
        "%%R\n",
        "#join professionals with prof_all_tags_df\n",
        "prof_all_tags_df <- left_join(professionals_df, prof_all_tags_df, by = c(\"professionals_id\"=\"tag_users_user_id\"))  \n",
        "print(as_tibble(prof_all_tags_df))"
      ]
    },
    {
      "cell_type": "code",
      "execution_count": 39,
      "metadata": {
        "colab": {
          "base_uri": "https://localhost:8080/",
          "height": 1000
        },
        "id": "E3eg6V51Z5N0",
        "outputId": "44ef500e-5fe5-44e0-9f91-b7bd1bd0c2b6"
      },
      "outputs": [
        {
          "output_type": "display_data",
          "data": {
            "text/plain": [
              "<IPython.core.display.HTML object>"
            ],
            "text/html": [
              "<table border=\"1\" class=\"dataframe\">\n",
              "  <thead>\n",
              "    <tr style=\"text-align: right;\">\n",
              "      <th></th>\n",
              "      <th>groups_id</th>\n",
              "      <th>groups_group_type</th>\n",
              "    </tr>\n",
              "  </thead>\n",
              "  <tbody>\n",
              "    <tr>\n",
              "      <th>1</th>\n",
              "      <td>eabbdf4029734c848a9da20779637d03</td>\n",
              "      <td>youth program</td>\n",
              "    </tr>\n",
              "    <tr>\n",
              "      <th>2</th>\n",
              "      <td>7080bf8dcf78463bb03e6863887fd715</td>\n",
              "      <td>youth program</td>\n",
              "    </tr>\n",
              "    <tr>\n",
              "      <th>3</th>\n",
              "      <td>bc6fc50a2b444efc8ec47111b290ffb8</td>\n",
              "      <td>youth program</td>\n",
              "    </tr>\n",
              "    <tr>\n",
              "      <th>4</th>\n",
              "      <td>37f002e8d5e442ca8e36e972eaa55882</td>\n",
              "      <td>youth program</td>\n",
              "    </tr>\n",
              "    <tr>\n",
              "      <th>5</th>\n",
              "      <td>52419ff84d4b47bebd0b0a6c1263c296</td>\n",
              "      <td>youth program</td>\n",
              "    </tr>\n",
              "    <tr>\n",
              "      <th>6</th>\n",
              "      <td>559dbc7bd1f64c268ff149c4d5d63500</td>\n",
              "      <td>youth program</td>\n",
              "    </tr>\n",
              "    <tr>\n",
              "      <th>7</th>\n",
              "      <td>528fa2c7559a40749b6151a07d3b8ef5</td>\n",
              "      <td>youth program</td>\n",
              "    </tr>\n",
              "    <tr>\n",
              "      <th>8</th>\n",
              "      <td>cfaac1762bed4c8bb88696267129a560</td>\n",
              "      <td>youth program</td>\n",
              "    </tr>\n",
              "    <tr>\n",
              "      <th>9</th>\n",
              "      <td>f79273f51df849d298bd6f4b86daee99</td>\n",
              "      <td>youth program</td>\n",
              "    </tr>\n",
              "    <tr>\n",
              "      <th>10</th>\n",
              "      <td>ba94226c87d249a1a2dbdc32a848b769</td>\n",
              "      <td>youth program</td>\n",
              "    </tr>\n",
              "    <tr>\n",
              "      <th>11</th>\n",
              "      <td>cfdab61b2c6c47a78c4641852debb38f</td>\n",
              "      <td>youth program</td>\n",
              "    </tr>\n",
              "    <tr>\n",
              "      <th>12</th>\n",
              "      <td>9d922f354e7c404e98cb2acc1bcfa444</td>\n",
              "      <td>youth program</td>\n",
              "    </tr>\n",
              "    <tr>\n",
              "      <th>13</th>\n",
              "      <td>d617d88792bf4fa5bff144d0ddb3bdf0</td>\n",
              "      <td>youth program</td>\n",
              "    </tr>\n",
              "    <tr>\n",
              "      <th>14</th>\n",
              "      <td>23842cfc53704f9dbb95d57a4842cfea</td>\n",
              "      <td>youth program</td>\n",
              "    </tr>\n",
              "    <tr>\n",
              "      <th>15</th>\n",
              "      <td>70f2353c62b345298f449f010e754443</td>\n",
              "      <td>youth program</td>\n",
              "    </tr>\n",
              "    <tr>\n",
              "      <th>16</th>\n",
              "      <td>c1b73a8474054188ac49f53811c78189</td>\n",
              "      <td>youth program</td>\n",
              "    </tr>\n",
              "    <tr>\n",
              "      <th>17</th>\n",
              "      <td>64f55a07c0864292afe4b41d674ee2e9</td>\n",
              "      <td>youth program</td>\n",
              "    </tr>\n",
              "    <tr>\n",
              "      <th>18</th>\n",
              "      <td>ac46767c35014e4c93869199d05ea956</td>\n",
              "      <td>youth program</td>\n",
              "    </tr>\n",
              "    <tr>\n",
              "      <th>19</th>\n",
              "      <td>45b7c8a5647647df92de6f40d5f12682</td>\n",
              "      <td>cause</td>\n",
              "    </tr>\n",
              "    <tr>\n",
              "      <th>20</th>\n",
              "      <td>f16d593910bf443598839021bbe97128</td>\n",
              "      <td>cause</td>\n",
              "    </tr>\n",
              "    <tr>\n",
              "      <th>21</th>\n",
              "      <td>d692245208e248e49625d76f6b932aff</td>\n",
              "      <td>professional network</td>\n",
              "    </tr>\n",
              "    <tr>\n",
              "      <th>22</th>\n",
              "      <td>0b3cdc7e092041f4b8cf680bb1064144</td>\n",
              "      <td>professional network</td>\n",
              "    </tr>\n",
              "    <tr>\n",
              "      <th>23</th>\n",
              "      <td>fdb6a122e8474580a5d109c8c8933f3c</td>\n",
              "      <td>professional network</td>\n",
              "    </tr>\n",
              "    <tr>\n",
              "      <th>24</th>\n",
              "      <td>e224f030cc34477ba50994ba33a2f29f</td>\n",
              "      <td>youth program</td>\n",
              "    </tr>\n",
              "    <tr>\n",
              "      <th>25</th>\n",
              "      <td>febfa8fcd364484487a245d32dbe24f7</td>\n",
              "      <td>professional network</td>\n",
              "    </tr>\n",
              "    <tr>\n",
              "      <th>26</th>\n",
              "      <td>fc44b18cb5aa4ead87515171d48ced27</td>\n",
              "      <td>club</td>\n",
              "    </tr>\n",
              "    <tr>\n",
              "      <th>27</th>\n",
              "      <td>d1974b33f9744683a13ce46e203e2819</td>\n",
              "      <td>youth program</td>\n",
              "    </tr>\n",
              "    <tr>\n",
              "      <th>28</th>\n",
              "      <td>df78fe697f3b41068d2efc3654f5e707</td>\n",
              "      <td>youth program</td>\n",
              "    </tr>\n",
              "    <tr>\n",
              "      <th>29</th>\n",
              "      <td>ec1b5a43e9794f67b9761b0840a02c26</td>\n",
              "      <td>youth program</td>\n",
              "    </tr>\n",
              "    <tr>\n",
              "      <th>30</th>\n",
              "      <td>bd88fd4be76e4940b259cfd19dc737a2</td>\n",
              "      <td>youth program</td>\n",
              "    </tr>\n",
              "    <tr>\n",
              "      <th>31</th>\n",
              "      <td>2db32f76e5524d57ace1012aa9fe1125</td>\n",
              "      <td>youth program</td>\n",
              "    </tr>\n",
              "    <tr>\n",
              "      <th>32</th>\n",
              "      <td>414e3cd11cd84e549abe723567e8d931</td>\n",
              "      <td>competition</td>\n",
              "    </tr>\n",
              "    <tr>\n",
              "      <th>33</th>\n",
              "      <td>55e6f99b63e24b2ea21b99d31064717b</td>\n",
              "      <td>youth program</td>\n",
              "    </tr>\n",
              "    <tr>\n",
              "      <th>34</th>\n",
              "      <td>c8ec0ba0966b4eba8f50e1a279742e8e</td>\n",
              "      <td>mentorship program</td>\n",
              "    </tr>\n",
              "    <tr>\n",
              "      <th>35</th>\n",
              "      <td>cd3bd269fefb414e91c0ef767df42b13</td>\n",
              "      <td>youth program</td>\n",
              "    </tr>\n",
              "    <tr>\n",
              "      <th>36</th>\n",
              "      <td>e6780d7982c14f9aba3fdf8bee66a2ad</td>\n",
              "      <td>youth program</td>\n",
              "    </tr>\n",
              "    <tr>\n",
              "      <th>37</th>\n",
              "      <td>7d715f982c8b4a6da7be5142f74b1472</td>\n",
              "      <td>youth program</td>\n",
              "    </tr>\n",
              "    <tr>\n",
              "      <th>38</th>\n",
              "      <td>593e423a37764525a033751ad5e5d165</td>\n",
              "      <td>interest group</td>\n",
              "    </tr>\n",
              "    <tr>\n",
              "      <th>39</th>\n",
              "      <td>8e4d8e5542a9407ab7b5a05e6e28c62c</td>\n",
              "      <td>youth program</td>\n",
              "    </tr>\n",
              "    <tr>\n",
              "      <th>40</th>\n",
              "      <td>6f13430a2bd1409f8c0863ca3a133db6</td>\n",
              "      <td>professional network</td>\n",
              "    </tr>\n",
              "    <tr>\n",
              "      <th>41</th>\n",
              "      <td>86850633393147be9d070c47a1258c41</td>\n",
              "      <td>mentorship program</td>\n",
              "    </tr>\n",
              "    <tr>\n",
              "      <th>42</th>\n",
              "      <td>1f3b7e8f20db4a23959e1cb673604b45</td>\n",
              "      <td>youth program</td>\n",
              "    </tr>\n",
              "    <tr>\n",
              "      <th>43</th>\n",
              "      <td>78c15b3814e7417a9da357c0df011194</td>\n",
              "      <td>youth program</td>\n",
              "    </tr>\n",
              "    <tr>\n",
              "      <th>44</th>\n",
              "      <td>ab73e3e161b64543a194b46442b0f805</td>\n",
              "      <td>professional network</td>\n",
              "    </tr>\n",
              "    <tr>\n",
              "      <th>45</th>\n",
              "      <td>298f0e917129423d9c6b12f08d26416f</td>\n",
              "      <td>mentorship program</td>\n",
              "    </tr>\n",
              "    <tr>\n",
              "      <th>46</th>\n",
              "      <td>e2d6994350424f46a329cb3ba17e4893</td>\n",
              "      <td>youth program</td>\n",
              "    </tr>\n",
              "    <tr>\n",
              "      <th>47</th>\n",
              "      <td>66574765baa94b79a7e76b13f36a0d4a</td>\n",
              "      <td>youth program</td>\n",
              "    </tr>\n",
              "    <tr>\n",
              "      <th>48</th>\n",
              "      <td>a36cb039d1f4429a90a6b2c9de08dd39</td>\n",
              "      <td>professional network</td>\n",
              "    </tr>\n",
              "    <tr>\n",
              "      <th>49</th>\n",
              "      <td>e1a4d435bbd84deaae344c223f204742</td>\n",
              "      <td>professional network</td>\n",
              "    </tr>\n",
              "  </tbody>\n",
              "</table>"
            ]
          },
          "metadata": {}
        }
      ],
      "source": [
        "#convert R datafram to python dataframe\n",
        "%R -o groups_df \n",
        "display(HTML(groups_df.head(50).to_html()))"
      ]
    },
    {
      "cell_type": "markdown",
      "metadata": {
        "id": "PndeOkRBaNai"
      },
      "source": [
        "There are a lot of redundant group types"
      ]
    },
    {
      "cell_type": "code",
      "execution_count": 40,
      "metadata": {
        "colab": {
          "base_uri": "https://localhost:8080/"
        },
        "id": "SWmd71OtkM18",
        "outputId": "d10703c5-8a2c-4a19-8a28-84a3532854b5"
      },
      "outputs": [
        {
          "output_type": "stream",
          "name": "stdout",
          "text": [
            "[1] \"youth program\"        \"cause\"                \"professional network\"\n",
            "[4] \"club\"                 \"competition\"          \"mentorship program\"  \n",
            "[7] \"interest group\"      \n"
          ]
        }
      ],
      "source": [
        "%%R\n",
        "unique(groups_df$groups_group_type)"
      ]
    },
    {
      "cell_type": "code",
      "execution_count": 41,
      "metadata": {
        "colab": {
          "base_uri": "https://localhost:8080/"
        },
        "id": "SkGhJEmlZ_YW",
        "outputId": "b8e039e0-52fc-4430-d217-b81cf78e3048"
      },
      "outputs": [
        {
          "output_type": "stream",
          "name": "stdout",
          "text": [
            "# A tibble: 0 × 2\n",
            "# … with 2 variables: groups_id <chr>, groups_group_type <chr>\n"
          ]
        }
      ],
      "source": [
        "%%R\n",
        "#find duplicates in group ids\n",
        "print(as_tibble(groups_df[duplicated(groups_df$groups_id), ]))"
      ]
    },
    {
      "cell_type": "code",
      "execution_count": 42,
      "metadata": {
        "colab": {
          "base_uri": "https://localhost:8080/",
          "height": 206
        },
        "id": "Baw9inPSZ_eV",
        "outputId": "83011bee-683f-4c2d-bc9f-5971f6e9cac5"
      },
      "outputs": [
        {
          "output_type": "display_data",
          "data": {
            "text/plain": [
              "<IPython.core.display.HTML object>"
            ],
            "text/html": [
              "<table border=\"1\" class=\"dataframe\">\n",
              "  <thead>\n",
              "    <tr style=\"text-align: right;\">\n",
              "      <th></th>\n",
              "      <th>group_memberships_group_id</th>\n",
              "      <th>group_memberships_user_id</th>\n",
              "    </tr>\n",
              "  </thead>\n",
              "  <tbody>\n",
              "    <tr>\n",
              "      <th>1</th>\n",
              "      <td>eabbdf4029734c848a9da20779637d03</td>\n",
              "      <td>9a5aead62c344207b2624dba90985dc5</td>\n",
              "    </tr>\n",
              "    <tr>\n",
              "      <th>2</th>\n",
              "      <td>eabbdf4029734c848a9da20779637d03</td>\n",
              "      <td>ea7122da1c7b4244a2184a4f9f944053</td>\n",
              "    </tr>\n",
              "    <tr>\n",
              "      <th>3</th>\n",
              "      <td>eabbdf4029734c848a9da20779637d03</td>\n",
              "      <td>cba603f34acb4a40b3ccb53fe6681b5d</td>\n",
              "    </tr>\n",
              "    <tr>\n",
              "      <th>4</th>\n",
              "      <td>eabbdf4029734c848a9da20779637d03</td>\n",
              "      <td>fa9a126e63714641ae0145557a390cab</td>\n",
              "    </tr>\n",
              "    <tr>\n",
              "      <th>5</th>\n",
              "      <td>eabbdf4029734c848a9da20779637d03</td>\n",
              "      <td>299da113c5d1420ab525106c242c9429</td>\n",
              "    </tr>\n",
              "  </tbody>\n",
              "</table>"
            ]
          },
          "metadata": {}
        }
      ],
      "source": [
        "#convert R datafram to python dataframe\n",
        "%R -o group_memberships_df \n",
        "display(HTML(group_memberships_df.head().to_html()))"
      ]
    },
    {
      "cell_type": "code",
      "execution_count": 43,
      "metadata": {
        "colab": {
          "base_uri": "https://localhost:8080/"
        },
        "id": "uqhMOOnbazFV",
        "outputId": "98d3a9f8-21ca-4d8b-c368-8bee6f057097"
      },
      "outputs": [
        {
          "output_type": "stream",
          "name": "stdout",
          "text": [
            "# A tibble: 992 × 2\n",
            "   group_memberships_group_id       group_memberships_user_id       \n",
            "   <chr>                            <chr>                           \n",
            " 1 eabbdf4029734c848a9da20779637d03 ea7122da1c7b4244a2184a4f9f944053\n",
            " 2 eabbdf4029734c848a9da20779637d03 cba603f34acb4a40b3ccb53fe6681b5d\n",
            " 3 eabbdf4029734c848a9da20779637d03 fa9a126e63714641ae0145557a390cab\n",
            " 4 eabbdf4029734c848a9da20779637d03 299da113c5d1420ab525106c242c9429\n",
            " 5 7080bf8dcf78463bb03e6863887fd715 82cf96ae74fa4b3a8ffd8a74446c08ca\n",
            " 6 7080bf8dcf78463bb03e6863887fd715 b0f6c44506444fb99e910dcc5836b5d8\n",
            " 7 bc6fc50a2b444efc8ec47111b290ffb8 370dba85f183496186772be0c53a69b1\n",
            " 8 bc6fc50a2b444efc8ec47111b290ffb8 ff165c6b122b47b9a5d4db2504086460\n",
            " 9 bc6fc50a2b444efc8ec47111b290ffb8 4d7b8bf7e9c547a4a49c39114cd378e0\n",
            "10 bc6fc50a2b444efc8ec47111b290ffb8 25b0211225e5436cacdfa360c47923eb\n",
            "# … with 982 more rows\n",
            "# A tibble: 311 × 2\n",
            "   group_memberships_group_id       group_memberships_user_id       \n",
            "   <chr>                            <chr>                           \n",
            " 1 37f002e8d5e442ca8e36e972eaa55882 3582658c92e5432b849f6da00a8a1e4a\n",
            " 2 52419ff84d4b47bebd0b0a6c1263c296 f6495850d9be4bebbd0a78f25a9f4371\n",
            " 3 52419ff84d4b47bebd0b0a6c1263c296 3582658c92e5432b849f6da00a8a1e4a\n",
            " 4 52419ff84d4b47bebd0b0a6c1263c296 5a14109840c24b21b81eec989db259f6\n",
            " 5 52419ff84d4b47bebd0b0a6c1263c296 cba603f34acb4a40b3ccb53fe6681b5d\n",
            " 6 52419ff84d4b47bebd0b0a6c1263c296 e3e0ef78006d440c892e26cfca963dd0\n",
            " 7 52419ff84d4b47bebd0b0a6c1263c296 05ab77d4c6a141b999044ebbf5415b0d\n",
            " 8 559dbc7bd1f64c268ff149c4d5d63500 11df8341f9f64843bae56ccda1b95aed\n",
            " 9 528fa2c7559a40749b6151a07d3b8ef5 8d405d61516f419d9dd64c3fe7f22264\n",
            "10 528fa2c7559a40749b6151a07d3b8ef5 0c99e6f5220a401d9510ec3c23a6f00f\n",
            "# … with 301 more rows\n"
          ]
        }
      ],
      "source": [
        "%%R\n",
        "#find duplicates in group ids and user ids\n",
        "print(as_tibble(group_memberships_df[duplicated(group_memberships_df$group_memberships_group_id), ]))\n",
        "print(as_tibble(group_memberships_df[duplicated(group_memberships_df$group_memberships_user_id), ]))"
      ]
    },
    {
      "cell_type": "markdown",
      "metadata": {
        "id": "apm5QEk6bD_F"
      },
      "source": [
        "A professional can be assigned to multiple groups"
      ]
    },
    {
      "cell_type": "code",
      "execution_count": 44,
      "metadata": {
        "colab": {
          "base_uri": "https://localhost:8080/"
        },
        "id": "jWBXEOAydOMr",
        "outputId": "c1b6dc90-d8fe-4626-b8f5-b70cd1ef3769"
      },
      "outputs": [
        {
          "output_type": "stream",
          "name": "stdout",
          "text": [
            "[1] 49  2\n",
            "[1] 1038    2\n"
          ]
        }
      ],
      "source": [
        "%%R\n",
        "print(dim(groups_df))\n",
        "print(dim(group_memberships_df))"
      ]
    },
    {
      "cell_type": "code",
      "execution_count": 45,
      "metadata": {
        "colab": {
          "base_uri": "https://localhost:8080/"
        },
        "id": "8F-UIENhdCUh",
        "outputId": "878d8826-759b-4dd3-8353-2d2954d1b9e0"
      },
      "outputs": [
        {
          "output_type": "stream",
          "name": "stdout",
          "text": [
            "# A tibble: 1,038 × 3\n",
            "   group_memberships_group_id       group_memberships_user_id   groups_group_ty…\n",
            "   <chr>                            <chr>                       <chr>           \n",
            " 1 eabbdf4029734c848a9da20779637d03 9a5aead62c344207b2624dba90… youth program   \n",
            " 2 eabbdf4029734c848a9da20779637d03 ea7122da1c7b4244a2184a4f9f… youth program   \n",
            " 3 eabbdf4029734c848a9da20779637d03 cba603f34acb4a40b3ccb53fe6… youth program   \n",
            " 4 eabbdf4029734c848a9da20779637d03 fa9a126e63714641ae0145557a… youth program   \n",
            " 5 eabbdf4029734c848a9da20779637d03 299da113c5d1420ab525106c24… youth program   \n",
            " 6 7080bf8dcf78463bb03e6863887fd715 836a747118d6436caf56ff3a3c… youth program   \n",
            " 7 7080bf8dcf78463bb03e6863887fd715 82cf96ae74fa4b3a8ffd8a7444… youth program   \n",
            " 8 7080bf8dcf78463bb03e6863887fd715 b0f6c44506444fb99e910dcc58… youth program   \n",
            " 9 bc6fc50a2b444efc8ec47111b290ffb8 ab8d405cfdab4faf83ffe7f839… youth program   \n",
            "10 bc6fc50a2b444efc8ec47111b290ffb8 370dba85f183496186772be0c5… youth program   \n",
            "# … with 1,028 more rows\n"
          ]
        }
      ],
      "source": [
        "%%R\n",
        "#join group memberships and groups\n",
        "group_memberships_df <- left_join(group_memberships_df, groups_df, by = c(\"group_memberships_group_id\"=\"groups_id\"))  \n",
        "print(as_tibble(group_memberships_df))"
      ]
    },
    {
      "cell_type": "code",
      "execution_count": 46,
      "metadata": {
        "colab": {
          "base_uri": "https://localhost:8080/"
        },
        "id": "TuiukBw4c8eB",
        "outputId": "403cf6d3-eecf-4f9e-d520-f71702fd67d0"
      },
      "outputs": [
        {
          "output_type": "stream",
          "name": "stdout",
          "text": [
            "# A tibble: 727 × 3\n",
            "   group_memberships_user_id        all_groups                       group_count\n",
            "   <chr>                            <chr>                                  <int>\n",
            " 1 00a4e4e6d6654b7f81d4b9be65008dc4 youth program                              1\n",
            " 2 018ed03f99f949739335a319e7e7027d youth program | youth program |…           6\n",
            " 3 01d85b9badfb44f2954b5990c668556e cause                                      1\n",
            " 4 020b27caf2514094a158c719311ea379 cause                                      1\n",
            " 5 0271a27905b3425b85552f80a13618af youth program                              1\n",
            " 6 02aab9809abc442bb9ee99c20c41e757 youth program | youth program |…           4\n",
            " 7 02fd718863804d348f3afa7a569070c4 youth program | youth program              2\n",
            " 8 03913cfd151f46a196786f5a21c87085 cause                                      1\n",
            " 9 0419379c68ca4006b16f3b62638e2d34 professional network                       1\n",
            "10 05ab77d4c6a141b999044ebbf5415b0d youth program | youth program              2\n",
            "# … with 717 more rows\n"
          ]
        }
      ],
      "source": [
        "%%R\n",
        "#group professionals to get all their group membership details\n",
        "prof_groups_df <- group_memberships_df %>% group_by(group_memberships_user_id) %>%\n",
        "                  summarise(all_groups = paste(groups_group_type, collapse = \" | \"), group_count = n_distinct(group_memberships_group_id,na.rm = TRUE))\n",
        "print(as_tibble(prof_groups_df))"
      ]
    },
    {
      "cell_type": "code",
      "execution_count": 47,
      "metadata": {
        "id": "4MMhldvUja9y"
      },
      "outputs": [],
      "source": [
        "%%R \n",
        "# remove duplicate group types from prof_groups_df\n",
        "for (i in 1:nrow(prof_groups_df)) {\n",
        "    #get the groups cell value\n",
        "    all_groups <- c(prof_groups_df[i,2])\n",
        "    #if there are more than one group associated to the professional,\n",
        "    #only keep the unique group types\n",
        "    if(grepl(\"|\", all_groups, fixed = TRUE)){\n",
        "      group_list <- unlist(strsplit(as.character(all_groups), \" \\\\| \"))\n",
        "      group_set <- unique(group_list)\n",
        "      prof_groups_df[i,2] <- paste(group_set, collapse = \" | \")\n",
        "    }\n",
        "}"
      ]
    },
    {
      "cell_type": "code",
      "execution_count": 48,
      "metadata": {
        "colab": {
          "base_uri": "https://localhost:8080/",
          "height": 206
        },
        "id": "QZLfmccDtlFh",
        "outputId": "649b9064-02b1-4439-98e5-c3fcb4ab1ab5"
      },
      "outputs": [
        {
          "output_type": "display_data",
          "data": {
            "text/plain": [
              "<IPython.core.display.HTML object>"
            ],
            "text/html": [
              "<table border=\"1\" class=\"dataframe\">\n",
              "  <thead>\n",
              "    <tr style=\"text-align: right;\">\n",
              "      <th></th>\n",
              "      <th>group_memberships_user_id</th>\n",
              "      <th>all_groups</th>\n",
              "      <th>group_count</th>\n",
              "    </tr>\n",
              "  </thead>\n",
              "  <tbody>\n",
              "    <tr>\n",
              "      <th>1</th>\n",
              "      <td>00a4e4e6d6654b7f81d4b9be65008dc4</td>\n",
              "      <td>youth program</td>\n",
              "      <td>1</td>\n",
              "    </tr>\n",
              "    <tr>\n",
              "      <th>2</th>\n",
              "      <td>018ed03f99f949739335a319e7e7027d</td>\n",
              "      <td>youth program | cause | professional network</td>\n",
              "      <td>6</td>\n",
              "    </tr>\n",
              "    <tr>\n",
              "      <th>3</th>\n",
              "      <td>01d85b9badfb44f2954b5990c668556e</td>\n",
              "      <td>cause</td>\n",
              "      <td>1</td>\n",
              "    </tr>\n",
              "    <tr>\n",
              "      <th>4</th>\n",
              "      <td>020b27caf2514094a158c719311ea379</td>\n",
              "      <td>cause</td>\n",
              "      <td>1</td>\n",
              "    </tr>\n",
              "    <tr>\n",
              "      <th>5</th>\n",
              "      <td>0271a27905b3425b85552f80a13618af</td>\n",
              "      <td>youth program</td>\n",
              "      <td>1</td>\n",
              "    </tr>\n",
              "  </tbody>\n",
              "</table>"
            ]
          },
          "metadata": {}
        }
      ],
      "source": [
        "#convert R datafram to python dataframe\n",
        "%R -o prof_groups_df \n",
        "display(HTML(prof_groups_df.head().to_html()))"
      ]
    },
    {
      "cell_type": "code",
      "execution_count": 49,
      "metadata": {
        "colab": {
          "base_uri": "https://localhost:8080/",
          "height": 206
        },
        "id": "6Tk9v7jQbhwL",
        "outputId": "82da61c7-ce53-4fec-bdf2-160739f163ef"
      },
      "outputs": [
        {
          "output_type": "display_data",
          "data": {
            "text/plain": [
              "<IPython.core.display.HTML object>"
            ],
            "text/html": [
              "<table border=\"1\" class=\"dataframe\">\n",
              "  <thead>\n",
              "    <tr style=\"text-align: right;\">\n",
              "      <th></th>\n",
              "      <th>school_memberships_school_id</th>\n",
              "      <th>school_memberships_user_id</th>\n",
              "    </tr>\n",
              "  </thead>\n",
              "  <tbody>\n",
              "    <tr>\n",
              "      <th>1</th>\n",
              "      <td>197406</td>\n",
              "      <td>23dce13ca6164a73aec7a3cd56a4884d</td>\n",
              "    </tr>\n",
              "    <tr>\n",
              "      <th>2</th>\n",
              "      <td>197398</td>\n",
              "      <td>23dce13ca6164a73aec7a3cd56a4884d</td>\n",
              "    </tr>\n",
              "    <tr>\n",
              "      <th>3</th>\n",
              "      <td>199821</td>\n",
              "      <td>23dce13ca6164a73aec7a3cd56a4884d</td>\n",
              "    </tr>\n",
              "    <tr>\n",
              "      <th>4</th>\n",
              "      <td>186239</td>\n",
              "      <td>9c5803ae43ca4cf6b27ea85871625116</td>\n",
              "    </tr>\n",
              "    <tr>\n",
              "      <th>5</th>\n",
              "      <td>182063</td>\n",
              "      <td>9c5803ae43ca4cf6b27ea85871625116</td>\n",
              "    </tr>\n",
              "  </tbody>\n",
              "</table>"
            ]
          },
          "metadata": {}
        }
      ],
      "source": [
        "#convert R datafram to python dataframe\n",
        "%R -o school_memberships_df \n",
        "display(HTML(school_memberships_df.head().to_html()))"
      ]
    },
    {
      "cell_type": "code",
      "execution_count": 50,
      "metadata": {
        "colab": {
          "base_uri": "https://localhost:8080/"
        },
        "id": "f84KjbK_bl0m",
        "outputId": "e86da2b0-9a98-42e3-e738-6ba8c6b51622"
      },
      "outputs": [
        {
          "output_type": "stream",
          "name": "stdout",
          "text": [
            "# A tibble: 2,932 × 2\n",
            "   school_memberships_school_id school_memberships_user_id      \n",
            "                          <int> <chr>                           \n",
            " 1                       196393 bc46e3699d92477ba8c7aa723e54a151\n",
            " 2                       196401 17001ea532b044b08a006a989924e2e9\n",
            " 3                       197406 f857f0fd5f8d4337a4ee3497298f695a\n",
            " 4                       197007 557be8f56a604b75b885c208160ff0a9\n",
            " 5                       196343 9e90c659a3e34be28c3b97695f1cf518\n",
            " 6                       197246 96bbbdd06a334805a0501034d9df1aa4\n",
            " 7                        77907 faa0fe0510804c4abeffc171acf37ba2\n",
            " 8                       200218 85f378f43eee44c986addf5fc27038ce\n",
            " 9                       200475 e1f680fc6bdc472dbe3024f7bf1aa290\n",
            "10                       199987 f96e9335c8bf44cc9f018384af02f285\n",
            "# … with 2,922 more rows\n",
            "# A tibble: 2,457 × 2\n",
            "   school_memberships_school_id school_memberships_user_id      \n",
            "                          <int> <chr>                           \n",
            " 1                       197398 23dce13ca6164a73aec7a3cd56a4884d\n",
            " 2                       199821 23dce13ca6164a73aec7a3cd56a4884d\n",
            " 3                       182063 9c5803ae43ca4cf6b27ea85871625116\n",
            " 4                       197893 9c5803ae43ca4cf6b27ea85871625116\n",
            " 5                       197913 9c5803ae43ca4cf6b27ea85871625116\n",
            " 6                       198515 9c5803ae43ca4cf6b27ea85871625116\n",
            " 7                       102979 f6495850d9be4bebbd0a78f25a9f4371\n",
            " 8                        93732 8184a78118104fd9990ebd91dc25fc7d\n",
            " 9                       196755 8184a78118104fd9990ebd91dc25fc7d\n",
            "10                       196401 8edea83e5da54eccb2be640f91fe8cac\n",
            "# … with 2,447 more rows\n"
          ]
        }
      ],
      "source": [
        "%%R\n",
        "#find duplicates in school ids and user ids\n",
        "print(as_tibble(school_memberships_df[duplicated(school_memberships_df$school_memberships_school_id), ]))\n",
        "print(as_tibble(school_memberships_df[duplicated(school_memberships_df$school_memberships_user_id), ]))"
      ]
    },
    {
      "cell_type": "markdown",
      "metadata": {
        "id": "9k-zSVOPb2mT"
      },
      "source": [
        "A professional can be associated with multiple schools"
      ]
    },
    {
      "cell_type": "code",
      "execution_count": 51,
      "metadata": {
        "colab": {
          "base_uri": "https://localhost:8080/"
        },
        "id": "tJFgimkXcKeB",
        "outputId": "5ed1e138-1c5c-4681-efb5-fefc3ba617f3"
      },
      "outputs": [
        {
          "output_type": "stream",
          "name": "stdout",
          "text": [
            "# A tibble: 3,181 × 3\n",
            "   school_memberships_user_id       all_schools              school_count\n",
            "   <chr>                            <chr>                           <int>\n",
            " 1 001f3b39d8884a41ab7e71789b6a53a0 108854 | 197363 | 197278            3\n",
            " 2 00458835327245d7bce9103ff114eceb 196670                              1\n",
            " 3 00594d1a266f4907ac93a689203dacd2 196666 | 196656                     2\n",
            " 4 00713653cf014c419427128400e7a5b0 73515                               1\n",
            " 5 0096ddada2924340be01d83357e0d229 73719                               1\n",
            " 6 00a2778c434d4b6f93524fa95da6a7ac 201119                              1\n",
            " 7 00a4e4e6d6654b7f81d4b9be65008dc4 100287                              1\n",
            " 8 00b2d3dd12b94c419ed9c851d601685f 198672                              1\n",
            " 9 00be9daaa12c475e84571cd4124a086d 199320 | 199340                     2\n",
            "10 00f68e50532546bf81ca2a6d2681fbef 73002 | 196228                      2\n",
            "# … with 3,171 more rows\n"
          ]
        }
      ],
      "source": [
        "%%R\n",
        "#group professionals to get all their school membership details\n",
        "prof_schools_df <- school_memberships_df %>% group_by(school_memberships_user_id) %>%\n",
        "                  summarise(all_schools = paste(school_memberships_school_id, collapse = \" | \"), school_count = n_distinct(school_memberships_school_id,na.rm = TRUE))\n",
        "print(as_tibble(prof_schools_df))"
      ]
    },
    {
      "cell_type": "code",
      "execution_count": 52,
      "metadata": {
        "colab": {
          "base_uri": "https://localhost:8080/"
        },
        "id": "8yHdSOr1bWvf",
        "outputId": "90cd0ef6-3421-4463-e439-536d2bb58cb1"
      },
      "outputs": [
        {
          "output_type": "stream",
          "name": "stdout",
          "text": [
            "# A tibble: 28,152 × 12\n",
            "   professionals_id           professionals_l… professionals_i… professional_in…\n",
            "   <chr>                      <chr>            <chr>            <chr>           \n",
            " 1 9ced4ce7519049c0944147afb… \"\"               \"\"               \"\"              \n",
            " 2 f718dcf6d2ec4cb0a52a9db59… \"\"               \"\"               \"\"              \n",
            " 3 0c673e046d824ec0ad0ebe012… \"New York, New … \"\"               \"\"              \n",
            " 4 977428d851b24183b223be0eb… \"Boston, Massac… \"\"               \"\"              \n",
            " 5 e2d57e5041a44f489288397c9… \"\"               \"\"               \"\"              \n",
            " 6 c9bfa93898594cbbace436dec… \"\"               \"\"               \"\"              \n",
            " 7 ed85488fb5e941eaa97014137… \"\"               \"\"               \"\"              \n",
            " 8 102fb92c28034ad988b593d01… \"\"               \"\"               \"\"              \n",
            " 9 5a4a16842ec64430ac3f916aa… \"\"               \"\"               \"\"              \n",
            "10 81999d5ad93549dab55636a54… \"\"               \"\"               \"\"              \n",
            "# … with 28,142 more rows, and 8 more variables: professionals_headline <chr>,\n",
            "#   professionals_date_joined <chr>, all_tags <chr>, tag_count <int>,\n",
            "#   all_groups <chr>, group_count <int>, all_schools <chr>, school_count <int>\n"
          ]
        }
      ],
      "source": [
        "%%R\n",
        "#join professionals_all_tags with prof_groups_df and prof_schools_df to combine information from group memberships and school memberships on professionals\n",
        "prof_tags_groups_df <- left_join(prof_all_tags_df, prof_groups_df, by = c(\"professionals_id\"=\"group_memberships_user_id\"))  \n",
        "prof_tags_groups_df <- left_join(prof_tags_groups_df, prof_schools_df, by = c(\"professionals_id\"=\"school_memberships_user_id\"))  \n",
        "print(as_tibble(prof_tags_groups_df))"
      ]
    },
    {
      "cell_type": "markdown",
      "metadata": {
        "id": "NpgoC3CWzMDr"
      },
      "source": [
        "### Exploring emails and matches"
      ]
    },
    {
      "cell_type": "code",
      "execution_count": 53,
      "metadata": {
        "colab": {
          "base_uri": "https://localhost:8080/",
          "height": 206
        },
        "id": "tCdruIeqzTdg",
        "outputId": "74f4b5df-9ccd-4787-abd4-2f545b0c8a85"
      },
      "outputs": [
        {
          "output_type": "display_data",
          "data": {
            "text/plain": [
              "<IPython.core.display.HTML object>"
            ],
            "text/html": [
              "<table border=\"1\" class=\"dataframe\">\n",
              "  <thead>\n",
              "    <tr style=\"text-align: right;\">\n",
              "      <th></th>\n",
              "      <th>emails_id</th>\n",
              "      <th>emails_recipient_id</th>\n",
              "      <th>emails_date_sent</th>\n",
              "      <th>emails_frequency_level</th>\n",
              "    </tr>\n",
              "  </thead>\n",
              "  <tbody>\n",
              "    <tr>\n",
              "      <th>1</th>\n",
              "      <td>2337714</td>\n",
              "      <td>0c673e046d824ec0ad0ebe012a0673e4</td>\n",
              "      <td>2018-12-07 01:05:40 UTC+0000</td>\n",
              "      <td>email_notification_daily</td>\n",
              "    </tr>\n",
              "    <tr>\n",
              "      <th>2</th>\n",
              "      <td>2336077</td>\n",
              "      <td>0c673e046d824ec0ad0ebe012a0673e4</td>\n",
              "      <td>2018-12-06 01:14:15 UTC+0000</td>\n",
              "      <td>email_notification_daily</td>\n",
              "    </tr>\n",
              "    <tr>\n",
              "      <th>3</th>\n",
              "      <td>2314660</td>\n",
              "      <td>0c673e046d824ec0ad0ebe012a0673e4</td>\n",
              "      <td>2018-11-17 00:38:27 UTC+0000</td>\n",
              "      <td>email_notification_daily</td>\n",
              "    </tr>\n",
              "    <tr>\n",
              "      <th>4</th>\n",
              "      <td>2312639</td>\n",
              "      <td>0c673e046d824ec0ad0ebe012a0673e4</td>\n",
              "      <td>2018-11-16 00:32:19 UTC+0000</td>\n",
              "      <td>email_notification_daily</td>\n",
              "    </tr>\n",
              "    <tr>\n",
              "      <th>5</th>\n",
              "      <td>2299700</td>\n",
              "      <td>0c673e046d824ec0ad0ebe012a0673e4</td>\n",
              "      <td>2018-11-08 00:16:40 UTC+0000</td>\n",
              "      <td>email_notification_daily</td>\n",
              "    </tr>\n",
              "  </tbody>\n",
              "</table>"
            ]
          },
          "metadata": {}
        }
      ],
      "source": [
        "#convert R datafram to python dataframe\n",
        "%R -o emails_df \n",
        "display(HTML(emails_df.head().to_html()))"
      ]
    },
    {
      "cell_type": "code",
      "execution_count": 54,
      "metadata": {
        "colab": {
          "base_uri": "https://localhost:8080/",
          "height": 206
        },
        "id": "X2ejvPHTzuj_",
        "outputId": "5a3e0945-af8c-457a-cd9d-ddbe26322914"
      },
      "outputs": [
        {
          "output_type": "display_data",
          "data": {
            "text/plain": [
              "<IPython.core.display.HTML object>"
            ],
            "text/html": [
              "<table border=\"1\" class=\"dataframe\">\n",
              "  <thead>\n",
              "    <tr style=\"text-align: right;\">\n",
              "      <th></th>\n",
              "      <th>matches_email_id</th>\n",
              "      <th>matches_question_id</th>\n",
              "    </tr>\n",
              "  </thead>\n",
              "  <tbody>\n",
              "    <tr>\n",
              "      <th>1</th>\n",
              "      <td>1721939</td>\n",
              "      <td>332a511f1569444485cf7a7a556a5e54</td>\n",
              "    </tr>\n",
              "    <tr>\n",
              "      <th>2</th>\n",
              "      <td>1665388</td>\n",
              "      <td>332a511f1569444485cf7a7a556a5e54</td>\n",
              "    </tr>\n",
              "    <tr>\n",
              "      <th>3</th>\n",
              "      <td>1636634</td>\n",
              "      <td>332a511f1569444485cf7a7a556a5e54</td>\n",
              "    </tr>\n",
              "    <tr>\n",
              "      <th>4</th>\n",
              "      <td>1635498</td>\n",
              "      <td>332a511f1569444485cf7a7a556a5e54</td>\n",
              "    </tr>\n",
              "    <tr>\n",
              "      <th>5</th>\n",
              "      <td>1620298</td>\n",
              "      <td>332a511f1569444485cf7a7a556a5e54</td>\n",
              "    </tr>\n",
              "  </tbody>\n",
              "</table>"
            ]
          },
          "metadata": {}
        }
      ],
      "source": [
        "#convert R datafram to python dataframe\n",
        "%R -o matches_df \n",
        "display(HTML(matches_df.head().to_html()))"
      ]
    },
    {
      "cell_type": "code",
      "execution_count": 55,
      "metadata": {
        "colab": {
          "base_uri": "https://localhost:8080/"
        },
        "id": "BK4ZaKFaz0Gr",
        "outputId": "0c0708c8-0e65-4a3b-b286-52ec25154c8e"
      },
      "outputs": [
        {
          "output_type": "stream",
          "name": "stdout",
          "text": [
            "[1] 1850101       4\n",
            "[1] 4316275       2\n"
          ]
        }
      ],
      "source": [
        "%%R\n",
        "print(dim(emails_df))\n",
        "print(dim(matches_df))"
      ]
    },
    {
      "cell_type": "code",
      "execution_count": 56,
      "metadata": {
        "colab": {
          "base_uri": "https://localhost:8080/"
        },
        "id": "ht8cMlMc09lW",
        "outputId": "ae3d255f-7ebb-4ee8-8b81-e6638d46b15c"
      },
      "outputs": [
        {
          "output_type": "stream",
          "name": "stdout",
          "text": [
            "# A tibble: 2,522,190 × 2\n",
            "   matches_email_id matches_question_id             \n",
            "              <int> <chr>                           \n",
            " 1          1426259 be3c5edfdb07423e955e9b2d7f186bce\n",
            " 2          1303875 5cf8f5929e1c4357af4b467d4537dcef\n",
            " 3          1687960 f156171f9c4944de99c1ab974cb7558d\n",
            " 4          1550190 f156171f9c4944de99c1ab974cb7558d\n",
            " 5          2018652 c1b82814b0274452873428b9db923939\n",
            " 6          1644950 c1b82814b0274452873428b9db923939\n",
            " 7          2205401 f05b579f2cd3432898f3ba54feee86b6\n",
            " 8          1937172 f05b579f2cd3432898f3ba54feee86b6\n",
            " 9          2018671 f05b579f2cd3432898f3ba54feee86b6\n",
            "10          1847025 f05b579f2cd3432898f3ba54feee86b6\n",
            "# … with 2,522,180 more rows\n",
            "# A tibble: 4,294,381 × 2\n",
            "   matches_email_id matches_question_id             \n",
            "              <int> <chr>                           \n",
            " 1          1665388 332a511f1569444485cf7a7a556a5e54\n",
            " 2          1636634 332a511f1569444485cf7a7a556a5e54\n",
            " 3          1635498 332a511f1569444485cf7a7a556a5e54\n",
            " 4          1620298 332a511f1569444485cf7a7a556a5e54\n",
            " 5          1618336 332a511f1569444485cf7a7a556a5e54\n",
            " 6          1610422 332a511f1569444485cf7a7a556a5e54\n",
            " 7          1601694 332a511f1569444485cf7a7a556a5e54\n",
            " 8          1568908 332a511f1569444485cf7a7a556a5e54\n",
            " 9          1551730 332a511f1569444485cf7a7a556a5e54\n",
            "10          1550190 332a511f1569444485cf7a7a556a5e54\n",
            "# … with 4,294,371 more rows\n"
          ]
        }
      ],
      "source": [
        "%%R\n",
        "#find duplicates in email ids and question ids\n",
        "print(as_tibble(matches_df[duplicated(matches_df$matches_email_id), ]))\n",
        "print(as_tibble(matches_df[duplicated(matches_df$matches_question_id), ]))"
      ]
    },
    {
      "cell_type": "markdown",
      "metadata": {
        "id": "EYY-66uJIm5A"
      },
      "source": [
        "An email can be associated to multiple questions and multiple emails are sent to different professionals about the same question"
      ]
    },
    {
      "cell_type": "code",
      "execution_count": 57,
      "metadata": {
        "colab": {
          "base_uri": "https://localhost:8080/"
        },
        "id": "iDBkC6fZ0u_Q",
        "outputId": "ffae50f8-e8b4-4f68-e29b-6f97510d73ae"
      },
      "outputs": [
        {
          "output_type": "stream",
          "name": "stdout",
          "text": [
            "# A tibble: 1,794,085 × 2\n",
            "   matches_email_id question_count\n",
            "              <int>          <int>\n",
            " 1              106              1\n",
            " 2              107              1\n",
            " 3              108              1\n",
            " 4              110              1\n",
            " 5              277              1\n",
            " 6              279              1\n",
            " 7              280              1\n",
            " 8              283              1\n",
            " 9              284              1\n",
            "10              285              1\n",
            "# … with 1,794,075 more rows\n"
          ]
        }
      ],
      "source": [
        "%%R\n",
        "#group matches_email_id to count of questions an email is related to\n",
        "email_ques_df <- matches_df %>% group_by(matches_email_id) %>%\n",
        "                  summarise(question_count = n_distinct(matches_question_id,na.rm = TRUE))\n",
        "print(as_tibble(email_ques_df))"
      ]
    },
    {
      "cell_type": "code",
      "execution_count": 58,
      "metadata": {
        "colab": {
          "base_uri": "https://localhost:8080/"
        },
        "id": "BR9soP434yep",
        "outputId": "5fa8ae43-2fd9-4213-97c2-d85bbb17ec1e"
      },
      "outputs": [
        {
          "output_type": "stream",
          "name": "stdout",
          "text": [
            "# A tibble: 1,850,101 × 5\n",
            "   emails_id emails_recipient_id    emails_date_sent emails_frequenc… date_sent \n",
            "       <int> <chr>                  <chr>            <chr>            <date>    \n",
            " 1   2337714 0c673e046d824ec0ad0eb… 2018-12-07 01:0… email_notificat… 2018-12-07\n",
            " 2   2336077 0c673e046d824ec0ad0eb… 2018-12-06 01:1… email_notificat… 2018-12-06\n",
            " 3   2314660 0c673e046d824ec0ad0eb… 2018-11-17 00:3… email_notificat… 2018-11-17\n",
            " 4   2312639 0c673e046d824ec0ad0eb… 2018-11-16 00:3… email_notificat… 2018-11-16\n",
            " 5   2299700 0c673e046d824ec0ad0eb… 2018-11-08 00:1… email_notificat… 2018-11-08\n",
            " 6   2288533 0c673e046d824ec0ad0eb… 2018-11-02 23:0… email_notificat… 2018-11-02\n",
            " 7   2280818 0c673e046d824ec0ad0eb… 2018-10-30 00:5… email_notificat… 2018-10-30\n",
            " 8   2270520 0c673e046d824ec0ad0eb… 2018-10-25 23:4… email_notificat… 2018-10-25\n",
            " 9   2269277 0c673e046d824ec0ad0eb… 2018-10-25 02:4… email_notificat… 2018-10-25\n",
            "10   2267396 0c673e046d824ec0ad0eb… 2018-10-24 04:4… email_notificat… 2018-10-24\n",
            "# … with 1,850,091 more rows\n"
          ]
        }
      ],
      "source": [
        "%%R\n",
        "#extract date from emails date sent\n",
        "emails_df <- emails_df %>% \n",
        "  mutate(date_sent = as.Date(emails_date_sent, format = \"%Y-%m-%d\"))\n",
        "print(as_tibble(emails_df))"
      ]
    },
    {
      "cell_type": "code",
      "execution_count": 59,
      "metadata": {
        "colab": {
          "base_uri": "https://localhost:8080/"
        },
        "id": "_PnALy7P6ePI",
        "outputId": "891b9263-3770-4148-f055-c0913baa1574"
      },
      "outputs": [
        {
          "output_type": "stream",
          "name": "stdout",
          "text": [
            "[1] \"email_notification_daily\"     \"email_notification_immediate\"\n",
            "[3] \"email_notification_weekly\"   \n"
          ]
        }
      ],
      "source": [
        "%%R\n",
        "unique(emails_df$emails_frequency_level)"
      ]
    },
    {
      "cell_type": "code",
      "execution_count": 60,
      "metadata": {
        "colab": {
          "base_uri": "https://localhost:8080/"
        },
        "id": "g2WdonL99YFu",
        "outputId": "acbd8276-08d2-4655-dd58-837128ab89f6"
      },
      "outputs": [
        {
          "output_type": "stream",
          "name": "stdout",
          "text": [
            "[1] 1850101       5\n",
            "[1] 1794085       2\n"
          ]
        }
      ],
      "source": [
        "%%R\n",
        "print(dim(emails_df))\n",
        "print(dim(email_ques_df))"
      ]
    },
    {
      "cell_type": "code",
      "execution_count": 61,
      "metadata": {
        "colab": {
          "base_uri": "https://localhost:8080/"
        },
        "id": "6lsjiCpk9JvH",
        "outputId": "658a658b-d29f-4aa5-daff-03314ae36b4a"
      },
      "outputs": [
        {
          "output_type": "stream",
          "name": "stdout",
          "text": [
            "# A tibble: 1,850,101 × 6\n",
            "   emails_id emails_recipient_id    emails_date_sent emails_frequenc… date_sent \n",
            "       <int> <chr>                  <chr>            <chr>            <date>    \n",
            " 1   2337714 0c673e046d824ec0ad0eb… 2018-12-07 01:0… email_notificat… 2018-12-07\n",
            " 2   2336077 0c673e046d824ec0ad0eb… 2018-12-06 01:1… email_notificat… 2018-12-06\n",
            " 3   2314660 0c673e046d824ec0ad0eb… 2018-11-17 00:3… email_notificat… 2018-11-17\n",
            " 4   2312639 0c673e046d824ec0ad0eb… 2018-11-16 00:3… email_notificat… 2018-11-16\n",
            " 5   2299700 0c673e046d824ec0ad0eb… 2018-11-08 00:1… email_notificat… 2018-11-08\n",
            " 6   2288533 0c673e046d824ec0ad0eb… 2018-11-02 23:0… email_notificat… 2018-11-02\n",
            " 7   2280818 0c673e046d824ec0ad0eb… 2018-10-30 00:5… email_notificat… 2018-10-30\n",
            " 8   2270520 0c673e046d824ec0ad0eb… 2018-10-25 23:4… email_notificat… 2018-10-25\n",
            " 9   2269277 0c673e046d824ec0ad0eb… 2018-10-25 02:4… email_notificat… 2018-10-25\n",
            "10   2267396 0c673e046d824ec0ad0eb… 2018-10-24 04:4… email_notificat… 2018-10-24\n",
            "# … with 1,850,091 more rows, and 1 more variable: question_count <int>\n"
          ]
        }
      ],
      "source": [
        "%%R\n",
        "#join emails_df with email_ques_df\n",
        "email_ques_df <- left_join(emails_df, email_ques_df, by = c(\"emails_id\"=\"matches_email_id\"))  \n",
        "print(as_tibble(email_ques_df))"
      ]
    },
    {
      "cell_type": "code",
      "execution_count": 62,
      "metadata": {
        "colab": {
          "base_uri": "https://localhost:8080/"
        },
        "id": "J5-_YMC_9sAs",
        "outputId": "622601a4-ec2e-4d2e-f1ea-49895ab25b8f"
      },
      "outputs": [
        {
          "output_type": "stream",
          "name": "stdout",
          "text": [
            "`summarise()` has grouped output by 'emails_recipient_id', 'date_sent'. You can\n",
            "override using the `.groups` argument.\n",
            "# A tibble: 1,535,527 × 5\n",
            "   emails_recipient_id    date_sent  emails_frequenc… email_count question_count\n",
            "   <chr>                  <date>     <chr>                  <int>          <int>\n",
            " 1 00009a0f9bda43eba4710… 2016-05-24 email_notificat…           1              1\n",
            " 2 00009a0f9bda43eba4710… 2016-06-10 email_notificat…           1              1\n",
            " 3 00009a0f9bda43eba4710… 2016-09-30 email_notificat…           1              2\n",
            " 4 00009a0f9bda43eba4710… 2017-03-08 email_notificat…           1              1\n",
            " 5 00009a0f9bda43eba4710… 2017-03-22 email_notificat…           1              1\n",
            " 6 00009a0f9bda43eba4710… 2017-05-07 email_notificat…           1              1\n",
            " 7 00009a0f9bda43eba4710… 2017-09-01 email_notificat…           1              1\n",
            " 8 00009a0f9bda43eba4710… 2017-11-28 email_notificat…           1              2\n",
            " 9 00009a0f9bda43eba4710… 2018-02-11 email_notificat…           1              0\n",
            "10 00009a0f9bda43eba4710… 2018-02-16 email_notificat…           1              0\n",
            "# … with 1,535,517 more rows\n"
          ]
        }
      ],
      "source": [
        "%%R\n",
        "#group by professional id(emails_recipient_id), date and emails_frequency and summarize email counts and question counts\n",
        "email_prof_ques_df <- email_ques_df %>% group_by(emails_recipient_id, date_sent, emails_frequency_level) %>%\n",
        "                  summarise(email_count = n_distinct(emails_id,na.rm = TRUE), question_count = sum(question_count,na.rm = TRUE) ) %>%\n",
        "                  arrange(emails_recipient_id, emails_frequency_level,  date_sent) \n",
        "print(as_tibble(email_prof_ques_df))"
      ]
    },
    {
      "cell_type": "code",
      "execution_count": 63,
      "metadata": {
        "colab": {
          "base_uri": "https://localhost:8080/"
        },
        "id": "7ATXXAHjB2Vh",
        "outputId": "b4d85856-3373-4a4c-a080-b5df5635d873"
      },
      "outputs": [
        {
          "output_type": "stream",
          "name": "stdout",
          "text": [
            "[1] 4604    3\n",
            "[1] 21014     3\n",
            "[1] 1012    3\n"
          ]
        }
      ],
      "source": [
        "%%R\n",
        "#separate the email notification on frequencies into different dataframes to summarise eve further\n",
        "email_immediate_df <- email_prof_ques_df %>%\n",
        "                  filter(emails_frequency_level == 'email_notification_immediate')\n",
        "email_daily_df <- email_prof_ques_df %>%\n",
        "                  filter(emails_frequency_level == 'email_notification_daily')\n",
        "email_weekly_df <- email_prof_ques_df %>%\n",
        "                  filter(emails_frequency_level == 'email_notification_weekly')\n",
        "\n",
        "#group by to get mean counts of emails and questions\n",
        "email_immediate_df <- email_immediate_df %>% group_by(emails_recipient_id) %>%\n",
        "                  summarise(mean_immediate_emails = mean(email_count,na.rm = TRUE), mean_immediate_questions = mean(question_count,na.rm = TRUE) )\n",
        "email_daily_df <- email_daily_df %>% group_by(emails_recipient_id) %>%\n",
        "                  summarise(mean_daily_emails = mean(email_count,na.rm = TRUE), mean_daily_questions = mean(question_count,na.rm = TRUE) )\n",
        "email_weekly_df <- email_weekly_df %>% group_by(emails_recipient_id) %>%\n",
        "                  summarise(mean_weekly_emails = mean(email_count,na.rm = TRUE), mean_weekly_questions = mean(question_count,na.rm = TRUE) ) \n",
        "\n",
        "print(dim(email_immediate_df))\n",
        "print(dim(email_daily_df))\n",
        "print(dim(email_weekly_df))                                                    "
      ]
    },
    {
      "cell_type": "code",
      "execution_count": 64,
      "metadata": {
        "colab": {
          "base_uri": "https://localhost:8080/"
        },
        "id": "rXmfujh-3ULV",
        "outputId": "50ed3b83-f8ba-46c8-dcdd-5a83e20b83ac"
      },
      "outputs": [
        {
          "output_type": "stream",
          "name": "stdout",
          "text": [
            "# A tibble: 28,152 × 18\n",
            "   professionals_id           professionals_l… professionals_i… professional_in…\n",
            "   <chr>                      <chr>            <chr>            <chr>           \n",
            " 1 9ced4ce7519049c0944147afb… \"\"               \"\"               \"\"              \n",
            " 2 f718dcf6d2ec4cb0a52a9db59… \"\"               \"\"               \"\"              \n",
            " 3 0c673e046d824ec0ad0ebe012… \"New York, New … \"\"               \"\"              \n",
            " 4 977428d851b24183b223be0eb… \"Boston, Massac… \"\"               \"\"              \n",
            " 5 e2d57e5041a44f489288397c9… \"\"               \"\"               \"\"              \n",
            " 6 c9bfa93898594cbbace436dec… \"\"               \"\"               \"\"              \n",
            " 7 ed85488fb5e941eaa97014137… \"\"               \"\"               \"\"              \n",
            " 8 102fb92c28034ad988b593d01… \"\"               \"\"               \"\"              \n",
            " 9 5a4a16842ec64430ac3f916aa… \"\"               \"\"               \"\"              \n",
            "10 81999d5ad93549dab55636a54… \"\"               \"\"               \"\"              \n",
            "# … with 28,142 more rows, and 14 more variables: professionals_headline <chr>,\n",
            "#   professionals_date_joined <chr>, all_tags <chr>, tag_count <int>,\n",
            "#   all_groups <chr>, group_count <int>, all_schools <chr>, school_count <int>,\n",
            "#   mean_immediate_emails <dbl>, mean_immediate_questions <dbl>,\n",
            "#   mean_daily_emails <dbl>, mean_daily_questions <dbl>,\n",
            "#   mean_weekly_emails <dbl>, mean_weekly_questions <dbl>\n"
          ]
        }
      ],
      "source": [
        "%%R\n",
        "#join prof_tags_groups_df with email_immediate_df, email_daily_df and email_weekly_df to combine information about email notification frequency\n",
        "prof_tags_groups_df <- left_join(prof_tags_groups_df, email_immediate_df, by = c(\"professionals_id\"=\"emails_recipient_id\"))  \n",
        "prof_tags_groups_df <- left_join(prof_tags_groups_df, email_daily_df, by = c(\"professionals_id\"=\"emails_recipient_id\"))  \n",
        "prof_tags_groups_df <- left_join(prof_tags_groups_df, email_weekly_df, by = c(\"professionals_id\"=\"emails_recipient_id\"))  \n",
        "print(as_tibble(prof_tags_groups_df))"
      ]
    },
    {
      "cell_type": "code",
      "execution_count": 65,
      "metadata": {
        "colab": {
          "base_uri": "https://localhost:8080/",
          "height": 206
        },
        "id": "LYw5pvVVI4Zk",
        "outputId": "edd6f1f7-f376-48cc-ef3d-4be2c0f3ae31"
      },
      "outputs": [
        {
          "output_type": "display_data",
          "data": {
            "text/plain": [
              "<IPython.core.display.HTML object>"
            ],
            "text/html": [
              "<table border=\"1\" class=\"dataframe\">\n",
              "  <thead>\n",
              "    <tr style=\"text-align: right;\">\n",
              "      <th></th>\n",
              "      <th>emails_id</th>\n",
              "      <th>emails_recipient_id</th>\n",
              "      <th>emails_date_sent</th>\n",
              "      <th>emails_frequency_level</th>\n",
              "      <th>date_sent</th>\n",
              "    </tr>\n",
              "  </thead>\n",
              "  <tbody>\n",
              "    <tr>\n",
              "      <th>1</th>\n",
              "      <td>2337714</td>\n",
              "      <td>0c673e046d824ec0ad0ebe012a0673e4</td>\n",
              "      <td>2018-12-07 01:05:40 UTC+0000</td>\n",
              "      <td>email_notification_daily</td>\n",
              "      <td>17872.0</td>\n",
              "    </tr>\n",
              "    <tr>\n",
              "      <th>2</th>\n",
              "      <td>2336077</td>\n",
              "      <td>0c673e046d824ec0ad0ebe012a0673e4</td>\n",
              "      <td>2018-12-06 01:14:15 UTC+0000</td>\n",
              "      <td>email_notification_daily</td>\n",
              "      <td>17871.0</td>\n",
              "    </tr>\n",
              "    <tr>\n",
              "      <th>3</th>\n",
              "      <td>2314660</td>\n",
              "      <td>0c673e046d824ec0ad0ebe012a0673e4</td>\n",
              "      <td>2018-11-17 00:38:27 UTC+0000</td>\n",
              "      <td>email_notification_daily</td>\n",
              "      <td>17852.0</td>\n",
              "    </tr>\n",
              "    <tr>\n",
              "      <th>4</th>\n",
              "      <td>2312639</td>\n",
              "      <td>0c673e046d824ec0ad0ebe012a0673e4</td>\n",
              "      <td>2018-11-16 00:32:19 UTC+0000</td>\n",
              "      <td>email_notification_daily</td>\n",
              "      <td>17851.0</td>\n",
              "    </tr>\n",
              "    <tr>\n",
              "      <th>5</th>\n",
              "      <td>2299700</td>\n",
              "      <td>0c673e046d824ec0ad0ebe012a0673e4</td>\n",
              "      <td>2018-11-08 00:16:40 UTC+0000</td>\n",
              "      <td>email_notification_daily</td>\n",
              "      <td>17843.0</td>\n",
              "    </tr>\n",
              "  </tbody>\n",
              "</table>"
            ]
          },
          "metadata": {}
        }
      ],
      "source": [
        "#convert R datafram to python dataframe\n",
        "%R -o emails_df \n",
        "display(HTML(emails_df.head().to_html()))"
      ]
    },
    {
      "cell_type": "code",
      "execution_count": 66,
      "metadata": {
        "colab": {
          "base_uri": "https://localhost:8080/",
          "height": 206
        },
        "id": "gz-aLMfCI6Zj",
        "outputId": "d660f0c9-0970-4b13-9f51-2820161f38fc"
      },
      "outputs": [
        {
          "output_type": "display_data",
          "data": {
            "text/plain": [
              "<IPython.core.display.HTML object>"
            ],
            "text/html": [
              "<table border=\"1\" class=\"dataframe\">\n",
              "  <thead>\n",
              "    <tr style=\"text-align: right;\">\n",
              "      <th></th>\n",
              "      <th>matches_email_id</th>\n",
              "      <th>matches_question_id</th>\n",
              "    </tr>\n",
              "  </thead>\n",
              "  <tbody>\n",
              "    <tr>\n",
              "      <th>1</th>\n",
              "      <td>1721939</td>\n",
              "      <td>332a511f1569444485cf7a7a556a5e54</td>\n",
              "    </tr>\n",
              "    <tr>\n",
              "      <th>2</th>\n",
              "      <td>1665388</td>\n",
              "      <td>332a511f1569444485cf7a7a556a5e54</td>\n",
              "    </tr>\n",
              "    <tr>\n",
              "      <th>3</th>\n",
              "      <td>1636634</td>\n",
              "      <td>332a511f1569444485cf7a7a556a5e54</td>\n",
              "    </tr>\n",
              "    <tr>\n",
              "      <th>4</th>\n",
              "      <td>1635498</td>\n",
              "      <td>332a511f1569444485cf7a7a556a5e54</td>\n",
              "    </tr>\n",
              "    <tr>\n",
              "      <th>5</th>\n",
              "      <td>1620298</td>\n",
              "      <td>332a511f1569444485cf7a7a556a5e54</td>\n",
              "    </tr>\n",
              "  </tbody>\n",
              "</table>"
            ]
          },
          "metadata": {}
        }
      ],
      "source": [
        "#convert R datafram to python dataframe\n",
        "%R -o matches_df \n",
        "display(HTML(matches_df.head().to_html()))"
      ]
    },
    {
      "cell_type": "code",
      "execution_count": 67,
      "metadata": {
        "colab": {
          "base_uri": "https://localhost:8080/"
        },
        "id": "1_aZuVFEGT8O",
        "outputId": "398e02b5-ecff-4375-cf7d-e2a53c812390"
      },
      "outputs": [
        {
          "output_type": "stream",
          "name": "stdout",
          "text": [
            "# A tibble: 4,316,275 × 6\n",
            "   matches_email_id matches_question_id        emails_recipien… emails_date_sent\n",
            "              <int> <chr>                      <chr>            <chr>           \n",
            " 1          1523076 0003e7bf48f24b5c985f8fce9… fc83cccd92b54c2… 2018-01-22 17:4…\n",
            " 2          1523075 0003e7bf48f24b5c985f8fce9… d08a870fdd7f4bf… 2018-01-22 17:4…\n",
            " 3          1523079 0003e7bf48f24b5c985f8fce9… 992152c9327c415… 2018-01-22 17:4…\n",
            " 4          1523078 0003e7bf48f24b5c985f8fce9… 4dba67cd990a4b5… 2018-01-22 17:4…\n",
            " 5          1523077 0003e7bf48f24b5c985f8fce9… 41fe4234f2b04ad… 2018-01-22 17:4…\n",
            " 6          1523082 0003e7bf48f24b5c985f8fce9… d67ce9308709451… 2018-01-22 17:4…\n",
            " 7          1523081 0003e7bf48f24b5c985f8fce9… 7963583fd8f947c… 2018-01-22 17:4…\n",
            " 8          1523080 0003e7bf48f24b5c985f8fce9… 0690fe8bea9d456… 2018-01-22 17:4…\n",
            " 9          1523085 0003e7bf48f24b5c985f8fce9… 73cbd4b0241f4e9… 2018-01-22 17:4…\n",
            "10          1523084 0003e7bf48f24b5c985f8fce9… a082cb6441ce48f… 2018-01-22 17:4…\n",
            "# … with 4,316,265 more rows, and 2 more variables:\n",
            "#   emails_frequency_level <chr>, date_sent <date>\n"
          ]
        }
      ],
      "source": [
        "%%R\n",
        "#create a join with matches and emails again, this time without summarizing on questions id\n",
        "match_emails_df <- left_join(matches_df, emails_df, by = c(\"matches_email_id\"=\"emails_id\"))  \n",
        "# arrange emails by question id,  emails_date_sent\n",
        "match_emails_df <- match_emails_df %>% arrange(matches_question_id, emails_date_sent)\n",
        "print(as_tibble(match_emails_df))"
      ]
    },
    {
      "cell_type": "code",
      "execution_count": 68,
      "metadata": {
        "colab": {
          "base_uri": "https://localhost:8080/"
        },
        "id": "jVMZD_WCJOH6",
        "outputId": "810a299a-cab3-43a6-8a51-6d97a3c014a5"
      },
      "outputs": [
        {
          "output_type": "stream",
          "name": "stdout",
          "text": [
            "# A tibble: 21,894 × 5\n",
            "   matches_question_id        emails_sent_cou… professionals_n… first_email_sent\n",
            "   <chr>                                 <int>            <int> <chr>           \n",
            " 1 0003e7bf48f24b5c985f8fce9…             1224             1224 2018-01-22 17:4…\n",
            " 2 0006609dd4da40dcaa5a83e04…              277              277 2018-04-23 18:1…\n",
            " 3 000af224bc2f4e94a19f8b62b…               48               48 2017-04-08 23:0…\n",
            " 4 000b30fb534b41f7b716fa9eb…              129              129 2016-05-19 18:0…\n",
            " 5 0018752e44b44e26bb74a0a43…               60               60 2018-01-17 03:5…\n",
            " 6 00269cdc24fd4a3c93aad4856…               39               39 2018-02-05 23:5…\n",
            " 7 002b07f6281a407ca49ee8b35…              113              113 2014-11-07 23:2…\n",
            " 8 002c5689a0b642a3940f99b68…               13               13 2016-05-18 01:1…\n",
            " 9 0031077b31454fadae1754e87…               39               39 2016-03-10 13:2…\n",
            "10 00361e5dda874e65abaeeceb1…              110              110 2018-10-24 00:3…\n",
            "# … with 21,884 more rows, and 1 more variable: last_email_sent <chr>\n"
          ]
        }
      ],
      "source": [
        "%%R\n",
        "#group by question id and get the frequencies of emails sent irrespective of frequency level\n",
        "ques_emails_df <- match_emails_df %>% group_by(matches_question_id)%>%\n",
        "                  summarise(emails_sent_count = n_distinct(matches_email_id,na.rm = TRUE), professionals_notified_count=n_distinct(emails_recipient_id,na.rm = TRUE), first_email_sent = first(emails_date_sent), last_email_sent =  last(emails_date_sent))\n",
        "print(as_tibble(ques_emails_df))"
      ]
    },
    {
      "cell_type": "code",
      "execution_count": 69,
      "metadata": {
        "colab": {
          "base_uri": "https://localhost:8080/"
        },
        "id": "jw6-jUWOKybu",
        "outputId": "7893fb20-c50d-46ca-f3ae-58af88ff664f"
      },
      "outputs": [
        {
          "output_type": "stream",
          "name": "stdout",
          "text": [
            "# A tibble: 854 × 5\n",
            "   matches_question_id        emails_sent_cou… professionals_n… first_email_sent\n",
            "   <chr>                                 <int>            <int> <chr>           \n",
            " 1 00bb1d71eefa4ebfae1890bc7…              216              162 2016-05-23 16:1…\n",
            " 2 00d85bcc5a26439d9a849d99f…              281              280 2016-05-10 16:1…\n",
            " 3 00e934af910e4c92a530e1697…               52               51 2014-04-08 12:3…\n",
            " 4 010b3de7532946148289efa07…              205              204 2016-05-24 23:0…\n",
            " 5 0263ec137c424d8ca48edc388…              276              275 2016-05-22 01:2…\n",
            " 6 027722cb9e284abda9b3f05dc…               51               50 2016-05-24 22:3…\n",
            " 7 027eb836e57449b3b968fcfad…              228              227 2016-05-18 20:1…\n",
            " 8 027ecc7704c346f598a0b6584…               27               26 2014-04-07 13:4…\n",
            " 9 0284380052104b3aba7e48554…              369              368 2016-03-01 16:4…\n",
            "10 0285ed4ea0a348f9900f35267…               79               59 2016-05-23 02:2…\n",
            "# … with 844 more rows, and 1 more variable: last_email_sent <chr>\n"
          ]
        }
      ],
      "source": [
        "%%R\n",
        "#check if emails sent and professionals notified are different\n",
        "ques_emails_df %>%\n",
        "  filter(emails_sent_count != professionals_notified_count)"
      ]
    },
    {
      "cell_type": "code",
      "execution_count": 70,
      "metadata": {
        "colab": {
          "base_uri": "https://localhost:8080/"
        },
        "id": "9Wnn8RILN4LA",
        "outputId": "36be5e8c-ec3c-4301-8a81-fd8ee274c523"
      },
      "outputs": [
        {
          "output_type": "stream",
          "name": "stdout",
          "text": [
            "# A tibble: 23,931 × 8\n",
            "   questions_id questions_autho… questions_date_… questions_title questions_body\n",
            "   <chr>        <chr>            <chr>            <chr>           <chr>         \n",
            " 1 332a511f156… 8f6f374ffd834d2… 2016-04-26 11:1… Teacher   care… \"What  is  a …\n",
            " 2 eb80205482e… acccbda28edd436… 2016-05-20 16:4… I want to beco… \"I am Priyank…\n",
            " 3 4ec31632938… f2c179a563024cc… 2017-02-08 19:1… Will going abr… \"I'm planning…\n",
            " 4 2f6a9a99d9b… 2c30ffba444e40e… 2017-09-01 14:0… To become a sp… \"i hear busin…\n",
            " 5 5af8880460c… aa9eb1a2ab184eb… 2017-09-01 02:3… Are there any … \"I'm trying t…\n",
            " 6 7c336403258… d1e4587c0e784c6… 2017-03-01 04:2… How many years… \"To be an eng…\n",
            " 7 be3c5edfdb0… 71b4554d4a82425… 2017-09-01 04:5… I want to beco… \"I am a music…\n",
            " 8 0f1d6a4f276… 585ac233015447c… 2016-05-19 22:1… what kind of  … \"I like socce…\n",
            " 9 d4999cdc470… 654e1d6fd5b9472… 2017-08-31 19:2… What are the c… \"I'm asking b…\n",
            "10 e214acfbe66… 16908136951a48e… 2012-09-09 05:3… what does it t… \"I am a sopho…\n",
            "# … with 23,921 more rows, and 3 more variables: score <int>, all_tags <chr>,\n",
            "#   tag_count <int>\n"
          ]
        }
      ],
      "source": [
        "%%R\n",
        "print(as_tibble(ques_score_tag_df))"
      ]
    },
    {
      "cell_type": "code",
      "execution_count": 71,
      "metadata": {
        "colab": {
          "base_uri": "https://localhost:8080/"
        },
        "id": "jSQ_v-yqNLpQ",
        "outputId": "e18c44c1-c25e-4045-c31a-b8eee8a23c7f"
      },
      "outputs": [
        {
          "output_type": "stream",
          "name": "stdout",
          "text": [
            "# A tibble: 23,931 × 12\n",
            "   questions_id questions_autho… questions_date_… questions_title questions_body\n",
            "   <chr>        <chr>            <chr>            <chr>           <chr>         \n",
            " 1 332a511f156… 8f6f374ffd834d2… 2016-04-26 11:1… Teacher   care… \"What  is  a …\n",
            " 2 eb80205482e… acccbda28edd436… 2016-05-20 16:4… I want to beco… \"I am Priyank…\n",
            " 3 4ec31632938… f2c179a563024cc… 2017-02-08 19:1… Will going abr… \"I'm planning…\n",
            " 4 2f6a9a99d9b… 2c30ffba444e40e… 2017-09-01 14:0… To become a sp… \"i hear busin…\n",
            " 5 5af8880460c… aa9eb1a2ab184eb… 2017-09-01 02:3… Are there any … \"I'm trying t…\n",
            " 6 7c336403258… d1e4587c0e784c6… 2017-03-01 04:2… How many years… \"To be an eng…\n",
            " 7 be3c5edfdb0… 71b4554d4a82425… 2017-09-01 04:5… I want to beco… \"I am a music…\n",
            " 8 0f1d6a4f276… 585ac233015447c… 2016-05-19 22:1… what kind of  … \"I like socce…\n",
            " 9 d4999cdc470… 654e1d6fd5b9472… 2017-08-31 19:2… What are the c… \"I'm asking b…\n",
            "10 e214acfbe66… 16908136951a48e… 2012-09-09 05:3… what does it t… \"I am a sopho…\n",
            "# … with 23,921 more rows, and 7 more variables: score <int>, all_tags <chr>,\n",
            "#   tag_count <int>, emails_sent_count <int>,\n",
            "#   professionals_notified_count <int>, first_email_sent <chr>,\n",
            "#   last_email_sent <chr>\n"
          ]
        }
      ],
      "source": [
        "%%R\n",
        "#join ques_score_tag_df with ques_emails_df\n",
        "ques_score_tag_df <- left_join(ques_score_tag_df, ques_emails_df, by = c(\"questions_id\"=\"matches_question_id\"))  \n",
        "print(as_tibble(ques_score_tag_df))"
      ]
    },
    {
      "cell_type": "markdown",
      "metadata": {
        "id": "qmILmSEiOckN"
      },
      "source": [
        "### Exploring students, answers, answer_scores and comments"
      ]
    },
    {
      "cell_type": "code",
      "execution_count": 72,
      "metadata": {
        "colab": {
          "base_uri": "https://localhost:8080/",
          "height": 206
        },
        "id": "7t7FbClYOVIS",
        "outputId": "fe361c41-83b3-4bfd-dc80-5261fdeafa7c"
      },
      "outputs": [
        {
          "output_type": "display_data",
          "data": {
            "text/plain": [
              "<IPython.core.display.HTML object>"
            ],
            "text/html": [
              "<table border=\"1\" class=\"dataframe\">\n",
              "  <thead>\n",
              "    <tr style=\"text-align: right;\">\n",
              "      <th></th>\n",
              "      <th>students_id</th>\n",
              "      <th>students_location</th>\n",
              "      <th>students_date_joined</th>\n",
              "    </tr>\n",
              "  </thead>\n",
              "  <tbody>\n",
              "    <tr>\n",
              "      <th>1</th>\n",
              "      <td>12a89e96755a4dba83ff03e03043d9c0</td>\n",
              "      <td></td>\n",
              "      <td>2011-12-16 14:19:24 UTC+0000</td>\n",
              "    </tr>\n",
              "    <tr>\n",
              "      <th>2</th>\n",
              "      <td>e37a5990fe354c60be5e87376b08d5e3</td>\n",
              "      <td></td>\n",
              "      <td>2011-12-27 03:02:44 UTC+0000</td>\n",
              "    </tr>\n",
              "    <tr>\n",
              "      <th>3</th>\n",
              "      <td>12b402cceeda43dcb6e12ef9f2d221ea</td>\n",
              "      <td></td>\n",
              "      <td>2012-01-01 05:00:00 UTC+0000</td>\n",
              "    </tr>\n",
              "    <tr>\n",
              "      <th>4</th>\n",
              "      <td>a0f431fc79794edcb104f68ce55ab897</td>\n",
              "      <td></td>\n",
              "      <td>2012-01-01 05:00:00 UTC+0000</td>\n",
              "    </tr>\n",
              "    <tr>\n",
              "      <th>5</th>\n",
              "      <td>23aea4702d804bd88d1e9fb28074a1b4</td>\n",
              "      <td></td>\n",
              "      <td>2012-01-01 05:00:00 UTC+0000</td>\n",
              "    </tr>\n",
              "  </tbody>\n",
              "</table>"
            ]
          },
          "metadata": {}
        }
      ],
      "source": [
        "#convert R datafram to python dataframe\n",
        "%R -o students_df \n",
        "display(HTML(students_df.head().to_html()))"
      ]
    },
    {
      "cell_type": "code",
      "execution_count": 73,
      "metadata": {
        "colab": {
          "base_uri": "https://localhost:8080/",
          "height": 868
        },
        "id": "OBRqYZjmOlBW",
        "outputId": "551d552a-34ea-44cd-a46b-1999521dcf83"
      },
      "outputs": [
        {
          "output_type": "display_data",
          "data": {
            "text/plain": [
              "<IPython.core.display.HTML object>"
            ],
            "text/html": [
              "<table border=\"1\" class=\"dataframe\">\n",
              "  <thead>\n",
              "    <tr style=\"text-align: right;\">\n",
              "      <th></th>\n",
              "      <th>answers_id</th>\n",
              "      <th>answers_author_id</th>\n",
              "      <th>answers_question_id</th>\n",
              "      <th>answers_date_added</th>\n",
              "      <th>answers_body</th>\n",
              "    </tr>\n",
              "  </thead>\n",
              "  <tbody>\n",
              "    <tr>\n",
              "      <th>1</th>\n",
              "      <td>4e5f01128cae4f6d8fd697cec5dca60c</td>\n",
              "      <td>36ff3b3666df400f956f8335cf53e09e</td>\n",
              "      <td>332a511f1569444485cf7a7a556a5e54</td>\n",
              "      <td>2016-04-29 19:40:14 UTC+0000</td>\n",
              "      <td>&lt;p&gt;Hi!&lt;/p&gt;\\n&lt;p&gt;You are asking a very interesting question.  I am giving you two sites that will give you some of an explanation that may answer your question.&lt;/p&gt;\\n&lt;p&gt;http://mathforum.org/dr.math/faq/faq.why.math.html&lt;/p&gt;\\n&lt;p&gt;http://www.mathworksheetscenter.com/mathtips/mathissoimportant.html&lt;/p&gt;\\n&lt;p&gt;Let me know if this helps&lt;/p&gt;</td>\n",
              "    </tr>\n",
              "    <tr>\n",
              "      <th>2</th>\n",
              "      <td>ada720538c014e9b8a6dceed09385ee3</td>\n",
              "      <td>2aa47af241bf42a4b874c453f0381bd4</td>\n",
              "      <td>eb80205482e4424cad8f16bc25aa2d9c</td>\n",
              "      <td>2018-05-01 14:19:08 UTC+0000</td>\n",
              "      <td>&lt;p&gt;Hi. I joined the Army after I attended college and received a Bachelor's Degree in Criminal Justice.  Commissioned officers enter the Military with a four year degree or receive officer training after joining and complete a tour. You can prepare yourself by taking Reserve Officer Training Corps (ROTC) while in high school or a university. You can also attend Officer Candidate School (OCS) after graduating from college or become commissioned by earning a professional degree. If you decide to earn a degree, think about what you would like to do while in the military.  The experience in the military was very rewarding. I wish you well and much success in your future. &lt;/p&gt;</td>\n",
              "    </tr>\n",
              "    <tr>\n",
              "      <th>3</th>\n",
              "      <td>eaa66ef919bc408ab5296237440e323f</td>\n",
              "      <td>cbd8f30613a849bf918aed5c010340be</td>\n",
              "      <td>eb80205482e4424cad8f16bc25aa2d9c</td>\n",
              "      <td>2018-05-02 02:41:02 UTC+0000</td>\n",
              "      <td>&lt;p&gt;Dear Priyanka,&lt;/p&gt;&lt;p&gt;Greetings! I have answered this question to Eshwari few days ago. I am going to reproduce that answer with bit of modifications as required for better clarity. &lt;/p&gt;&lt;p&gt;&lt;br&gt;&lt;/p&gt;&lt;p&gt;From your background, I could make out that you are from Bangalore and a student of 10th standard but your location is Rhode Island, USA. So I am not very clear as to which Army you wish to join ? Is it the US Army or the Indian Army? It is important to know that very few foreign nationals can join Indian Army (like Nepali citizens etc.). So you have to ascertain for yourself as to which citizenship you hold and accordingly you can join armed forces of the respective countries. Both are highly professional armies and respected a lot. I shall answer the modalities about the Indian Army, assuming that is the natural choice.&lt;/p&gt;&lt;p&gt;&lt;br&gt;&lt;/p&gt;&lt;p&gt;So, to answer your query, there are following options for you to become army officer:&lt;/p&gt;&lt;ol&gt;&lt;li&gt; Do your B.Sc  and that will be good as you have wider choices including flying branches in air force and executive branches in Navy. Similarly BA/B.Com if you are not looking for flying or executive branches. &lt;/li&gt;&lt;li&gt;  Should you wish to be doctor in Army then you can appear for entrance Test for AFMC, Pune or Army Dental College after class 12th with PCMB. However, you can do the same by attending Medical colleges from civil institutes in India/abroad.  &lt;/li&gt;&lt;li&gt; You can also join Military Nursing Services after B.Sc or Diploma in Nursing but majority of them are trained within army organisations (after 12th only  with PCMB). &lt;/li&gt;&lt;li&gt; You can join after doing your graduation in Engineering (Civil, Mech, Electrical, Electronics or Computer Sciences) or Masters in Physics with Electronics or Computers for engineering branches.&lt;/li&gt;&lt;li&gt;You can also join in Education Corps by doing M.Sc/MA/M.Com with or without B.Ed or in Legal services by doing your Law Degree. &lt;/li&gt;&lt;/ol&gt;&lt;p&gt;&lt;br&gt;&lt;/p&gt;&lt;p&gt;After your basic education, application and selection test processes, one has to clear SSB (Services Selection Board) which is a very stringent 5 days test (compulsory for all including Women officers except medical professionals). It is one of the best methods of test I know to assess the suitability for military services (as officers), a proven method of testing of one's psyche, leadership qualities which takes  all the aspects of your personality into account and decide.  Although, success rate is pretty low but don't get disheartened and demotivated. Key to success in SSB is a sound mind with sound body, positive attitude and basic IQ.  If I could do with an average IQ and humble  educational backgrounds, why not you?  There were many friends (within my batch) of whom we thought that they will never make it to the SSB but they did qualify and now serving as  Major General. &lt;/p&gt;&lt;p&gt;Please refer the links given below and you can find scores of material to read about SSB on the net or through books.&lt;/p&gt;&lt;p&gt;All the Very Best! Jai Hind!&lt;/p&gt;&amp;lt;h1&amp;gt;&lt;br&gt;&amp;lt;/h1&amp;gt;&lt;p&gt;&lt;br&gt;&lt;/p&gt;</td>\n",
              "    </tr>\n",
              "    <tr>\n",
              "      <th>4</th>\n",
              "      <td>1a6b3749d391486c9e371fbd1e605014</td>\n",
              "      <td>7e72a630c303442ba92ff00e8ea451df</td>\n",
              "      <td>4ec31632938a40b98909416bdd0decff</td>\n",
              "      <td>2017-05-10 19:00:47 UTC+0000</td>\n",
              "      <td>&lt;p&gt;I work for a global company who values highly international experience.  In fact, that is a key experience we look for in candidates.  Therefore, I'd say it would be wise to take advantage of the teaching opportunity - even if only for a year or 2.  You never know where it might lead and you will certainly have an edge on your return if you then look for employment in a global company.&lt;/p&gt;</td>\n",
              "    </tr>\n",
              "    <tr>\n",
              "      <th>5</th>\n",
              "      <td>5229c514000446d582050f89ebd4e184</td>\n",
              "      <td>17802d94699140b0a0d2995f30c034c6</td>\n",
              "      <td>2f6a9a99d9b24e5baa50d40d0ba50a75</td>\n",
              "      <td>2017-10-13 22:07:33 UTC+0000</td>\n",
              "      <td>I agree with Denise. Every single job I've had since my first internship in college, I've found through connections. I have also been surprised that in some cases, connections that I least expected were crucial in helping me find new opportunities. For example, I am about to start a new role that in a lot of ways, is my dream job. A few months ago, I connected with someone that used to be on my team at a different company. We only worked on the same team for about 2 months, and 5 years later, ended up working at another tech company in Seattle. He ended up being the hiring manager for this new role, and after passing the other interviews, I got the job. \\n\\nI would say the most important thing when starting your career is to define what you want your brand to be, and what you want to be known for. This will help give you guidance on what activities and events to prioritize, books to read, etc. \\n\\nIt's also essential to be mindful of the impression you leave with others. While networking is essential to building your career, it's important that it's also backed up by a reputation you feel proud about. \\n\\nAs a student, I remember this feeling like an incredibly daunting task. It made it easier for me to find a group I could relate to. I joined ALPFA, an association for Latino Professionals that work across various business disciplines. I would recommend finding an organization that speaks to you, and begin practicing your networking skills there.</td>\n",
              "    </tr>\n",
              "  </tbody>\n",
              "</table>"
            ]
          },
          "metadata": {}
        }
      ],
      "source": [
        "#convert R datafram to python dataframe\n",
        "%R -o answers_df \n",
        "display(HTML(answers_df.head().to_html()))"
      ]
    },
    {
      "cell_type": "code",
      "execution_count": 74,
      "metadata": {
        "colab": {
          "base_uri": "https://localhost:8080/",
          "height": 206
        },
        "id": "Q9yCa9F5Oss3",
        "outputId": "d2d33ca7-3856-42f4-92f2-6948cc4652c6"
      },
      "outputs": [
        {
          "output_type": "display_data",
          "data": {
            "text/plain": [
              "<IPython.core.display.HTML object>"
            ],
            "text/html": [
              "<table border=\"1\" class=\"dataframe\">\n",
              "  <thead>\n",
              "    <tr style=\"text-align: right;\">\n",
              "      <th></th>\n",
              "      <th>id</th>\n",
              "      <th>score</th>\n",
              "    </tr>\n",
              "  </thead>\n",
              "  <tbody>\n",
              "    <tr>\n",
              "      <th>1</th>\n",
              "      <td>7b2bb0fc0d384e298cffa6afde9cf6ab</td>\n",
              "      <td>1</td>\n",
              "    </tr>\n",
              "    <tr>\n",
              "      <th>2</th>\n",
              "      <td>7640a6e5d5224c8681cc58de860858f4</td>\n",
              "      <td>5</td>\n",
              "    </tr>\n",
              "    <tr>\n",
              "      <th>3</th>\n",
              "      <td>3ce32e236fa9435183b2180fb213375c</td>\n",
              "      <td>2</td>\n",
              "    </tr>\n",
              "    <tr>\n",
              "      <th>4</th>\n",
              "      <td>fa30fe4c016043e382c441a7ef743bfb</td>\n",
              "      <td>0</td>\n",
              "    </tr>\n",
              "    <tr>\n",
              "      <th>5</th>\n",
              "      <td>71229eb293314c8a9e545057ecc32c93</td>\n",
              "      <td>2</td>\n",
              "    </tr>\n",
              "  </tbody>\n",
              "</table>"
            ]
          },
          "metadata": {}
        }
      ],
      "source": [
        "#convert R datafram to python dataframe\n",
        "%R -o answer_scores_df \n",
        "display(HTML(answer_scores_df.head().to_html()))"
      ]
    },
    {
      "cell_type": "code",
      "execution_count": 75,
      "metadata": {
        "colab": {
          "base_uri": "https://localhost:8080/",
          "height": 501
        },
        "id": "rLHD-FdkPeC7",
        "outputId": "d5a93026-4c04-46c8-c701-84667e549cf1"
      },
      "outputs": [
        {
          "output_type": "display_data",
          "data": {
            "text/plain": [
              "<IPython.core.display.HTML object>"
            ],
            "text/html": [
              "<table border=\"1\" class=\"dataframe\">\n",
              "  <thead>\n",
              "    <tr style=\"text-align: right;\">\n",
              "      <th></th>\n",
              "      <th>comments_id</th>\n",
              "      <th>comments_author_id</th>\n",
              "      <th>comments_parent_content_id</th>\n",
              "      <th>comments_date_added</th>\n",
              "      <th>comments_body</th>\n",
              "    </tr>\n",
              "  </thead>\n",
              "  <tbody>\n",
              "    <tr>\n",
              "      <th>1</th>\n",
              "      <td>f30250d3c2ca489db1afa9b95d481e08</td>\n",
              "      <td>9fc88a7c3323466dbb35798264c7d497</td>\n",
              "      <td>b476f9c6d9cd4c50a7bacdd90edd015a</td>\n",
              "      <td>2019-01-31 23:39:40 UTC+0000</td>\n",
              "      <td>First, you speak to recruiters. They are trained and knowledgable on all the requirements for each branch of service and can do the research for you on the specific job that you are looking at. \\n\\nAdditionally, birds of a feather do flock together. In high school, you can join groups like the Civil Air Patrol. The Civil Air Patrol is the auxiliary of the Air Force and many former and retired Air Force member within their ranks.</td>\n",
              "    </tr>\n",
              "    <tr>\n",
              "      <th>2</th>\n",
              "      <td>ca9bfc4ba9464ea383a8b080301ad72c</td>\n",
              "      <td>de2415064b9b445c8717425ed70fd99a</td>\n",
              "      <td>ef4b6ae24d1f4c3b977731e8189c7fd7</td>\n",
              "      <td>2019-01-31 20:30:47 UTC+0000</td>\n",
              "      <td>Most large universities offer study abroad programs.  The study abroad programs are found on the schools website.  You may have to click into the Undergraduate or Graduate links.   I also recommend reaching out to the university counselors.  The have wealth of information and details that may not be on the website. \\n\\nMy son will be studying in France and Sweden next year through DePaul University.   The University of Southern California has a very strong international program in which most students participate.  It's a great opportunity to learn the culture of other countries while in school.</td>\n",
              "    </tr>\n",
              "    <tr>\n",
              "      <th>3</th>\n",
              "      <td>c354f6e33956499aa8b03798a60e9386</td>\n",
              "      <td>6ed20605002a42b0b8e3d6ac97c50c7f</td>\n",
              "      <td>ca7a9d7a95df471c816db82ee758f57d</td>\n",
              "      <td>2019-01-31 18:44:04 UTC+0000</td>\n",
              "      <td>First, I want to put you at ease that the opposite can happen.  My dormmate that I was paired with my freshman year of college turned into one of my very best friends.  Second, we lived with another girl during our sophomore year; a good friend of ours that lived next to us the previous year.  To us, she was the annoying dormmate that you are mentioning and we already knew her!  Sometimes it takes living with someone to learn their annoying habits.  We could have swapped if someone else agreed to swap with us.  Instead we tried to talk to her about it.  When it did not get better, my other dormmate and I strategized how we could avoid the annoying habits.  For instance, we agreed that the habits were most annoying when we were trying to study so we studied elsewhere.</td>\n",
              "    </tr>\n",
              "    <tr>\n",
              "      <th>4</th>\n",
              "      <td>73a6223948714c5da6231937157e4cb7</td>\n",
              "      <td>d02f6d9faac24997a7003a59e5f34bd3</td>\n",
              "      <td>c7a88aa76f5f49b0830bfeb46ba17e4d</td>\n",
              "      <td>2019-01-31 17:53:28 UTC+0000</td>\n",
              "      <td>Your question submission was great! I just wanted to point out that if you break your original question into separate and slightly more specific points (like \"In addition to the LSAT what is the Law School acceptance process like...\" you might also get some great Advice from our professionals. General questions are always welcome too, just make sure to leave some detail (like you did) of why you are interested etc. Welcome to the CareerVillage community!</td>\n",
              "    </tr>\n",
              "    <tr>\n",
              "      <th>5</th>\n",
              "      <td>55a89a9061d44dd19569c45f90a22779</td>\n",
              "      <td>e78f75c543e84e1c94da1801d8560f65</td>\n",
              "      <td>c7a88aa76f5f49b0830bfeb46ba17e4d</td>\n",
              "      <td>2019-01-31 14:51:53 UTC+0000</td>\n",
              "      <td>Thank you. I'm new to this site. I'm sorry if what I put out there is spam. I will for sure read through those forums.</td>\n",
              "    </tr>\n",
              "  </tbody>\n",
              "</table>"
            ]
          },
          "metadata": {}
        }
      ],
      "source": [
        "#convert R datafram to python dataframe\n",
        "%R -o comments_df \n",
        "display(HTML(comments_df.head().to_html()))"
      ]
    },
    {
      "cell_type": "code",
      "execution_count": 76,
      "metadata": {
        "colab": {
          "base_uri": "https://localhost:8080/"
        },
        "id": "DtHgD2gQTIoC",
        "outputId": "da2f243d-e137-4826-f707-9fe46d945562"
      },
      "outputs": [
        {
          "output_type": "stream",
          "name": "stdout",
          "text": [
            "# A tibble: 0 × 5\n",
            "# … with 5 variables: answers_id <chr>, answers_author_id <chr>,\n",
            "#   answers_question_id <chr>, answers_date_added <chr>, answers_body <chr>\n",
            "# A tibble: 0 × 2\n",
            "# … with 2 variables: id <chr>, score <int>\n",
            "[1] 51123     5\n",
            "[1] 51138     2\n",
            "# A tibble: 31 × 2\n",
            "   id                               score\n",
            "   <chr>                            <int>\n",
            " 1 815e25efd9c746a7beca5a28b7a1fc0f     1\n",
            " 2 8cd34d4d62b04509910a05a790fe930d     0\n",
            " 3 91f221806cfb4ea986eece7b3e94a236     0\n",
            " 4 5a15a37f4940452296e487622c59b786     0\n",
            " 5 fd8bdbb3029f4d51ad73ae249f2ffbde     0\n",
            " 6 cb46e274ab3d491a89311d8c27c4c7c4     0\n",
            " 7 2b1baf69bef742dfa1e247c5350afd0d     2\n",
            " 8 2da9a49ab7ec4b46b4211b7dbfa61497     2\n",
            " 9 5c081a4ef54641a6a3664cc02ccc55d0     1\n",
            "10 7452fbb15f4d4538ad11b2a6e8668b6e     0\n",
            "# … with 21 more rows\n",
            "# A tibble: 16 × 5\n",
            "   answers_id    answers_author_… answers_questio… answers_date_ad… answers_body\n",
            "   <chr>         <chr>            <chr>            <chr>            <chr>       \n",
            " 1 c28bf10c8e0d… 34658a9edacd459… d1da0268a80b41a… 2019-01-29 17:2… \"<p>It's al…\n",
            " 2 d5b361398738… ba9e357a82b048d… 215a6e8eeda8459… 2018-05-17 19:4… \"<p>All of …\n",
            " 3 d11203273a1d… 33490cf035f24ab… 0a1d9fec5b1f4f2… 2018-08-07 18:0… \"<p>I have …\n",
            " 4 cf4962d1e3cc… cbea6a4f1dfa429… 0a1d9fec5b1f4f2… 2018-08-14 16:4… \"<p>I have …\n",
            " 5 bdd8471f2ec9… 94e5785905ed475… 0a1d9fec5b1f4f2… 2018-07-31 13:2… \"<p>I am no…\n",
            " 6 f4787a9c8124… 4f2f90beafb2460… 0a1d9fec5b1f4f2… 2018-08-13 01:0… \"<p>If your…\n",
            " 7 9a1b47980ee8… 32b7e586facf466… 0a1d9fec5b1f4f2… 2018-08-14 06:3… \"<p>It is p…\n",
            " 8 ff714f8ac3c0… 34658a9edacd459… ff2e37a4ee3542e… 2019-01-29 17:2… \"<p>Start h…\n",
            " 9 898fdb3adabb… 34658a9edacd459… 162b9d2c9f2b406… 2019-01-29 17:4… \"<p>As many…\n",
            "10 43712fa27c95… 3f1041722cd6421… e90da10f4e744e8… 2017-09-25 17:5… \"Hello Anan…\n",
            "11 13a524013889… 3f1041722cd6421… e90da10f4e744e8… 2017-09-25 17:3… \"Hello Aust…\n",
            "12 f359dec714a3… 3f1041722cd6421… 185cfd36ce9c41d… 2017-09-25 17:3… \"Hello Aust…\n",
            "13 3f9deb901762… a4ed896551b64f0… 486d7c131c69406… 2018-03-28 19:1… \"<p>General…\n",
            "14 057d6ce44158… 52f81639adcb40b… 486d7c131c69406… 2018-03-31 03:3… \"<p>Yes it …\n",
            "15 5846c0302487… 3f1041722cd6421… 86ffc2d2d93341c… 2017-09-25 21:2… \"Hello Brit…\n",
            "16 3d77cea3c9ba… 3f1041722cd6421… 01b611e908c74da… 2017-09-25 23:5… \"Hello Donj…\n"
          ]
        }
      ],
      "source": [
        "%%R\n",
        "#find duplicates in question id in questions and questions_score\n",
        "print(as_tibble(answers_df[duplicated(answers_df$answers_id), ]))\n",
        "print(as_tibble(answer_scores_df[duplicated(answer_scores_df$id), ]))\n",
        "print(dim(answers_df))\n",
        "print(dim(answer_scores_df))\n",
        "ans_anti_join_df <- anti_join(answer_scores_df, answers_df, by = c(\"id\"=\"answers_id\"))\n",
        "print(as_tibble(ans_anti_join_df)) \n",
        "ans_anti_join2_df <- anti_join(answers_df, answer_scores_df, by = c(\"answers_id\"=\"id\"))\n",
        "print(as_tibble(ans_anti_join2_df)) "
      ]
    },
    {
      "cell_type": "markdown",
      "metadata": {
        "id": "tUh3EjQWUU_7"
      },
      "source": [
        "Relationship between answers and answers scores is One to One. Some answers do not have a score and some scores are not associated to the ids in answers"
      ]
    },
    {
      "cell_type": "code",
      "execution_count": 77,
      "metadata": {
        "colab": {
          "base_uri": "https://localhost:8080/"
        },
        "id": "kcrZ6vLyVckt",
        "outputId": "14e591f7-7353-48e5-d714-23b182217bec"
      },
      "outputs": [
        {
          "output_type": "stream",
          "name": "stdout",
          "text": [
            "# A tibble: 51,123 × 6\n",
            "   answers_id    answers_author_… answers_questio… answers_date_ad… answers_body\n",
            "   <chr>         <chr>            <chr>            <chr>            <chr>       \n",
            " 1 4e5f01128cae… 36ff3b3666df400… 332a511f1569444… 2016-04-29 19:4… \"<p>Hi!</p>…\n",
            " 2 ada720538c01… 2aa47af241bf42a… eb80205482e4424… 2018-05-01 14:1… \"<p>Hi. I j…\n",
            " 3 eaa66ef919bc… cbd8f30613a849b… eb80205482e4424… 2018-05-02 02:4… \"<p>Dear Pr…\n",
            " 4 1a6b3749d391… 7e72a630c303442… 4ec31632938a40b… 2017-05-10 19:0… \"<p>I work …\n",
            " 5 5229c5140004… 17802d94699140b… 2f6a9a99d9b24e5… 2017-10-13 22:0… \"I agree wi…\n",
            " 6 5f62fadae807… b03c3872daeb4a5… 2f6a9a99d9b24e5… 2017-10-12 16:0… \"Networking…\n",
            " 7 1d804b3b9e76… f6c89fde797d459… 5af8880460c141d… 2017-09-29 18:5… \"https://ww…\n",
            " 8 08d3cf6fa205… 5bc2db4d58584f9… 5af8880460c141d… 2018-06-08 02:3… \"<p>Hi Joce…\n",
            " 9 9d33d099a03c… 8136c8653d3a489… 7c336403258f4da… 2017-03-01 16:5… \"<p>For the…\n",
            "10 228e5feefb4e… 35c8d979b566478… be3c5edfdb07423… 2017-10-13 18:0… \"Of course!…\n",
            "# … with 51,113 more rows, and 1 more variable: score <int>\n"
          ]
        }
      ],
      "source": [
        "%%R\n",
        "#join answers with answer score\n",
        "answers_df <- left_join(answers_df, answer_scores_df, by = c(\"answers_id\"=\"id\"))  \n",
        "print(as_tibble(answers_df))"
      ]
    },
    {
      "cell_type": "code",
      "execution_count": 78,
      "metadata": {
        "colab": {
          "base_uri": "https://localhost:8080/"
        },
        "id": "WrWKQfOhWUnT",
        "outputId": "a52db2ba-b32c-4ad6-ffb9-a31a6fec3d1a"
      },
      "outputs": [
        {
          "output_type": "stream",
          "name": "stdout",
          "text": [
            "# A tibble: 12,329 × 4\n",
            "   questions_author_id        total_question_… first_question_… last_question_p…\n",
            "   <chr>                                 <int> <chr>            <chr>           \n",
            " 1 0001a66883f74e8d91884fc6e…                2 2018-08-21 00:2… 2018-08-21 00:2…\n",
            " 2 0004592176864233990d94986…                1 2016-03-09 17:1… 2016-03-09 17:1…\n",
            " 3 001bd6f7f1ac4897b0b35dc66…                4 2018-08-29 04:4… 2018-09-28 00:5…\n",
            " 4 001d1629d09d441a8f09e3bfa…                2 2016-05-26 00:0… 2016-05-26 00:2…\n",
            " 5 001df2a2cfb74ef78f3053dde…                2 2015-06-26 22:4… 2015-07-03 02:2…\n",
            " 6 001f3b39d8884a41ab7e71789…                2 2018-01-17 18:5… 2018-01-17 18:5…\n",
            " 7 0029e4c8e1c14b12be6d1d9a6…                2 2014-03-05 21:4… 2014-03-14 19:4…\n",
            " 8 003a1ef91d0a45f6a61ca56ff…                2 2017-05-15 19:0… 2017-05-15 19:1…\n",
            " 9 003af75eba604db9a7b72862f…                1 2015-01-30 04:5… 2015-01-30 04:5…\n",
            "10 003b69a301354c3d9d23e0b8c…                2 2016-05-12 12:0… 2016-05-12 12:1…\n",
            "# … with 12,319 more rows\n"
          ]
        }
      ],
      "source": [
        "%%R\n",
        "# get frequencies of questions posted by students\n",
        "student_ques_df <- ques_score_tag_df %>% select(questions_id,questions_author_id,questions_date_added) %>%\n",
        "                  arrange(questions_author_id,questions_date_added)\n",
        "student_ques_df <- student_ques_df %>% group_by(questions_author_id) %>%\n",
        "                  summarise(total_question_count = n_distinct(questions_id,na.rm = TRUE), first_question_posted = first(questions_date_added), last_question_posted =  last(questions_date_added))\n",
        "print(as_tibble(student_ques_df))"
      ]
    },
    {
      "cell_type": "code",
      "execution_count": 79,
      "metadata": {
        "colab": {
          "base_uri": "https://localhost:8080/"
        },
        "id": "R687Y1NAWoCs",
        "outputId": "dbd794fe-5ddf-456d-c5e9-d46a08402a60"
      },
      "outputs": [
        {
          "output_type": "stream",
          "name": "stdout",
          "text": [
            "# A tibble: 4,231 × 4\n",
            "   comments_author_id         total_comment_c… first_comment_p… last_comment_po…\n",
            "   <chr>                                 <int> <chr>            <chr>           \n",
            " 1 0017911d8762492785352f8cb…                1 2017-05-20 15:0… 2017-05-20 15:0…\n",
            " 2 001f3b39d8884a41ab7e71789…                1 2018-02-11 18:5… 2018-02-11 18:5…\n",
            " 3 0035e45e1f914bc9aa273b2ad…                1 2018-05-17 20:4… 2018-05-17 20:4…\n",
            " 4 003664e8e06348959946fda7c…                2 2017-11-06 15:5… 2017-11-06 15:5…\n",
            " 5 0036eaccbe364ba8bbf7658f1…                1 2018-05-11 17:0… 2018-05-11 17:0…\n",
            " 6 003a1ef91d0a45f6a61ca56ff…                1 2017-05-15 19:1… 2017-05-15 19:1…\n",
            " 7 004b221ad6534a0fac421356e…                1 2018-09-30 19:0… 2018-09-30 19:0…\n",
            " 8 005d8187b0d149f2bcc6a6f0f…                1 2018-05-02 22:3… 2018-05-02 22:3…\n",
            " 9 0063387ed69a4080a7a65b010…                1 2016-05-18 20:2… 2016-05-18 20:2…\n",
            "10 006b57ed965c43ea981190483…                1 2016-11-24 02:5… 2016-11-24 02:5…\n",
            "# … with 4,221 more rows\n"
          ]
        }
      ],
      "source": [
        "%%R\n",
        "# get frequencies of comments posted by students and professionals\n",
        "all_comments_df <- comments_df %>% select(comments_id,comments_author_id,comments_date_added) %>%\n",
        "                  arrange(comments_author_id,comments_date_added)\n",
        "all_comments_df <- all_comments_df %>% group_by(comments_author_id) %>%\n",
        "                  summarise(total_comment_count = n_distinct(comments_id,na.rm = TRUE), first_comment_posted = first(comments_date_added), last_comment_posted =  last(comments_date_added))\n",
        "print(as_tibble(all_comments_df))"
      ]
    },
    {
      "cell_type": "code",
      "execution_count": 80,
      "metadata": {
        "colab": {
          "base_uri": "https://localhost:8080/"
        },
        "id": "yZake8PZeZgK",
        "outputId": "6bce23a6-4065-4123-d033-b9cbb1560294"
      },
      "outputs": [
        {
          "output_type": "stream",
          "name": "stdout",
          "text": [
            "# A tibble: 30,971 × 9\n",
            "   students_id                students_locati… students_date_j… total_question_…\n",
            "   <chr>                      <chr>            <chr>                       <int>\n",
            " 1 12a89e96755a4dba83ff03e03… \"\"               2011-12-16 14:1…                1\n",
            " 2 e37a5990fe354c60be5e87376… \"\"               2011-12-27 03:0…               NA\n",
            " 3 12b402cceeda43dcb6e12ef9f… \"\"               2012-01-01 05:0…               NA\n",
            " 4 a0f431fc79794edcb104f68ce… \"\"               2012-01-01 05:0…               NA\n",
            " 5 23aea4702d804bd88d1e9fb28… \"\"               2012-01-01 05:0…               NA\n",
            " 6 18a8f9363cd24a37b690e1b20… \"\"               2012-01-01 05:0…               NA\n",
            " 7 d21c67279ada49d1bcf66ad62… \"\"               2012-01-01 05:0…               NA\n",
            " 8 433c0f5f90344453ba50ec8ae… \"\"               2012-01-01 05:0…               NA\n",
            " 9 f0a7d23c3d374f8d9a1a5eb9b… \"\"               2012-01-01 05:0…               NA\n",
            "10 26269f6765b74347b28155aea… \"\"               2012-01-01 05:0…               NA\n",
            "# … with 30,961 more rows, and 5 more variables: first_question_posted <chr>,\n",
            "#   last_question_posted <chr>, total_comment_count <int>,\n",
            "#   first_comment_posted <chr>, last_comment_posted <chr>\n"
          ]
        }
      ],
      "source": [
        "%%R\n",
        "#join students with student_ques_df and all_comments_df\n",
        "students_df <- left_join(students_df, student_ques_df, by = c(\"students_id\"=\"questions_author_id\"))  \n",
        "students_df <- left_join(students_df, all_comments_df, by = c(\"students_id\"=\"comments_author_id\"))  \n",
        "print(as_tibble(students_df))"
      ]
    },
    {
      "cell_type": "code",
      "execution_count": 81,
      "metadata": {
        "colab": {
          "base_uri": "https://localhost:8080/"
        },
        "id": "RyCzf6hge6mq",
        "outputId": "9d5e019b-9c93-4c44-8ef3-66ff74bdde71"
      },
      "outputs": [
        {
          "output_type": "stream",
          "name": "stdout",
          "text": [
            "# A tibble: 30,971 × 9\n",
            "   students_id                students_locati… students_date_j… total_question_…\n",
            "   <chr>                      <chr>            <chr>                       <int>\n",
            " 1 12a89e96755a4dba83ff03e03… \"\"               2011-12-16 14:1…                1\n",
            " 2 e37a5990fe354c60be5e87376… \"\"               2011-12-27 03:0…               NA\n",
            " 3 12b402cceeda43dcb6e12ef9f… \"\"               2012-01-01 05:0…               NA\n",
            " 4 a0f431fc79794edcb104f68ce… \"\"               2012-01-01 05:0…               NA\n",
            " 5 23aea4702d804bd88d1e9fb28… \"\"               2012-01-01 05:0…               NA\n",
            " 6 18a8f9363cd24a37b690e1b20… \"\"               2012-01-01 05:0…               NA\n",
            " 7 d21c67279ada49d1bcf66ad62… \"\"               2012-01-01 05:0…               NA\n",
            " 8 433c0f5f90344453ba50ec8ae… \"\"               2012-01-01 05:0…               NA\n",
            " 9 f0a7d23c3d374f8d9a1a5eb9b… \"\"               2012-01-01 05:0…               NA\n",
            "10 26269f6765b74347b28155aea… \"\"               2012-01-01 05:0…               NA\n",
            "# … with 30,961 more rows, and 5 more variables: first_question_posted <chr>,\n",
            "#   last_question_posted <chr>, total_comment_count <int>,\n",
            "#   first_comment_posted <chr>, last_comment_posted <chr>\n"
          ]
        }
      ],
      "source": [
        "%%R\n",
        "print(as_tibble(students_df))"
      ]
    },
    {
      "cell_type": "code",
      "execution_count": 82,
      "metadata": {
        "colab": {
          "base_uri": "https://localhost:8080/"
        },
        "id": "a89QD0otdEi6",
        "outputId": "67dd3832-ff90-40df-c802-ef9045d91038"
      },
      "outputs": [
        {
          "output_type": "stream",
          "name": "stdout",
          "text": [
            "# A tibble: 10,169 × 5\n",
            "   answers_author_id          total_questions… total_answers_p… first_answer_po…\n",
            "   <chr>                                 <int>            <int> <chr>           \n",
            " 1 00009a0f9bda43eba47104e9a…                3                3 2016-03-14 17:3…\n",
            " 2 000d4635e5da41e3bfd83677e…                3                3 2016-04-27 16:4…\n",
            " 3 00271cc10e0245fba4a35e76e…               24               24 2018-09-12 16:5…\n",
            " 4 003cc21be89d4e42bc4424131…                4                4 2017-10-19 18:1…\n",
            " 5 0046ab8089c04b3a8df3f8c28…                5                5 2017-05-10 18:0…\n",
            " 6 004cb439b2fb4abcbf823380a…                3                3 2018-08-21 23:2…\n",
            " 7 0053becb71d94164b014a5a7d…                2                2 2016-11-10 18:5…\n",
            " 8 005cbd7ae54949db98efaa356…                1                1 2018-09-26 00:5…\n",
            " 9 00680f924e8f49d4962876df5…                3                3 2016-06-07 08:4…\n",
            "10 007e521571a248378a7f335fc…                3                3 2016-10-27 13:2…\n",
            "# … with 10,159 more rows, and 1 more variable: last_answer_posted <chr>\n"
          ]
        }
      ],
      "source": [
        "%%R\n",
        "# get frequencies of answers posted by professionals\n",
        "prof_ques_answered_df <- answers_df %>% select(answers_id,answers_author_id,answers_question_id, answers_date_added) %>%\n",
        "                  arrange(answers_author_id,answers_date_added)\n",
        "prof_ques_answered_df <- prof_ques_answered_df %>% group_by(answers_author_id) %>%\n",
        "                  summarise(total_questions_answered = n_distinct(answers_question_id,na.rm = TRUE), total_answers_posted = n_distinct(answers_id,na.rm = TRUE), first_answer_posted = first(answers_date_added), last_answer_posted =  last(answers_date_added))\n",
        "print(as_tibble(prof_ques_answered_df))"
      ]
    },
    {
      "cell_type": "code",
      "execution_count": 83,
      "metadata": {
        "colab": {
          "base_uri": "https://localhost:8080/"
        },
        "id": "bXwcQRQjhzAv",
        "outputId": "7f3c2d10-d805-47ee-89b0-ded20ff01528"
      },
      "outputs": [
        {
          "output_type": "stream",
          "name": "stdout",
          "text": [
            "# A tibble: 28,152 × 25\n",
            "   professionals_id           professionals_l… professionals_i… professional_in…\n",
            "   <chr>                      <chr>            <chr>            <chr>           \n",
            " 1 9ced4ce7519049c0944147afb… \"\"               \"\"               \"\"              \n",
            " 2 f718dcf6d2ec4cb0a52a9db59… \"\"               \"\"               \"\"              \n",
            " 3 0c673e046d824ec0ad0ebe012… \"New York, New … \"\"               \"\"              \n",
            " 4 977428d851b24183b223be0eb… \"Boston, Massac… \"\"               \"\"              \n",
            " 5 e2d57e5041a44f489288397c9… \"\"               \"\"               \"\"              \n",
            " 6 c9bfa93898594cbbace436dec… \"\"               \"\"               \"\"              \n",
            " 7 ed85488fb5e941eaa97014137… \"\"               \"\"               \"\"              \n",
            " 8 102fb92c28034ad988b593d01… \"\"               \"\"               \"\"              \n",
            " 9 5a4a16842ec64430ac3f916aa… \"\"               \"\"               \"\"              \n",
            "10 81999d5ad93549dab55636a54… \"\"               \"\"               \"\"              \n",
            "# … with 28,142 more rows, and 21 more variables: professionals_headline <chr>,\n",
            "#   professionals_date_joined <chr>, all_tags <chr>, tag_count <int>,\n",
            "#   all_groups <chr>, group_count <int>, all_schools <chr>, school_count <int>,\n",
            "#   mean_immediate_emails <dbl>, mean_immediate_questions <dbl>,\n",
            "#   mean_daily_emails <dbl>, mean_daily_questions <dbl>,\n",
            "#   mean_weekly_emails <dbl>, mean_weekly_questions <dbl>,\n",
            "#   total_questions_answered <int>, total_answers_posted <int>, …\n"
          ]
        }
      ],
      "source": [
        "%%R\n",
        "#join professionals with prof_ques_answered_df and all_comments_df\n",
        "prof_tags_groups_df <- left_join(prof_tags_groups_df, prof_ques_answered_df, by = c(\"professionals_id\"=\"answers_author_id\"))  \n",
        "prof_tags_groups_df <- left_join(prof_tags_groups_df, all_comments_df, by = c(\"professionals_id\"=\"comments_author_id\"))  \n",
        "print(as_tibble(prof_tags_groups_df))"
      ]
    },
    {
      "cell_type": "code",
      "execution_count": 84,
      "metadata": {
        "colab": {
          "base_uri": "https://localhost:8080/"
        },
        "id": "BFb0UArInvj2",
        "outputId": "aefe2215-7edd-4d0e-8673-9760fed927bf"
      },
      "outputs": [
        {
          "output_type": "stream",
          "name": "stdout",
          "text": [
            "[1] 51123     6\n",
            "[1] 14966     5\n"
          ]
        }
      ],
      "source": [
        "%%R\n",
        "print(dim(answers_df))\n",
        "print(dim(comments_df))"
      ]
    },
    {
      "cell_type": "code",
      "execution_count": 85,
      "metadata": {
        "colab": {
          "base_uri": "https://localhost:8080/"
        },
        "id": "Q0Frs5zonljc",
        "outputId": "9af644b6-f610-450d-d563-6083046d7ae4"
      },
      "outputs": [
        {
          "output_type": "stream",
          "name": "stdout",
          "text": [
            "# A tibble: 51,123 × 4\n",
            "   answers_id                   total_comments first_comment_p… last_comment_po…\n",
            "   <chr>                                 <int> <chr>            <chr>           \n",
            " 1 0000de0a3eba4db7bc0259dd915…              0 <NA>             <NA>            \n",
            " 2 000117a4c2f74984b86b0808976…              0 <NA>             <NA>            \n",
            " 3 0001ee43a054491585649a9dc7f…              0 <NA>             <NA>            \n",
            " 4 00026eea175a4294b084deb9ed0…              0 <NA>             <NA>            \n",
            " 5 000350c27a6a4b53b32e7f1c107…              0 <NA>             <NA>            \n",
            " 6 0003bd9de5f74c93880afc5f5d4…              0 <NA>             <NA>            \n",
            " 7 000535ea5b584a1195c1dfe34ec…              2 2017-09-11 04:2… 2017-09-11 06:5…\n",
            " 8 00053c080c42477ebec318381e9…              0 <NA>             <NA>            \n",
            " 9 0006238d9cf24881afbaf505aee…              0 <NA>             <NA>            \n",
            "10 00077251e4554d1994d8b155f05…              0 <NA>             <NA>            \n",
            "# … with 51,113 more rows\n",
            "# A tibble: 51,123 × 9\n",
            "   answers_id    answers_author_… answers_questio… answers_date_ad… answers_body\n",
            "   <chr>         <chr>            <chr>            <chr>            <chr>       \n",
            " 1 4e5f01128cae… 36ff3b3666df400… 332a511f1569444… 2016-04-29 19:4… \"<p>Hi!</p>…\n",
            " 2 ada720538c01… 2aa47af241bf42a… eb80205482e4424… 2018-05-01 14:1… \"<p>Hi. I j…\n",
            " 3 eaa66ef919bc… cbd8f30613a849b… eb80205482e4424… 2018-05-02 02:4… \"<p>Dear Pr…\n",
            " 4 1a6b3749d391… 7e72a630c303442… 4ec31632938a40b… 2017-05-10 19:0… \"<p>I work …\n",
            " 5 5229c5140004… 17802d94699140b… 2f6a9a99d9b24e5… 2017-10-13 22:0… \"I agree wi…\n",
            " 6 5f62fadae807… b03c3872daeb4a5… 2f6a9a99d9b24e5… 2017-10-12 16:0… \"Networking…\n",
            " 7 1d804b3b9e76… f6c89fde797d459… 5af8880460c141d… 2017-09-29 18:5… \"https://ww…\n",
            " 8 08d3cf6fa205… 5bc2db4d58584f9… 5af8880460c141d… 2018-06-08 02:3… \"<p>Hi Joce…\n",
            " 9 9d33d099a03c… 8136c8653d3a489… 7c336403258f4da… 2017-03-01 16:5… \"<p>For the…\n",
            "10 228e5feefb4e… 35c8d979b566478… be3c5edfdb07423… 2017-10-13 18:0… \"Of course!…\n",
            "# … with 51,113 more rows, and 4 more variables: score <int>,\n",
            "#   total_comments <int>, first_comment_posted <chr>, last_comment_posted <chr>\n"
          ]
        }
      ],
      "source": [
        "%%R\n",
        "#combine comments and answers and group by answer id to get the comment count \n",
        "answer_comments_df <- left_join(answers_df, comments_df, by = c(\"answers_id\"=\"comments_parent_content_id\"))\n",
        "answer_comments_df <- answer_comments_df %>% arrange(answers_question_id, answers_date_added, comments_date_added)\n",
        "answer_comments_df <- answer_comments_df %>% group_by(answers_id) %>%\n",
        "                                    summarise(total_comments = n_distinct(comments_id,na.rm = TRUE), first_comment_posted = first(comments_date_added), last_comment_posted =  last(comments_date_added))\n",
        "answers_df <- left_join(answers_df, answer_comments_df, by = c(\"answers_id\"=\"answers_id\"))\n",
        "print(as_tibble(answer_comments_df))\n",
        "print(as_tibble(answers_df))"
      ]
    },
    {
      "cell_type": "code",
      "execution_count": 86,
      "metadata": {
        "colab": {
          "base_uri": "https://localhost:8080/"
        },
        "id": "ad3W5av9omKm",
        "outputId": "72f3cfeb-3cc7-4545-b498-cd07b87df149"
      },
      "outputs": [
        {
          "output_type": "stream",
          "name": "stdout",
          "text": [
            "# A tibble: 23,931 × 18\n",
            "   questions_id questions_autho… questions_date_… questions_title questions_body\n",
            "   <chr>        <chr>            <chr>            <chr>           <chr>         \n",
            " 1 332a511f156… 8f6f374ffd834d2… 2016-04-26 11:1… Teacher   care… \"What  is  a …\n",
            " 2 eb80205482e… acccbda28edd436… 2016-05-20 16:4… I want to beco… \"I am Priyank…\n",
            " 3 4ec31632938… f2c179a563024cc… 2017-02-08 19:1… Will going abr… \"I'm planning…\n",
            " 4 2f6a9a99d9b… 2c30ffba444e40e… 2017-09-01 14:0… To become a sp… \"i hear busin…\n",
            " 5 5af8880460c… aa9eb1a2ab184eb… 2017-09-01 02:3… Are there any … \"I'm trying t…\n",
            " 6 7c336403258… d1e4587c0e784c6… 2017-03-01 04:2… How many years… \"To be an eng…\n",
            " 7 be3c5edfdb0… 71b4554d4a82425… 2017-09-01 04:5… I want to beco… \"I am a music…\n",
            " 8 0f1d6a4f276… 585ac233015447c… 2016-05-19 22:1… what kind of  … \"I like socce…\n",
            " 9 d4999cdc470… 654e1d6fd5b9472… 2017-08-31 19:2… What are the c… \"I'm asking b…\n",
            "10 e214acfbe66… 16908136951a48e… 2012-09-09 05:3… what does it t… \"I am a sopho…\n",
            "# … with 23,921 more rows, and 13 more variables: score <int>, all_tags <chr>,\n",
            "#   tag_count <int>, emails_sent_count <int>,\n",
            "#   professionals_notified_count <int>, first_email_sent <chr>,\n",
            "#   last_email_sent <chr>, total_answers <int>, first_answer_posted <chr>,\n",
            "#   last_answer_posted <chr>, total_comments <int>, first_comment_posted <chr>,\n",
            "#   last_comment_posted <chr>\n"
          ]
        }
      ],
      "source": [
        "%%R\n",
        "#combine answers and questions and group by question id to get the answer count \n",
        "question_answers_df <- right_join(questions_df, answers_df, by = c(\"questions_id\"=\"answers_question_id\"))\n",
        "question_answers_df <- question_answers_df %>% arrange(questions_id, answers_date_added)\n",
        "question_answers_df <- question_answers_df %>% group_by(questions_id) %>%\n",
        "                                    summarise(total_answers = n_distinct(answers_id,na.rm = TRUE), first_answer_posted = first(answers_date_added), last_answer_posted =  last(answers_date_added))\n",
        "\n",
        "#combine comments and questions and group by question id to get the comment count \n",
        "question_comments_df <- left_join(answers_df, comments_df, by = c(\"answers_id\"=\"comments_parent_content_id\"))\n",
        "question_comments_df <- question_comments_df %>% arrange(answers_question_id, comments_date_added)\n",
        "question_comments_df <- question_comments_df %>% group_by(answers_question_id) %>%\n",
        "                                    summarise(total_comments = n_distinct(comments_id,na.rm = TRUE), first_comment_posted = first(comments_date_added), last_comment_posted =  last(comments_date_added))\n",
        "ques_score_tag_df <- left_join(ques_score_tag_df, question_answers_df, by = c(\"questions_id\"=\"questions_id\"))\n",
        "ques_score_tag_df <- left_join(ques_score_tag_df, question_comments_df, by = c(\"questions_id\"=\"answers_question_id\"))\n",
        "print(as_tibble(ques_score_tag_df))"
      ]
    },
    {
      "cell_type": "code",
      "source": [
        "%%R\n",
        "#combine questions with student details\n",
        "ques_score_tag_df <- left_join(ques_score_tag_df, students_df, by = c(\"questions_author_id\"=\"students_id\"))\n",
        "#rename score column in ques_score_tag_df to \"question_score\"\n",
        "names(ques_score_tag_df)[names(ques_score_tag_df) == 'score'] <- 'question_score'\n",
        "print(as_tibble(ques_score_tag_df))\n",
        "\n",
        "#combine answers with professionals details\n",
        "answers_df <- left_join(answers_df, select(prof_tags_groups_df, c(professionals_id,professionals_location,professionals_industry,professionals_headline,professionals_date_joined)), by = c(\"answers_author_id\"=\"professionals_id\"))\n",
        "#rename score column in answers_df to \"answer_score\"\n",
        "names(answers_df)[names(answers_df) == 'score'] <- 'answer_score'\n",
        "#combine answers with question details\n",
        "answers_df <- left_join(answers_df, select(ques_score_tag_df,c(questions_id,questions_date_added,all_tags,tag_count)), by = c(\"answers_question_id\"=\"questions_id\"))\n",
        "print(as_tibble(answers_df))\n"
      ],
      "metadata": {
        "colab": {
          "base_uri": "https://localhost:8080/"
        },
        "id": "toDXDbq6VSQI",
        "outputId": "57d2c5a0-79cd-4a63-c432-712522157c52"
      },
      "execution_count": 87,
      "outputs": [
        {
          "output_type": "stream",
          "name": "stdout",
          "text": [
            "# A tibble: 23,931 × 26\n",
            "   questions_id questions_autho… questions_date_… questions_title questions_body\n",
            "   <chr>        <chr>            <chr>            <chr>           <chr>         \n",
            " 1 332a511f156… 8f6f374ffd834d2… 2016-04-26 11:1… Teacher   care… \"What  is  a …\n",
            " 2 eb80205482e… acccbda28edd436… 2016-05-20 16:4… I want to beco… \"I am Priyank…\n",
            " 3 4ec31632938… f2c179a563024cc… 2017-02-08 19:1… Will going abr… \"I'm planning…\n",
            " 4 2f6a9a99d9b… 2c30ffba444e40e… 2017-09-01 14:0… To become a sp… \"i hear busin…\n",
            " 5 5af8880460c… aa9eb1a2ab184eb… 2017-09-01 02:3… Are there any … \"I'm trying t…\n",
            " 6 7c336403258… d1e4587c0e784c6… 2017-03-01 04:2… How many years… \"To be an eng…\n",
            " 7 be3c5edfdb0… 71b4554d4a82425… 2017-09-01 04:5… I want to beco… \"I am a music…\n",
            " 8 0f1d6a4f276… 585ac233015447c… 2016-05-19 22:1… what kind of  … \"I like socce…\n",
            " 9 d4999cdc470… 654e1d6fd5b9472… 2017-08-31 19:2… What are the c… \"I'm asking b…\n",
            "10 e214acfbe66… 16908136951a48e… 2012-09-09 05:3… what does it t… \"I am a sopho…\n",
            "# … with 23,921 more rows, and 21 more variables: question_score <int>,\n",
            "#   all_tags <chr>, tag_count <int>, emails_sent_count <int>,\n",
            "#   professionals_notified_count <int>, first_email_sent <chr>,\n",
            "#   last_email_sent <chr>, total_answers <int>, first_answer_posted <chr>,\n",
            "#   last_answer_posted <chr>, total_comments <int>,\n",
            "#   first_comment_posted.x <chr>, last_comment_posted.x <chr>,\n",
            "#   students_location <chr>, students_date_joined <chr>, …\n",
            "# A tibble: 51,123 × 16\n",
            "   answers_id    answers_author_… answers_questio… answers_date_ad… answers_body\n",
            "   <chr>         <chr>            <chr>            <chr>            <chr>       \n",
            " 1 4e5f01128cae… 36ff3b3666df400… 332a511f1569444… 2016-04-29 19:4… \"<p>Hi!</p>…\n",
            " 2 ada720538c01… 2aa47af241bf42a… eb80205482e4424… 2018-05-01 14:1… \"<p>Hi. I j…\n",
            " 3 eaa66ef919bc… cbd8f30613a849b… eb80205482e4424… 2018-05-02 02:4… \"<p>Dear Pr…\n",
            " 4 1a6b3749d391… 7e72a630c303442… 4ec31632938a40b… 2017-05-10 19:0… \"<p>I work …\n",
            " 5 5229c5140004… 17802d94699140b… 2f6a9a99d9b24e5… 2017-10-13 22:0… \"I agree wi…\n",
            " 6 5f62fadae807… b03c3872daeb4a5… 2f6a9a99d9b24e5… 2017-10-12 16:0… \"Networking…\n",
            " 7 1d804b3b9e76… f6c89fde797d459… 5af8880460c141d… 2017-09-29 18:5… \"https://ww…\n",
            " 8 08d3cf6fa205… 5bc2db4d58584f9… 5af8880460c141d… 2018-06-08 02:3… \"<p>Hi Joce…\n",
            " 9 9d33d099a03c… 8136c8653d3a489… 7c336403258f4da… 2017-03-01 16:5… \"<p>For the…\n",
            "10 228e5feefb4e… 35c8d979b566478… be3c5edfdb07423… 2017-10-13 18:0… \"Of course!…\n",
            "# … with 51,113 more rows, and 11 more variables: answer_score <int>,\n",
            "#   total_comments <int>, first_comment_posted <chr>,\n",
            "#   last_comment_posted <chr>, professionals_location <chr>,\n",
            "#   professionals_industry <chr>, professionals_headline <chr>,\n",
            "#   professionals_date_joined <chr>, questions_date_added <chr>,\n",
            "#   all_tags <chr>, tag_count <int>\n"
          ]
        }
      ]
    },
    {
      "cell_type": "markdown",
      "metadata": {
        "id": "5aP423RZwdsL"
      },
      "source": [
        "## Save files for future use"
      ]
    },
    {
      "cell_type": "code",
      "execution_count": 91,
      "metadata": {
        "id": "sqTh3yD--nuh",
        "colab": {
          "base_uri": "https://localhost:8080/"
        },
        "outputId": "624201d8-58e7-405c-e8a1-bbdd17ebb4cb"
      },
      "outputs": [
        {
          "output_type": "stream",
          "name": "stdout",
          "text": [
            "`mutate_if()` ignored the following grouping variables:\n",
            "• Column `tags_tag_id`\n",
            "`mutate_if()` ignored the following grouping variables:\n",
            "• Column `tags_tag_id`\n"
          ]
        }
      ],
      "source": [
        "%%R\n",
        "#fix all null values\n",
        "ques_score_tag_df <- ques_score_tag_df %>% mutate_if(is.integer, ~replace(., is.na(.), 0)) %>% mutate_if(is.numeric, ~replace(., is.na(.), 0))\n",
        "prof_tags_groups_df <- prof_tags_groups_df %>% mutate_if(is.integer, ~replace(., is.na(.), 0)) %>% mutate_if(is.numeric, ~replace(., is.na(.), 0))\n",
        "answers_df <- answers_df %>% mutate_if(is.integer, ~replace(., is.na(.), 0)) %>% mutate_if(is.numeric, ~replace(., is.na(.), 0))\n",
        "tag_ques_prof_df <- tag_ques_prof_df %>% mutate_if(is.integer, ~replace(., is.na(.), 0)) %>% mutate_if(is.numeric, ~replace(., is.na(.), 0))"
      ]
    },
    {
      "cell_type": "code",
      "execution_count": 92,
      "metadata": {
        "colab": {
          "base_uri": "https://localhost:8080/",
          "height": 17
        },
        "id": "VHlYkN-gtdQU",
        "outputId": "3d0df6ab-861a-4959-8270-38967b1367fc"
      },
      "outputs": [
        {
          "output_type": "display_data",
          "data": {
            "text/plain": [
              "<IPython.core.display.Javascript object>"
            ],
            "application/javascript": [
              "\n",
              "    async function download(id, filename, size) {\n",
              "      if (!google.colab.kernel.accessAllowed) {\n",
              "        return;\n",
              "      }\n",
              "      const div = document.createElement('div');\n",
              "      const label = document.createElement('label');\n",
              "      label.textContent = `Downloading \"${filename}\": `;\n",
              "      div.appendChild(label);\n",
              "      const progress = document.createElement('progress');\n",
              "      progress.max = size;\n",
              "      div.appendChild(progress);\n",
              "      document.body.appendChild(div);\n",
              "\n",
              "      const buffers = [];\n",
              "      let downloaded = 0;\n",
              "\n",
              "      const channel = await google.colab.kernel.comms.open(id);\n",
              "      // Send a message to notify the kernel that we're ready.\n",
              "      channel.send({})\n",
              "\n",
              "      for await (const message of channel.messages) {\n",
              "        // Send a message to notify the kernel that we're ready.\n",
              "        channel.send({})\n",
              "        if (message.buffers) {\n",
              "          for (const buffer of message.buffers) {\n",
              "            buffers.push(buffer);\n",
              "            downloaded += buffer.byteLength;\n",
              "            progress.value = downloaded;\n",
              "          }\n",
              "        }\n",
              "      }\n",
              "      const blob = new Blob(buffers, {type: 'application/binary'});\n",
              "      const a = document.createElement('a');\n",
              "      a.href = window.URL.createObjectURL(blob);\n",
              "      a.download = filename;\n",
              "      div.appendChild(a);\n",
              "      a.click();\n",
              "      div.remove();\n",
              "    }\n",
              "  "
            ]
          },
          "metadata": {}
        },
        {
          "output_type": "display_data",
          "data": {
            "text/plain": [
              "<IPython.core.display.Javascript object>"
            ],
            "application/javascript": [
              "download(\"download_a138038b-4874-4e64-9137-c34e9114dbe0\", \"questions.csv\", 17186578)"
            ]
          },
          "metadata": {}
        },
        {
          "output_type": "display_data",
          "data": {
            "text/plain": [
              "<IPython.core.display.Javascript object>"
            ],
            "application/javascript": [
              "\n",
              "    async function download(id, filename, size) {\n",
              "      if (!google.colab.kernel.accessAllowed) {\n",
              "        return;\n",
              "      }\n",
              "      const div = document.createElement('div');\n",
              "      const label = document.createElement('label');\n",
              "      label.textContent = `Downloading \"${filename}\": `;\n",
              "      div.appendChild(label);\n",
              "      const progress = document.createElement('progress');\n",
              "      progress.max = size;\n",
              "      div.appendChild(progress);\n",
              "      document.body.appendChild(div);\n",
              "\n",
              "      const buffers = [];\n",
              "      let downloaded = 0;\n",
              "\n",
              "      const channel = await google.colab.kernel.comms.open(id);\n",
              "      // Send a message to notify the kernel that we're ready.\n",
              "      channel.send({})\n",
              "\n",
              "      for await (const message of channel.messages) {\n",
              "        // Send a message to notify the kernel that we're ready.\n",
              "        channel.send({})\n",
              "        if (message.buffers) {\n",
              "          for (const buffer of message.buffers) {\n",
              "            buffers.push(buffer);\n",
              "            downloaded += buffer.byteLength;\n",
              "            progress.value = downloaded;\n",
              "          }\n",
              "        }\n",
              "      }\n",
              "      const blob = new Blob(buffers, {type: 'application/binary'});\n",
              "      const a = document.createElement('a');\n",
              "      a.href = window.URL.createObjectURL(blob);\n",
              "      a.download = filename;\n",
              "      div.appendChild(a);\n",
              "      a.click();\n",
              "      div.remove();\n",
              "    }\n",
              "  "
            ]
          },
          "metadata": {}
        },
        {
          "output_type": "display_data",
          "data": {
            "text/plain": [
              "<IPython.core.display.Javascript object>"
            ],
            "application/javascript": [
              "download(\"download_8752cd80-dc3c-485f-8fcf-a80b1dfa6235\", \"professionals.csv\", 9174651)"
            ]
          },
          "metadata": {}
        },
        {
          "output_type": "display_data",
          "data": {
            "text/plain": [
              "<IPython.core.display.Javascript object>"
            ],
            "application/javascript": [
              "\n",
              "    async function download(id, filename, size) {\n",
              "      if (!google.colab.kernel.accessAllowed) {\n",
              "        return;\n",
              "      }\n",
              "      const div = document.createElement('div');\n",
              "      const label = document.createElement('label');\n",
              "      label.textContent = `Downloading \"${filename}\": `;\n",
              "      div.appendChild(label);\n",
              "      const progress = document.createElement('progress');\n",
              "      progress.max = size;\n",
              "      div.appendChild(progress);\n",
              "      document.body.appendChild(div);\n",
              "\n",
              "      const buffers = [];\n",
              "      let downloaded = 0;\n",
              "\n",
              "      const channel = await google.colab.kernel.comms.open(id);\n",
              "      // Send a message to notify the kernel that we're ready.\n",
              "      channel.send({})\n",
              "\n",
              "      for await (const message of channel.messages) {\n",
              "        // Send a message to notify the kernel that we're ready.\n",
              "        channel.send({})\n",
              "        if (message.buffers) {\n",
              "          for (const buffer of message.buffers) {\n",
              "            buffers.push(buffer);\n",
              "            downloaded += buffer.byteLength;\n",
              "            progress.value = downloaded;\n",
              "          }\n",
              "        }\n",
              "      }\n",
              "      const blob = new Blob(buffers, {type: 'application/binary'});\n",
              "      const a = document.createElement('a');\n",
              "      a.href = window.URL.createObjectURL(blob);\n",
              "      a.download = filename;\n",
              "      div.appendChild(a);\n",
              "      a.click();\n",
              "      div.remove();\n",
              "    }\n",
              "  "
            ]
          },
          "metadata": {}
        },
        {
          "output_type": "display_data",
          "data": {
            "text/plain": [
              "<IPython.core.display.Javascript object>"
            ],
            "application/javascript": [
              "download(\"download_a82fa315-2f9c-41ea-b7e8-0901627fde60\", \"answers.csv\", 63149869)"
            ]
          },
          "metadata": {}
        },
        {
          "output_type": "display_data",
          "data": {
            "text/plain": [
              "<IPython.core.display.Javascript object>"
            ],
            "application/javascript": [
              "\n",
              "    async function download(id, filename, size) {\n",
              "      if (!google.colab.kernel.accessAllowed) {\n",
              "        return;\n",
              "      }\n",
              "      const div = document.createElement('div');\n",
              "      const label = document.createElement('label');\n",
              "      label.textContent = `Downloading \"${filename}\": `;\n",
              "      div.appendChild(label);\n",
              "      const progress = document.createElement('progress');\n",
              "      progress.max = size;\n",
              "      div.appendChild(progress);\n",
              "      document.body.appendChild(div);\n",
              "\n",
              "      const buffers = [];\n",
              "      let downloaded = 0;\n",
              "\n",
              "      const channel = await google.colab.kernel.comms.open(id);\n",
              "      // Send a message to notify the kernel that we're ready.\n",
              "      channel.send({})\n",
              "\n",
              "      for await (const message of channel.messages) {\n",
              "        // Send a message to notify the kernel that we're ready.\n",
              "        channel.send({})\n",
              "        if (message.buffers) {\n",
              "          for (const buffer of message.buffers) {\n",
              "            buffers.push(buffer);\n",
              "            downloaded += buffer.byteLength;\n",
              "            progress.value = downloaded;\n",
              "          }\n",
              "        }\n",
              "      }\n",
              "      const blob = new Blob(buffers, {type: 'application/binary'});\n",
              "      const a = document.createElement('a');\n",
              "      a.href = window.URL.createObjectURL(blob);\n",
              "      a.download = filename;\n",
              "      div.appendChild(a);\n",
              "      a.click();\n",
              "      div.remove();\n",
              "    }\n",
              "  "
            ]
          },
          "metadata": {}
        },
        {
          "output_type": "display_data",
          "data": {
            "text/plain": [
              "<IPython.core.display.Javascript object>"
            ],
            "application/javascript": [
              "download(\"download_be4241e2-a270-4ffc-bd3b-d89de627bbe9\", \"comments.csv\", 4498510)"
            ]
          },
          "metadata": {}
        },
        {
          "output_type": "display_data",
          "data": {
            "text/plain": [
              "<IPython.core.display.Javascript object>"
            ],
            "application/javascript": [
              "\n",
              "    async function download(id, filename, size) {\n",
              "      if (!google.colab.kernel.accessAllowed) {\n",
              "        return;\n",
              "      }\n",
              "      const div = document.createElement('div');\n",
              "      const label = document.createElement('label');\n",
              "      label.textContent = `Downloading \"${filename}\": `;\n",
              "      div.appendChild(label);\n",
              "      const progress = document.createElement('progress');\n",
              "      progress.max = size;\n",
              "      div.appendChild(progress);\n",
              "      document.body.appendChild(div);\n",
              "\n",
              "      const buffers = [];\n",
              "      let downloaded = 0;\n",
              "\n",
              "      const channel = await google.colab.kernel.comms.open(id);\n",
              "      // Send a message to notify the kernel that we're ready.\n",
              "      channel.send({})\n",
              "\n",
              "      for await (const message of channel.messages) {\n",
              "        // Send a message to notify the kernel that we're ready.\n",
              "        channel.send({})\n",
              "        if (message.buffers) {\n",
              "          for (const buffer of message.buffers) {\n",
              "            buffers.push(buffer);\n",
              "            downloaded += buffer.byteLength;\n",
              "            progress.value = downloaded;\n",
              "          }\n",
              "        }\n",
              "      }\n",
              "      const blob = new Blob(buffers, {type: 'application/binary'});\n",
              "      const a = document.createElement('a');\n",
              "      a.href = window.URL.createObjectURL(blob);\n",
              "      a.download = filename;\n",
              "      div.appendChild(a);\n",
              "      a.click();\n",
              "      div.remove();\n",
              "    }\n",
              "  "
            ]
          },
          "metadata": {}
        },
        {
          "output_type": "display_data",
          "data": {
            "text/plain": [
              "<IPython.core.display.Javascript object>"
            ],
            "application/javascript": [
              "download(\"download_7273ff97-f0af-46a5-bf2a-ced632f0048c\", \"tags.csv\", 545375)"
            ]
          },
          "metadata": {}
        }
      ],
      "source": [
        "from google.colab import files\n",
        "\n",
        "#convert R data fram to python dataframe\n",
        "%R -o ques_score_tag_df\n",
        "ques_score_tag_df.to_csv('questions.csv', encoding = 'utf-8-sig') \n",
        "files.download('questions.csv')\n",
        "\n",
        "%R -o prof_tags_groups_df\n",
        "prof_tags_groups_df.to_csv('professionals.csv', encoding = 'utf-8-sig') \n",
        "files.download('professionals.csv')\n",
        "\n",
        "%R -o answers_df\n",
        "answers_df.to_csv('answers.csv', encoding = 'utf-8-sig') \n",
        "files.download('answers.csv')\n",
        "\n",
        "%R -o comments_df\n",
        "comments_df.to_csv('comments.csv', encoding = 'utf-8-sig') \n",
        "files.download('comments.csv')\n",
        "\n",
        "%R -o tag_ques_prof_df\n",
        "tag_ques_prof_df.to_csv('tags.csv', encoding = 'utf-8-sig') \n",
        "files.download('tags.csv')"
      ]
    },
    {
      "cell_type": "markdown",
      "metadata": {
        "id": "S5Q4XIyLw66F"
      },
      "source": [
        "## Session Info"
      ]
    },
    {
      "cell_type": "code",
      "execution_count": 90,
      "metadata": {
        "colab": {
          "base_uri": "https://localhost:8080/"
        },
        "id": "waR2yVIjw4Ll",
        "outputId": "fb96fbd5-6e48-49a9-d478-7bb82863abdd"
      },
      "outputs": [
        {
          "output_type": "stream",
          "name": "stdout",
          "text": [
            "R version 4.2.0 (2022-04-22)\n",
            "Platform: x86_64-pc-linux-gnu (64-bit)\n",
            "Running under: Ubuntu 18.04.5 LTS\n",
            "\n",
            "Matrix products: default\n",
            "BLAS:   /usr/lib/x86_64-linux-gnu/openblas/libblas.so.3\n",
            "LAPACK: /usr/lib/x86_64-linux-gnu/openblas/liblapack.so.3\n",
            "\n",
            "locale:\n",
            " [1] LC_CTYPE=en_US.UTF-8       LC_NUMERIC=C              \n",
            " [3] LC_TIME=en_US.UTF-8        LC_COLLATE=en_US.UTF-8    \n",
            " [5] LC_MONETARY=en_US.UTF-8    LC_MESSAGES=en_US.UTF-8   \n",
            " [7] LC_PAPER=en_US.UTF-8       LC_NAME=C                 \n",
            " [9] LC_ADDRESS=C               LC_TELEPHONE=C            \n",
            "[11] LC_MEASUREMENT=en_US.UTF-8 LC_IDENTIFICATION=C       \n",
            "\n",
            "attached base packages:\n",
            "[1] tools     stats     graphics  grDevices utils     datasets  methods  \n",
            "[8] base     \n",
            "\n",
            "other attached packages:\n",
            " [1] lubridate_1.8.0 plotly_4.10.0   forcats_0.5.1   stringr_1.4.0  \n",
            " [5] dplyr_1.0.9     purrr_0.3.4     readr_2.1.2     tidyr_1.2.0    \n",
            " [9] tibble_3.1.6    ggplot2_3.3.5   tidyverse_1.3.1\n",
            "\n",
            "loaded via a namespace (and not attached):\n",
            " [1] cellranger_1.1.0  pillar_1.7.0      compiler_4.2.0    dbplyr_2.1.1     \n",
            " [5] digest_0.6.29     viridisLite_0.4.0 jsonlite_1.8.0    lifecycle_1.0.1  \n",
            " [9] gtable_0.3.0      pkgconfig_2.0.3   rlang_1.0.2       reprex_2.0.1     \n",
            "[13] rstudioapi_0.13   DBI_1.1.2         cli_3.3.0         haven_2.5.0      \n",
            "[17] fastmap_1.1.0     xml2_1.3.3        withr_2.5.0       httr_1.4.2       \n",
            "[21] htmlwidgets_1.5.4 fs_1.5.2          generics_0.1.2    vctrs_0.4.1      \n",
            "[25] hms_1.1.1         grid_4.2.0        tidyselect_1.1.2  data.table_1.14.2\n",
            "[29] glue_1.6.2        R6_2.5.1          fansi_1.0.3       readxl_1.4.0     \n",
            "[33] tzdb_0.3.0        modelr_0.1.8      magrittr_2.0.3    htmltools_0.5.2  \n",
            "[37] backports_1.4.1   scales_1.2.0      ellipsis_0.3.2    rvest_1.0.2      \n",
            "[41] assertthat_0.2.1  colorspace_2.0-3  utf8_1.2.2        stringi_1.7.6    \n",
            "[45] lazyeval_0.2.2    munsell_0.5.0     broom_0.8.0       crayon_1.5.1     \n"
          ]
        }
      ],
      "source": [
        "%%R\n",
        "sessionInfo()"
      ]
    }
  ],
  "metadata": {
    "accelerator": "GPU",
    "colab": {
      "collapsed_sections": [],
      "name": "CV_Data_Cleaning_and_Preparation.ipynb",
      "provenance": []
    },
    "kernelspec": {
      "display_name": "Python 3",
      "name": "python3"
    },
    "language_info": {
      "name": "python"
    }
  },
  "nbformat": 4,
  "nbformat_minor": 0
}